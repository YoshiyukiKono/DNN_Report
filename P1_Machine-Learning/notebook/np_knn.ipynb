{
 "cells": [
  {
   "cell_type": "markdown",
   "metadata": {},
   "source": [
    "# k近傍法"
   ]
  },
  {
   "cell_type": "code",
   "execution_count": 7,
   "metadata": {},
   "outputs": [],
   "source": [
    "%matplotlib inline\n",
    "import numpy as np\n",
    "import matplotlib.pyplot as plt\n",
    "from scipy import stats"
   ]
  },
  {
   "cell_type": "markdown",
   "metadata": {},
   "source": [
    "## 訓練データ生成"
   ]
  },
  {
   "cell_type": "code",
   "execution_count": 22,
   "metadata": {},
   "outputs": [],
   "source": [
    "def gen_data():\n",
    "    x0 = np.random.normal(size=50).reshape(-1, 2) - 1\n",
    "    x1 = np.random.normal(size=50).reshape(-1, 2) + 1.\n",
    "    x_train = np.concatenate([x0, x1])\n",
    "    y_train = np.concatenate([np.zeros(25), np.ones(25)]).astype(np.int)\n",
    "    return x_train, y_train"
   ]
  },
  {
   "cell_type": "code",
   "execution_count": 23,
   "metadata": {},
   "outputs": [
    {
     "data": {
      "text/plain": [
       "<matplotlib.collections.PathCollection at 0x239ab50c7f0>"
      ]
     },
     "execution_count": 23,
     "metadata": {},
     "output_type": "execute_result"
    },
    {
     "data": {
      "image/png": "[encoded data removed]",
      "text/plain": [
       "<Figure size 432x288 with 1 Axes>"
      ]
     },
     "metadata": {
      "needs_background": "light"
     },
     "output_type": "display_data"
    }
   ],
   "source": [
    "X_train, ys_train = gen_data()\n",
    "plt.scatter(X_train[:, 0], X_train[:, 1], c=ys_train)"
   ]
  },
  {
   "cell_type": "markdown",
   "metadata": {
    "collapsed": true
   },
   "source": [
    "## 学習"
   ]
  },
  {
   "cell_type": "code",
   "execution_count": 16,
   "metadata": {},
   "outputs": [
    {
     "data": {
      "text/plain": [
       "array([[-0.07382497, -1.21808705],\n",
       "       [-0.8450106 ,  1.09456205],\n",
       "       [ 0.36551024, -2.08181192],\n",
       "       [-0.75213342, -0.5670177 ],\n",
       "       [-0.95001128, -0.62252164],\n",
       "       [-0.38216377, -2.2608096 ],\n",
       "       [-1.95192427, -2.30931772],\n",
       "       [-1.43413616,  0.61098549],\n",
       "       [-0.5802028 , -2.61587796],\n",
       "       [-2.16026907, -1.26057838],\n",
       "       [-0.97085798, -1.58198926],\n",
       "       [-1.7592043 , -2.97245709],\n",
       "       [-0.46782846,  0.23480171],\n",
       "       [-1.3518584 , -1.43874891],\n",
       "       [-1.63535615, -0.49545463],\n",
       "       [-0.36433243, -1.62592404],\n",
       "       [-1.42867759, -2.22281673],\n",
       "       [-1.43434259, -1.15304716],\n",
       "       [-0.79390009, -0.39298452],\n",
       "       [-0.22067078, -1.15151297],\n",
       "       [-2.13059945, -0.97808935],\n",
       "       [-1.19586378, -2.04167633],\n",
       "       [-0.13450837, -0.9579909 ],\n",
       "       [-1.61329623, -0.8849247 ],\n",
       "       [ 0.85319259, -1.97058214],\n",
       "       [ 0.30111263,  2.11270434],\n",
       "       [ 0.46997982,  1.28405985],\n",
       "       [ 2.6823053 ,  1.38391834],\n",
       "       [ 0.39357467,  1.32434309],\n",
       "       [ 1.02387773,  1.84517052],\n",
       "       [ 0.83971822, -0.60141805],\n",
       "       [ 1.20566   ,  0.34133174],\n",
       "       [ 0.31029635,  1.57125196],\n",
       "       [ 1.6570828 ,  1.4019024 ],\n",
       "       [ 0.36014484,  0.98581431],\n",
       "       [ 2.00091322,  0.65738184],\n",
       "       [ 2.06912602,  0.33890871],\n",
       "       [ 1.20603158, -1.86412603],\n",
       "       [ 2.35537785, -1.24295033],\n",
       "       [ 4.12237939, -0.04897077],\n",
       "       [ 1.41143205,  1.82686733],\n",
       "       [ 2.3375247 ,  0.05771198],\n",
       "       [ 0.31581087,  0.78094716],\n",
       "       [ 2.66863147,  0.79551677],\n",
       "       [ 2.13067335,  0.58781343],\n",
       "       [-0.501143  ,  2.52895868],\n",
       "       [ 1.17524912,  1.31662002],\n",
       "       [ 1.89615289,  1.82032467],\n",
       "       [-0.28477168,  2.04556493],\n",
       "       [ 0.62850513,  0.55883801]])"
      ]
     },
     "execution_count": 16,
     "metadata": {},
     "output_type": "execute_result"
    }
   ],
   "source": [
    "X_train"
   ]
  },
  {
   "cell_type": "code",
   "execution_count": 24,
   "metadata": {},
   "outputs": [
    {
     "data": {
      "text/plain": [
       "array([0, 0, 0, 0, 0, 0, 0, 0, 0, 0, 0, 0, 0, 0, 0, 0, 0, 0, 0, 0, 0, 0,\n",
       "       0, 0, 0, 1, 1, 1, 1, 1, 1, 1, 1, 1, 1, 1, 1, 1, 1, 1, 1, 1, 1, 1,\n",
       "       1, 1, 1, 1, 1, 1])"
      ]
     },
     "execution_count": 24,
     "metadata": {},
     "output_type": "execute_result"
    }
   ],
   "source": [
    "ys_train"
   ]
  },
  {
   "cell_type": "markdown",
   "metadata": {},
   "source": [
    "陽に訓練ステップはない"
   ]
  },
  {
   "cell_type": "markdown",
   "metadata": {},
   "source": [
    "## 予測"
   ]
  },
  {
   "cell_type": "markdown",
   "metadata": {},
   "source": [
    "予測するデータ点との、距離が最も近い$k$個の、訓練データのラベルの最頻値を割り当てる"
   ]
  },
  {
   "cell_type": "code",
   "execution_count": 10,
   "metadata": {},
   "outputs": [],
   "source": [
    "def distance(x1, x2):\n",
    "    return np.sum((x1 - x2)**2, axis=1)\n",
    "\n",
    "def knc_predict(n_neighbors, x_train, y_train, X_test):\n",
    "    y_pred = np.empty(len(X_test), dtype=y_train.dtype)\n",
    "    for i, x in enumerate(X_test):\n",
    "        distances = distance(x, X_train)\n",
    "        nearest_index = distances.argsort()[:n_neighbors]\n",
    "        mode, _ = stats.mode(y_train[nearest_index])\n",
    "        y_pred[i] = mode\n",
    "    return y_pred\n",
    "\n",
    "def plt_resut(x_train, y_train, y_pred):\n",
    "    xx0, xx1 = np.meshgrid(np.linspace(-5, 5, 100), np.linspace(-5, 5, 100))\n",
    "    xx = np.array([xx0, xx1]).reshape(2, -1).T\n",
    "    plt.scatter(x_train[:, 0], x_train[:, 1], c=y_train)\n",
    "    plt.contourf(xx0, xx1, y_pred.reshape(100, 100).astype(dtype=np.float), alpha=0.2, levels=np.linspace(0, 1, 3))"
   ]
  },
  {
   "cell_type": "code",
   "execution_count": 11,
   "metadata": {},
   "outputs": [
    {
     "data": {
      "image/png": "[encoded data removed]",
      "text/plain": [
       "<Figure size 432x288 with 1 Axes>"
      ]
     },
     "metadata": {
      "needs_background": "light"
     },
     "output_type": "display_data"
    }
   ],
   "source": [
    "n_neighbors = 3\n",
    "\n",
    "xx0, xx1 = np.meshgrid(np.linspace(-5, 5, 100), np.linspace(-5, 5, 100))\n",
    "X_test = np.array([xx0, xx1]).reshape(2, -1).T\n",
    "\n",
    "y_pred = knc_predict(n_neighbors, X_train, ys_train, X_test)\n",
    "plt_resut(X_train, ys_train, y_pred)"
   ]
  },
  {
   "cell_type": "markdown",
   "metadata": {},
   "source": [
    "## sklearn実装"
   ]
  },
  {
   "cell_type": "code",
   "execution_count": 12,
   "metadata": {},
   "outputs": [
    {
     "data": {
      "image/png": "[encoded data removed]",
      "text/plain": [
       "<Figure size 432x288 with 1 Axes>"
      ]
     },
     "metadata": {
      "needs_background": "light"
     },
     "output_type": "display_data"
    }
   ],
   "source": [
    "from sklearn.neighbors import KNeighborsClassifier\n",
    "knc = KNeighborsClassifier(n_neighbors=n_neighbors).fit(X_train, ys_train)\n",
    "plt_resut(X_train, ys_train, knc.predict(X_test))"
   ]
  },
  {
   "cell_type": "code",
   "execution_count": 30,
   "metadata": {},
   "outputs": [
    {
     "data": {
      "text/plain": [
       "<matplotlib.collections.PathCollection at 0x239ab765e48>"
      ]
     },
     "execution_count": 30,
     "metadata": {},
     "output_type": "execute_result"
    },
    {
     "data": {
      "image/png": "[encoded data removed]",
      "text/plain": [
       "<Figure size 432x288 with 1 Axes>"
      ]
     },
     "metadata": {
      "needs_background": "light"
     },
     "output_type": "display_data"
    }
   ],
   "source": [
    "X_train = np.array([[0,0],[1,1], [2,2],[3,3], [4,4], [-4,-4]])\n",
    "ys_train = np.array([0,1,0,0,1,1])\n",
    "plt.scatter(X_train[:, 0], X_train[:, 1], c=ys_train)"
   ]
  },
  {
   "cell_type": "markdown",
   "metadata": {},
   "source": [
    "# 考察\n",
    "単純かつ極端なデータに対して、Ｎの変更により結果がどのように変わるかを確認する。"
   ]
  },
  {
   "cell_type": "code",
   "execution_count": 31,
   "metadata": {},
   "outputs": [
    {
     "data": {
      "image/png": "[encoded data removed]",
      "text/plain": [
       "<Figure size 432x288 with 1 Axes>"
      ]
     },
     "metadata": {
      "needs_background": "light"
     },
     "output_type": "display_data"
    }
   ],
   "source": [
    "n_neighbors = 3\n",
    "\n",
    "xx0, xx1 = np.meshgrid(np.linspace(-5, 5, 100), np.linspace(-5, 5, 100))\n",
    "X_test = np.array([xx0, xx1]).reshape(2, -1).T\n",
    "\n",
    "y_pred = knc_predict(n_neighbors, X_train, ys_train, X_test)\n",
    "plt_resut(X_train, ys_train, y_pred)"
   ]
  },
  {
   "cell_type": "code",
   "execution_count": 32,
   "metadata": {},
   "outputs": [
    {
     "data": {
      "image/png": "[encoded data removed]",
      "text/plain": [
       "<Figure size 432x288 with 1 Axes>"
      ]
     },
     "metadata": {
      "needs_background": "light"
     },
     "output_type": "display_data"
    }
   ],
   "source": [
    "n_neighbors = 2\n",
    "\n",
    "xx0, xx1 = np.meshgrid(np.linspace(-5, 5, 100), np.linspace(-5, 5, 100))\n",
    "X_test = np.array([xx0, xx1]).reshape(2, -1).T\n",
    "\n",
    "y_pred = knc_predict(n_neighbors, X_train, ys_train, X_test)\n",
    "plt_resut(X_train, ys_train, y_pred)"
   ]
  },
  {
   "cell_type": "code",
   "execution_count": 33,
   "metadata": {},
   "outputs": [
    {
     "data": {
      "image/png": "[encoded data removed]",
      "text/plain": [
       "<Figure size 432x288 with 1 Axes>"
      ]
     },
     "metadata": {
      "needs_background": "light"
     },
     "output_type": "display_data"
    }
   ],
   "source": [
    "n_neighbors = 1\n",
    "\n",
    "xx0, xx1 = np.meshgrid(np.linspace(-5, 5, 100), np.linspace(-5, 5, 100))\n",
    "X_test = np.array([xx0, xx1]).reshape(2, -1).T\n",
    "\n",
    "y_pred = knc_predict(n_neighbors, X_train, ys_train, X_test)\n",
    "plt_resut(X_train, ys_train, y_pred)"
   ]
  },
  {
   "cell_type": "code",
   "execution_count": 34,
   "metadata": {},
   "outputs": [
    {
     "data": {
      "image/png": "[encoded data removed]",
      "text/plain": [
       "<Figure size 432x288 with 1 Axes>"
      ]
     },
     "metadata": {
      "needs_background": "light"
     },
     "output_type": "display_data"
    }
   ],
   "source": [
    "n_neighbors = 4\n",
    "\n",
    "xx0, xx1 = np.meshgrid(np.linspace(-5, 5, 100), np.linspace(-5, 5, 100))\n",
    "X_test = np.array([xx0, xx1]).reshape(2, -1).T\n",
    "\n",
    "y_pred = knc_predict(n_neighbors, X_train, ys_train, X_test)\n",
    "plt_resut(X_train, ys_train, y_pred)"
   ]
  },
  {
   "cell_type": "code",
   "execution_count": null,
   "metadata": {},
   "outputs": [],
   "source": []
  }
 ],
 "metadata": {
  "kernelspec": {
   "display_name": "Python 3",
   "language": "python",
   "name": "python3"
  },
  "language_info": {
   "codemirror_mode": {
    "name": "ipython",
    "version": 3
   },
   "file_extension": ".py",
   "mimetype": "text/x-python",
   "name": "python",
   "nbconvert_exporter": "python",
   "pygments_lexer": "ipython3",
   "version": "3.6.12"
  }
 },
 "nbformat": 4,
 "nbformat_minor": 2
}
