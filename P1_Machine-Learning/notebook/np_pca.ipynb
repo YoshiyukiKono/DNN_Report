{
 "cells": [
  {
   "cell_type": "markdown",
   "metadata": {},
   "source": [
    "# 主成分分析"
   ]
  },
  {
   "cell_type": "code",
   "execution_count": 132,
   "metadata": {},
   "outputs": [],
   "source": [
    "%matplotlib inline\n",
    "import numpy as np\n",
    "import matplotlib.pyplot as plt"
   ]
  },
  {
   "cell_type": "markdown",
   "metadata": {},
   "source": [
    "## 訓練データ生成"
   ]
  },
  {
   "cell_type": "code",
   "execution_count": 133,
   "metadata": {},
   "outputs": [],
   "source": [
    "n_sample = 100\n",
    "\n",
    "def gen_data(n_sample):\n",
    "    mean = [0, 0]\n",
    "    cov = [[2, 0.7], [0.7, 1]]\n",
    "    return np.random.multivariate_normal(mean, cov, n_sample)\n",
    "\n",
    "def plt_data(X):\n",
    "    plt.scatter(X[:, 0], X[:, 1])\n",
    "    plt.xlim(-5, 5)\n",
    "    plt.ylim(-5, 5)"
   ]
  },
  {
   "cell_type": "code",
   "execution_count": 134,
   "metadata": {},
   "outputs": [
    {
     "data": {
      "image/png": "[encoded data removed]",
      "text/plain": [
       "<Figure size 432x288 with 1 Axes>"
      ]
     },
     "metadata": {
      "needs_background": "light"
     },
     "output_type": "display_data"
    }
   ],
   "source": [
    "X = gen_data(n_sample)\n",
    "plt_data(X)"
   ]
  },
  {
   "cell_type": "markdown",
   "metadata": {},
   "source": [
    "## 学習"
   ]
  },
  {
   "cell_type": "markdown",
   "metadata": {},
   "source": [
    "訓練データ$X = [\\boldsymbol{x}_{1}, \\boldsymbol{x}_{2}, ..., \\boldsymbol{x}_{n}]^{\\mathrm{T}}$に対して$\\mathbb{E}[\\boldsymbol{x}] = \\boldsymbol{0}$となるように変換する。\n",
    "\n",
    "すると、不偏共分散行列は$Var[\\boldsymbol{x}] = \\frac{1}{n-1} X^{\\mathrm{T}}X$と書ける。\n",
    "\n",
    "$Var[\\boldsymbol{x}]$を固有値分解し、固有値の大きい順に対応する固有ベクトルを第1主成分($\\boldsymbol{w}_{1}$), 第2主成分($\\boldsymbol{w}_{2}$), ...とよぶ。"
   ]
  },
  {
   "cell_type": "code",
   "execution_count": null,
   "metadata": {},
   "outputs": [],
   "source": []
  },
  {
   "cell_type": "code",
   "execution_count": 135,
   "metadata": {
    "scrolled": true
   },
   "outputs": [],
   "source": [
    "n_components=2\n",
    "\n",
    "def get_moments(X):\n",
    "    mean = X.mean(axis=0)\n",
    "    stan_cov = np.dot((X - mean).T, X - mean) / (len(X) - 1)\n",
    "    return mean, stan_cov\n",
    "    \n",
    "def get_components(eigenvectors, n_components):\n",
    "#     W = eigenvectors[:, -n_components:]\n",
    "#     return W.T[::-1]\n",
    "    W = eigenvectors[:, ::-1][:, :n_components]\n",
    "    return W.T\n",
    "\n",
    "def plt_result(X, first, second):\n",
    "    plt.scatter(X[:, 0], X[:, 1])\n",
    "    plt.xlim(-5, 5)\n",
    "    plt.ylim(-5, 5)\n",
    "    # 第１主成分\n",
    "    plt.quiver(0, 0, first[0], first[1], width=0.01, scale=6, color='red')\n",
    "    # 第２主成分\n",
    "    plt.quiver(0, 0, second[0], second[1], width=0.01, scale=6, color='green')"
   ]
  },
  {
   "cell_type": "markdown",
   "metadata": {},
   "source": [
    "ここで与えられたコードでの結果は、下記の図を見る限り、第１主成分（赤）と第2主成分（緑）が逆になっているようにみえる。\n",
    "\n",
    "（後半でsklearnの実装と比較）"
   ]
  },
  {
   "cell_type": "code",
   "execution_count": 136,
   "metadata": {},
   "outputs": [
    {
     "data": {
      "image/png": "[encoded data removed]",
      "text/plain": [
       "<Figure size 432x288 with 1 Axes>"
      ]
     },
     "metadata": {
      "needs_background": "light"
     },
     "output_type": "display_data"
    }
   ],
   "source": [
    "#分散共分散行列を標準化\n",
    "meean, stan_cov = get_moments(X)\n",
    "#固有値と固有ベクトルを計算\n",
    "eigenvalues, eigenvectors = np.linalg.eigh(stan_cov)\n",
    "components = get_components(eigenvectors, n_components)\n",
    "\n",
    "plt_result(X, eigenvectors[0, :], eigenvectors[1, :])"
   ]
  },
  {
   "cell_type": "code",
   "execution_count": 137,
   "metadata": {},
   "outputs": [
    {
     "data": {
      "text/plain": [
       "array([[ 0.38346175, -0.92355676],\n",
       "       [-0.92355676, -0.38346175]])"
      ]
     },
     "execution_count": 137,
     "metadata": {},
     "output_type": "execute_result"
    }
   ],
   "source": [
    "eigenvectors"
   ]
  },
  {
   "cell_type": "code",
   "execution_count": 138,
   "metadata": {},
   "outputs": [
    {
     "data": {
      "text/plain": [
       "array([0.76911777, 2.0301928 ])"
      ]
     },
     "execution_count": 138,
     "metadata": {},
     "output_type": "execute_result"
    }
   ],
   "source": [
    "eigenvalues"
   ]
  },
  {
   "cell_type": "markdown",
   "metadata": {},
   "source": [
    "上記の固有値を見ると、大小関係が配慮されていないようだ。"
   ]
  },
  {
   "cell_type": "markdown",
   "metadata": {},
   "source": [
    "## 変換（射影）"
   ]
  },
  {
   "cell_type": "markdown",
   "metadata": {},
   "source": [
    "元のデータを$m$次元に変換(射影)するときは行列$W$を$W=[\\boldsymbol{w}_{1}, \\boldsymbol{w}_{2}, \\cdots, \\boldsymbol{w}_{m}]$とし、データ点$\\boldsymbol{x}$を$\\boldsymbol{z} = W^{\\mathrm{T}} \\boldsymbol{x}$によって変換(射影)する。\n",
    "\n",
    "よって、データ$X$に対しては$Z = X^{\\mathrm{T}}W$によって変換する。"
   ]
  },
  {
   "cell_type": "code",
   "execution_count": 139,
   "metadata": {},
   "outputs": [],
   "source": [
    "def transform_by_pca(X, pca):\n",
    "    mean = X.mean(axis=0)\n",
    "    return np.dot(X-mean, components)"
   ]
  },
  {
   "cell_type": "markdown",
   "metadata": {},
   "source": [
    "与えられた上記のコードは、外部の変数(`components`)を利用しており、不適切に思われる(引数`pca`未使用)。以下修正版の挙動を確認する。"
   ]
  },
  {
   "cell_type": "code",
   "execution_count": 140,
   "metadata": {},
   "outputs": [],
   "source": [
    "def transform_by_pca_fixed(X, pca):\n",
    "    mean = X.mean(axis=0)\n",
    "    return np.dot(X-mean, pca)"
   ]
  },
  {
   "cell_type": "code",
   "execution_count": 141,
   "metadata": {},
   "outputs": [
    {
     "data": {
      "text/plain": [
       "(-5.0, 5.0)"
      ]
     },
     "execution_count": 141,
     "metadata": {},
     "output_type": "execute_result"
    },
    {
     "data": {
      "image/png": "[encoded data removed]",
      "text/plain": [
       "<Figure size 432x288 with 1 Axes>"
      ]
     },
     "metadata": {
      "needs_background": "light"
     },
     "output_type": "display_data"
    }
   ],
   "source": [
    "Z = transform_by_pca(X, components.T)\n",
    "plt.scatter(Z[:, 0], Z[:, 1])\n",
    "plt.xlim(-5, 5)\n",
    "plt.ylim(-5, 5)"
   ]
  },
  {
   "cell_type": "code",
   "execution_count": 142,
   "metadata": {},
   "outputs": [
    {
     "data": {
      "text/plain": [
       "(-5.0, 5.0)"
      ]
     },
     "execution_count": 142,
     "metadata": {},
     "output_type": "execute_result"
    },
    {
     "data": {
      "image/png": "[encoded data removed]",
      "text/plain": [
       "<Figure size 432x288 with 1 Axes>"
      ]
     },
     "metadata": {
      "needs_background": "light"
     },
     "output_type": "display_data"
    }
   ],
   "source": [
    "Z = transform_by_pca_fixed(X, components.T)\n",
    "plt.scatter(Z[:, 0], Z[:, 1])\n",
    "plt.xlim(-5, 5)\n",
    "plt.ylim(-5, 5)"
   ]
  },
  {
   "cell_type": "markdown",
   "metadata": {
    "collapsed": true
   },
   "source": [
    "## 逆変換"
   ]
  },
  {
   "cell_type": "markdown",
   "metadata": {},
   "source": [
    "射影されたデータ点$\\boldsymbol{z}$を元のデータ空間へ逆変換するときは$\\bar{\\boldsymbol{x}} = (W^{\\mathrm{T}})^{-1} \\boldsymbol{z} = W \\boldsymbol{z}$によって変換する。\n",
    "\n",
    "よって、射影されたデータ$Z$に対しては$\\bar{X} = ZW^{\\mathrm{T}}$によって変換する。"
   ]
  },
  {
   "cell_type": "code",
   "execution_count": 143,
   "metadata": {},
   "outputs": [],
   "source": [
    "mean = X.mean(axis=0)\n",
    "X_ = np.dot(Z, components.T) + mean"
   ]
  },
  {
   "cell_type": "code",
   "execution_count": 144,
   "metadata": {},
   "outputs": [
    {
     "data": {
      "text/plain": [
       "(-5.0, 5.0)"
      ]
     },
     "execution_count": 144,
     "metadata": {},
     "output_type": "execute_result"
    },
    {
     "data": {
      "image/png": "[encoded data removed]",
      "text/plain": [
       "<Figure size 432x288 with 1 Axes>"
      ]
     },
     "metadata": {
      "needs_background": "light"
     },
     "output_type": "display_data"
    }
   ],
   "source": [
    "plt.scatter(X_[:, 0], X_[:, 1])\n",
    "plt.xlim(-5, 5)\n",
    "plt.ylim(-5, 5)"
   ]
  },
  {
   "cell_type": "markdown",
   "metadata": {},
   "source": [
    "## skleanによる実装"
   ]
  },
  {
   "cell_type": "code",
   "execution_count": 145,
   "metadata": {},
   "outputs": [
    {
     "data": {
      "text/plain": [
       "PCA(n_components=2)"
      ]
     },
     "execution_count": 145,
     "metadata": {},
     "output_type": "execute_result"
    }
   ],
   "source": [
    "from sklearn.decomposition import PCA\n",
    "pca = PCA(n_components=2)\n",
    "pca.fit(X)"
   ]
  },
  {
   "cell_type": "code",
   "execution_count": 146,
   "metadata": {},
   "outputs": [
    {
     "name": "stdout",
     "output_type": "stream",
     "text": [
      "components: [[-0.92355676 -0.38346175]\n",
      " [-0.38346175  0.92355676]]\n",
      "mean: [0.07856242 0.14391024]\n",
      "covariance: [[1.84476065 0.44660807]\n",
      " [0.44660807 0.95454992]]\n"
     ]
    }
   ],
   "source": [
    "print('components: {}'.format(pca.components_))\n",
    "print('mean: {}'.format(pca.mean_))\n",
    "print('covariance: {}'.format(pca.get_covariance())) "
   ]
  },
  {
   "cell_type": "code",
   "execution_count": 147,
   "metadata": {},
   "outputs": [
    {
     "data": {
      "image/png": "[encoded data removed]",
      "text/plain": [
       "<Figure size 432x288 with 1 Axes>"
      ]
     },
     "metadata": {
      "needs_background": "light"
     },
     "output_type": "display_data"
    }
   ],
   "source": [
    "plt_result(X, pca.components_[0, :], pca.components_[1, :])"
   ]
  },
  {
   "cell_type": "code",
   "execution_count": 148,
   "metadata": {},
   "outputs": [
    {
     "name": "stdout",
     "output_type": "stream",
     "text": [
      "[-0.92355676 -0.38346175]\n",
      "[-0.38346175  0.92355676]\n"
     ]
    }
   ],
   "source": [
    "# 第１主成分\n",
    "print(pca.components_[0, :])\n",
    "# 第２主成分\n",
    "print(pca.components_[1, :])"
   ]
  },
  {
   "cell_type": "code",
   "execution_count": 149,
   "metadata": {},
   "outputs": [
    {
     "name": "stdout",
     "output_type": "stream",
     "text": [
      "components: [[-0.92355676 -0.38346175]\n",
      " [-0.38346175  0.92355676]]\n",
      "mean: [0.07856242 0.14391024]\n",
      "covariance: [[1.84476065 0.44660807]\n",
      " [0.44660807 0.95454992]]\n"
     ]
    },
    {
     "data": {
      "image/png": "[encoded data removed]",
      "text/plain": [
       "<Figure size 432x288 with 1 Axes>"
      ]
     },
     "metadata": {
      "needs_background": "light"
     },
     "output_type": "display_data"
    }
   ],
   "source": [
    "from sklearn.decomposition import PCA\n",
    "pca = PCA(n_components=2)\n",
    "pca.fit(X)\n",
    "plt_result(X, pca.components_[0, :], pca.components_[1, :])\n",
    "\n",
    "print('components: {}'.format(pca.components_))\n",
    "print('mean: {}'.format(pca.mean_))\n",
    "print('covariance: {}'.format(pca.get_covariance()))\n"
   ]
  },
  {
   "cell_type": "markdown",
   "metadata": {},
   "source": [
    "# 考察\n",
    "\n",
    "ランダムではないデータを用いて、 PCAの全体像をつかむ。"
   ]
  },
  {
   "cell_type": "code",
   "execution_count": 150,
   "metadata": {},
   "outputs": [
    {
     "data": {
      "text/plain": [
       "array([[-2,  2],\n",
       "       [-1, -1],\n",
       "       [ 0,  0],\n",
       "       [ 1,  1],\n",
       "       [ 2, -2]])"
      ]
     },
     "execution_count": 150,
     "metadata": {},
     "output_type": "execute_result"
    }
   ],
   "source": [
    "X = np.array([[-2,2],[-1,-1],[0,0],[1,1],[2,-2]])\n",
    "X"
   ]
  },
  {
   "cell_type": "code",
   "execution_count": 151,
   "metadata": {},
   "outputs": [
    {
     "data": {
      "image/png": "[encoded data removed]",
      "text/plain": [
       "<Figure size 432x288 with 1 Axes>"
      ]
     },
     "metadata": {
      "needs_background": "light"
     },
     "output_type": "display_data"
    }
   ],
   "source": [
    "plt_data(X)"
   ]
  },
  {
   "cell_type": "code",
   "execution_count": 152,
   "metadata": {},
   "outputs": [
    {
     "data": {
      "image/png": "[encoded data removed]",
      "text/plain": [
       "<Figure size 432x288 with 1 Axes>"
      ]
     },
     "metadata": {
      "needs_background": "light"
     },
     "output_type": "display_data"
    }
   ],
   "source": [
    "#分散共分散行列を標準化\n",
    "meean, stan_cov = get_moments(X)\n",
    "#固有値と固有ベクトルを計算\n",
    "eigenvalues, eigenvectors = np.linalg.eigh(stan_cov)\n",
    "components = get_components(eigenvectors, n_components)\n",
    "\n",
    "plt_result(X, eigenvectors[0, :], eigenvectors[1, :])"
   ]
  },
  {
   "cell_type": "code",
   "execution_count": 153,
   "metadata": {},
   "outputs": [
    {
     "data": {
      "text/plain": [
       "array([[-0.70710678, -0.70710678],\n",
       "       [-0.70710678,  0.70710678]])"
      ]
     },
     "execution_count": 153,
     "metadata": {},
     "output_type": "execute_result"
    }
   ],
   "source": [
    "eigenvectors"
   ]
  },
  {
   "cell_type": "code",
   "execution_count": 154,
   "metadata": {},
   "outputs": [
    {
     "data": {
      "text/plain": [
       "array([-0.70710678, -0.70710678])"
      ]
     },
     "execution_count": 154,
     "metadata": {},
     "output_type": "execute_result"
    }
   ],
   "source": [
    "eigenvectors[0, :]"
   ]
  },
  {
   "cell_type": "code",
   "execution_count": 155,
   "metadata": {},
   "outputs": [
    {
     "data": {
      "text/plain": [
       "array([1., 4.])"
      ]
     },
     "execution_count": 155,
     "metadata": {},
     "output_type": "execute_result"
    }
   ],
   "source": [
    "eigenvalues"
   ]
  },
  {
   "cell_type": "markdown",
   "metadata": {},
   "source": [
    "eigenvalueの大きいほう(4)が第1主成分(`[-0.70710678,  0.70710678]`)であることに留意。"
   ]
  },
  {
   "cell_type": "code",
   "execution_count": 156,
   "metadata": {},
   "outputs": [
    {
     "data": {
      "image/png": "[encoded data removed]",
      "text/plain": [
       "<Figure size 432x288 with 1 Axes>"
      ]
     },
     "metadata": {
      "needs_background": "light"
     },
     "output_type": "display_data"
    }
   ],
   "source": [
    "plt_result(X, np.array([-0.70710678, 0.70710678]), np.array([-0.70710678, -0.70710678]))"
   ]
  },
  {
   "cell_type": "code",
   "execution_count": 157,
   "metadata": {},
   "outputs": [
    {
     "data": {
      "image/png": "[encoded data removed]",
      "text/plain": [
       "<Figure size 432x288 with 1 Axes>"
      ]
     },
     "metadata": {
      "needs_background": "light"
     },
     "output_type": "display_data"
    }
   ],
   "source": [
    "plt_result(X, np.array([0.70710678, -0.70710678]), np.array([0.70710678, 0.70710678]))"
   ]
  },
  {
   "cell_type": "code",
   "execution_count": 158,
   "metadata": {},
   "outputs": [
    {
     "data": {
      "text/plain": [
       "0.7071067811865475"
      ]
     },
     "execution_count": 158,
     "metadata": {},
     "output_type": "execute_result"
    }
   ],
   "source": [
    "import math\n",
    "root_two = math.sqrt(2)\n",
    "1/root_two"
   ]
  },
  {
   "cell_type": "code",
   "execution_count": 159,
   "metadata": {},
   "outputs": [
    {
     "data": {
      "text/plain": [
       "(-5.0, 5.0)"
      ]
     },
     "execution_count": 159,
     "metadata": {},
     "output_type": "execute_result"
    },
    {
     "data": {
      "image/png": "[encoded data removed]",
      "text/plain": [
       "<Figure size 432x288 with 1 Axes>"
      ]
     },
     "metadata": {
      "needs_background": "light"
     },
     "output_type": "display_data"
    }
   ],
   "source": [
    "Z = transform_by_pca(X, components.T)\n",
    "plt.scatter(Z[:, 0], Z[:, 1])\n",
    "plt.xlim(-5, 5)\n",
    "plt.ylim(-5, 5)"
   ]
  },
  {
   "cell_type": "code",
   "execution_count": 160,
   "metadata": {},
   "outputs": [
    {
     "data": {
      "text/plain": [
       "array([[ 0.        , -2.82842712],\n",
       "       [ 1.41421356,  0.        ],\n",
       "       [ 0.        ,  0.        ],\n",
       "       [-1.41421356,  0.        ],\n",
       "       [ 0.        ,  2.82842712]])"
      ]
     },
     "execution_count": 160,
     "metadata": {},
     "output_type": "execute_result"
    }
   ],
   "source": [
    "Z"
   ]
  },
  {
   "cell_type": "markdown",
   "metadata": {},
   "source": [
    "上記の射影では、主成分の並びの影響を受けているので、以下に想定される射影を実装してみる。"
   ]
  },
  {
   "cell_type": "code",
   "execution_count": 161,
   "metadata": {},
   "outputs": [
    {
     "data": {
      "text/plain": [
       "(-5.0, 5.0)"
      ]
     },
     "execution_count": 161,
     "metadata": {},
     "output_type": "execute_result"
    },
    {
     "data": {
      "image/png": "[encoded data removed]",
      "text/plain": [
       "<Figure size 432x288 with 1 Axes>"
      ]
     },
     "metadata": {
      "needs_background": "light"
     },
     "output_type": "display_data"
    }
   ],
   "source": [
    "eigenvectors_custom = np.array([[1/math.sqrt(2), -1/math.sqrt(2)],[1/math.sqrt(2), 1/math.sqrt(2)]])\n",
    "components_custom = get_components(eigenvectors_custom, 2)\n",
    "Z_custom = transform_by_pca_fixed(X, components_custom.T)\n",
    "plt.scatter(Z_custom[:, 0], Z_custom[:, 1])\n",
    "plt.xlim(-5, 5)\n",
    "plt.ylim(-5, 5)"
   ]
  },
  {
   "cell_type": "code",
   "execution_count": 162,
   "metadata": {},
   "outputs": [
    {
     "data": {
      "text/plain": [
       "array([[ 2.82842712,  0.        ],\n",
       "       [ 0.        , -1.41421356],\n",
       "       [ 0.        ,  0.        ],\n",
       "       [ 0.        ,  1.41421356],\n",
       "       [-2.82842712,  0.        ]])"
      ]
     },
     "execution_count": 162,
     "metadata": {},
     "output_type": "execute_result"
    }
   ],
   "source": [
    "Z_custom"
   ]
  },
  {
   "cell_type": "markdown",
   "metadata": {},
   "source": [
    "コンピュータの計算結果（小数点表示）と背後にある計算ロジックとの関連を確認。"
   ]
  },
  {
   "cell_type": "code",
   "execution_count": 163,
   "metadata": {},
   "outputs": [],
   "source": [
    "root_two = np.sqrt(2)"
   ]
  },
  {
   "cell_type": "code",
   "execution_count": 164,
   "metadata": {},
   "outputs": [
    {
     "data": {
      "text/plain": [
       "1.4142135623730951"
      ]
     },
     "execution_count": 164,
     "metadata": {},
     "output_type": "execute_result"
    }
   ],
   "source": [
    "root_two"
   ]
  },
  {
   "cell_type": "code",
   "execution_count": 165,
   "metadata": {},
   "outputs": [
    {
     "data": {
      "text/plain": [
       "2.8284271247461903"
      ]
     },
     "execution_count": 165,
     "metadata": {},
     "output_type": "execute_result"
    }
   ],
   "source": [
    "2*root_two"
   ]
  },
  {
   "cell_type": "markdown",
   "metadata": {},
   "source": [
    "## sklearnによる実装"
   ]
  },
  {
   "cell_type": "code",
   "execution_count": 166,
   "metadata": {},
   "outputs": [
    {
     "data": {
      "text/plain": [
       "PCA(n_components=2)"
      ]
     },
     "execution_count": 166,
     "metadata": {},
     "output_type": "execute_result"
    }
   ],
   "source": [
    "from sklearn.decomposition import PCA\n",
    "pca = PCA(n_components=2)\n",
    "pca.fit(X)"
   ]
  },
  {
   "cell_type": "code",
   "execution_count": 167,
   "metadata": {},
   "outputs": [
    {
     "data": {
      "image/png": "[encoded data removed]",
      "text/plain": [
       "<Figure size 432x288 with 1 Axes>"
      ]
     },
     "metadata": {
      "needs_background": "light"
     },
     "output_type": "display_data"
    }
   ],
   "source": [
    "plt_result(X, pca.components_[0, :], pca.components_[1, :])"
   ]
  },
  {
   "cell_type": "code",
   "execution_count": 168,
   "metadata": {},
   "outputs": [
    {
     "name": "stdout",
     "output_type": "stream",
     "text": [
      "[-0.70710678  0.70710678]\n",
      "[-0.70710678 -0.70710678]\n"
     ]
    }
   ],
   "source": [
    "# 第１主成分\n",
    "print(pca.components_[0, :])\n",
    "# 第２主成分\n",
    "print(pca.components_[1, :])"
   ]
  },
  {
   "cell_type": "code",
   "execution_count": 169,
   "metadata": {},
   "outputs": [
    {
     "name": "stdout",
     "output_type": "stream",
     "text": [
      "[[-0.70710678  0.70710678]\n",
      " [-0.70710678 -0.70710678]]\n"
     ]
    }
   ],
   "source": [
    "print(pca.components_)"
   ]
  },
  {
   "cell_type": "code",
   "execution_count": 170,
   "metadata": {},
   "outputs": [
    {
     "data": {
      "text/plain": [
       "array([[ 0.70710678, -0.70710678],\n",
       "       [ 0.70710678,  0.70710678]])"
      ]
     },
     "execution_count": 170,
     "metadata": {},
     "output_type": "execute_result"
    }
   ],
   "source": [
    "eigenvectors_custom = np.array([[1/math.sqrt(2),-1/math.sqrt(2)],[1/math.sqrt(2),1/math.sqrt(2)]])\n",
    "eigenvectors_custom"
   ]
  }
 ],
 "metadata": {
  "kernelspec": {
   "display_name": "Python 3",
   "language": "python",
   "name": "python3"
  },
  "language_info": {
   "codemirror_mode": {
    "name": "ipython",
    "version": 3
   },
   "file_extension": ".py",
   "mimetype": "text/x-python",
   "name": "python",
   "nbconvert_exporter": "python",
   "pygments_lexer": "ipython3",
   "version": "3.6.12"
  }
 },
 "nbformat": 4,
 "nbformat_minor": 2
}
