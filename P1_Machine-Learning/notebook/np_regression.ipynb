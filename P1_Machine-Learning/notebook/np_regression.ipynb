{
 "cells": [
  {
   "cell_type": "markdown",
   "metadata": {},
   "source": [
    "# 回帰分析"
   ]
  },
  {
   "cell_type": "code",
   "execution_count": 1,
   "metadata": {},
   "outputs": [],
   "source": [
    "%matplotlib inline\n",
    "import numpy as np\n",
    "import matplotlib.pyplot as plt"
   ]
  },
  {
   "cell_type": "markdown",
   "metadata": {},
   "source": [
    "# 単回帰"
   ]
  },
  {
   "cell_type": "markdown",
   "metadata": {},
   "source": [
    "## 訓練データ生成"
   ]
  },
  {
   "cell_type": "code",
   "execution_count": 2,
   "metadata": {},
   "outputs": [],
   "source": [
    "n_sample = 100\n",
    "var = .2\n",
    "\n",
    "def linear_func(x):\n",
    "    return 2 * x + 5\n",
    "\n",
    "def add_noise(y_true, var):\n",
    "    return y_true + np.random.normal(scale=var, size=y_true.shape)\n",
    "\n",
    "def plt_result(xs_train, ys_true, ys_train):\n",
    "    plt.scatter(xs_train, ys_train, facecolor=\"none\", edgecolor=\"b\", s=50,  label=\"training data\")\n",
    "    plt.plot(xs_train, ys_true, label=\"$2 x + 5$\")\n",
    "    plt.legend()"
   ]
  },
  {
   "cell_type": "code",
   "execution_count": 3,
   "metadata": {},
   "outputs": [
    {
     "name": "stdout",
     "output_type": "stream",
     "text": [
      "xs: (100,)\n",
      "ys_true: (100,)\n",
      "ys: (100,)\n"
     ]
    },
    {
     "data": {
      "image/png": "[encoded data removed]",
      "text/plain": [
       "<Figure size 432x288 with 1 Axes>"
      ]
     },
     "metadata": {
      "needs_background": "light"
     },
     "output_type": "display_data"
    }
   ],
   "source": [
    "#データの作成\n",
    "xs = np.linspace(0, 1, n_sample)\n",
    "ys_true = linear_func(xs)\n",
    "ys = add_noise(ys_true, var)\n",
    "\n",
    "print(\"xs: {}\".format(xs.shape))\n",
    "print(\"ys_true: {}\".format(ys_true.shape))\n",
    "print(\"ys: {}\".format(ys.shape))\n",
    "\n",
    "#結果の描画\n",
    "plt_result(xs, ys_true, ys)"
   ]
  },
  {
   "cell_type": "markdown",
   "metadata": {},
   "source": [
    "## 学習"
   ]
  },
  {
   "cell_type": "markdown",
   "metadata": {},
   "source": [
    "１次関数$y(x) = a x + b$における、$a$と$b$を求める。\n",
    "\n",
    "訓練データ$X = [x_{1}, x_{2}, ..., x_{n}]^{\\mathrm{T}}, \\boldsymbol{y} = [y_{1}, y_{2}, ..., y_{n}]^{\\mathrm{T}}$に対して、最小化する目的関数は$L = \\sum_{i=1}^{n} \\left( y_{i} - (a x_{i} + b) \\right)^2$と書け、\n",
    "\n",
    "$\\frac{\\partial L}{\\partial a} = -2\\sum_{i=1}^{n} \\left( y_{i} - (a x_{i} + b) \\right) x_{i} = 0$\n",
    "\n",
    "$\\frac{\\partial L}{\\partial b} = -2\\sum_{i=1}^{n} \\left( y_{i} - (a x_{i} + b) \\right) = 0 \\cdots (1)$\n",
    "\n",
    "より、目的関数を最小にする$a, b$は以下のように求まる。\n",
    "\n",
    "\\begin{eqnarray}\n",
    "\\left( \n",
    "\\begin{array}{cc}\n",
    "\\sum_{i=1}^{n} x_{i}^{2} & \\sum_{i=1}^{n} x_{i} \\\\\n",
    "\\sum_{i=1}^{n} x_{i} & n\n",
    "\\end{array}\n",
    "\\right)\n",
    "\\left( \n",
    "\\begin{array}{cc}\n",
    "\\hat{a} \\\\\n",
    "\\hat{b}  \n",
    "\\end{array}\n",
    "\\right)\n",
    "&=&\n",
    "\\left( \n",
    "\\begin{array}{cc}\n",
    "\\sum_{i=1}^{n} x_{i} y_{i} \\\\\n",
    "\\sum_{i=1}^{n} y_{i}  \n",
    "\\end{array}\n",
    "\\right) \\\\ \n",
    "\\left( \n",
    "\\begin{array}{cc}\n",
    "\\hat{a} \\\\\n",
    "\\hat{b}  \n",
    "\\end{array}\n",
    "\\right)\n",
    "&=&\n",
    "\\frac{1}{n \\sum_{i=1}^{n} x_{i}^{2} - (\\sum_{i=1}^{n} x_{i})^{2}}\n",
    "\\left( \n",
    "\\begin{array}{cc}\n",
    "n & -\\sum_{i=1}^{n} x_{i} \\\\\n",
    "-\\sum_{i=1}^{n} x_{i} & \\sum_{i=1}^{n} x_{i}^{2}\n",
    "\\end{array}\n",
    "\\right)\n",
    "\\left( \n",
    "\\begin{array}{cc}\n",
    "\\sum_{i=1}^{n} x_{i} y_{i} \\\\\n",
    "\\sum_{i=1}^{n} y_{i}  \n",
    "\\end{array}\n",
    "\\right) \\\\\n",
    "&=&\n",
    "\\frac{1}{n \\sum_{i=1}^{n} x_{i}^{2} - (\\sum_{i=1}^{n} x_{i})^{2}}\n",
    "\\left( \n",
    "\\begin{array}{cc}\n",
    "n \\sum_{i=1}^{n} x_{i} y_{i} - \\sum_{i=1}^{n} x_{i} \\sum_{i=1}^{n} y_{i}\\\\\n",
    "\\sum_{i=1}^{n} x_{i}^{2} \\sum_{i=1}^{n} y_{i} -\\sum_{i=1}^{n} x_{i} \\sum_{i=1}^{n} x_{i} y_{i}\n",
    "\\end{array}\n",
    "\\right) \\cdots (2)\n",
    "\\end{eqnarray}\n",
    "\n",
    "(1), (2)から$\\hat{a} = \\text{Cov}[x, y] / \\text{Var}[x], \\hat{b} = \\mu_{y} - \\hat{a} \\mu_{x}$で求める。"
   ]
  },
  {
   "cell_type": "code",
   "execution_count": 4,
   "metadata": {},
   "outputs": [
    {
     "name": "stdout",
     "output_type": "stream",
     "text": [
      "cov: [[0.08501684 0.17636093]\n",
      " [0.17636093 0.41107176]]\n",
      "coef: 2.0744236534164933\n",
      "intercept: 4.933432288290376\n"
     ]
    }
   ],
   "source": [
    "#numpy実装の回帰\n",
    "def train(xs, ys):\n",
    "    cov = np.cov(xs, ys, ddof=0)\n",
    "    a = cov[0, 1] / cov[0, 0]\n",
    "    b = np.mean(ys) - a * np.mean(xs)\n",
    "    return cov, a, b\n",
    "\n",
    "cov, a, b = train(xs, ys)\n",
    "print(\"cov: {}\".format(cov))\n",
    "print(\"coef: {}\".format(a))\n",
    "print(\"intercept: {}\".format(b))"
   ]
  },
  {
   "cell_type": "code",
   "execution_count": 5,
   "metadata": {},
   "outputs": [
    {
     "name": "stdout",
     "output_type": "stream",
     "text": [
      "coef_: [[2.07442365]]\n",
      "intercept_: [4.93343229]\n"
     ]
    }
   ],
   "source": [
    "#skl実装の回帰\n",
    "from sklearn.linear_model import LinearRegression\n",
    "model = LinearRegression()\n",
    "reg = model.fit(xs.reshape(-1, 1), ys.reshape(-1, 1))\n",
    "\n",
    "print(\"coef_: {}\".format(reg.coef_))\n",
    "print(\"intercept_: {}\".format(reg.intercept_))"
   ]
  },
  {
   "cell_type": "markdown",
   "metadata": {},
   "source": [
    "## 予測"
   ]
  },
  {
   "cell_type": "markdown",
   "metadata": {},
   "source": [
    "入力に対する値を$y(x) = a x + b$で予測する"
   ]
  },
  {
   "cell_type": "code",
   "execution_count": 6,
   "metadata": {},
   "outputs": [
    {
     "data": {
      "image/png": "[encoded data removed]",
      "text/plain": [
       "<Figure size 432x288 with 1 Axes>"
      ]
     },
     "metadata": {
      "needs_background": "light"
     },
     "output_type": "display_data"
    }
   ],
   "source": [
    "xs_new = np.linspace(0, 1, n_sample)\n",
    "ys_pred = a * xs_new + b\n",
    "\n",
    "plt.scatter(xs, ys, facecolor=\"none\", edgecolor=\"b\", s=50, label=\"training data\")\n",
    "plt.plot(xs_new, ys_true, label=\"$2 x + 5$\")\n",
    "plt.plot(xs_new, ys_pred, label=\"prediction (a={:.2}, b={:.2})\".format(a, b))\n",
    "plt.legend()\n",
    "plt.show()"
   ]
  },
  {
   "cell_type": "markdown",
   "metadata": {},
   "source": [
    "# 多項式回帰"
   ]
  },
  {
   "cell_type": "markdown",
   "metadata": {},
   "source": [
    "## 訓練データ生成"
   ]
  },
  {
   "cell_type": "code",
   "execution_count": 7,
   "metadata": {},
   "outputs": [],
   "source": [
    "n_sample = 10\n",
    "var = .25\n",
    "\n",
    "def sin_func(x):\n",
    "    return np.sin(2 * np.pi * x) \n",
    "\n",
    "def add_noise(y_true, var):\n",
    "    return y_true + np.random.normal(scale=var, size=y_true.shape)\n",
    "\n",
    "def plt_result(xs, ys_true, ys):\n",
    "    plt.scatter(xs, ys,facecolor=\"none\", edgecolor=\"b\", s=50,  label=\"training data\")\n",
    "    plt.plot(xs, ys_true, label=\"$\\sin(2\\pi x)$\")\n",
    "    plt.legend()"
   ]
  },
  {
   "cell_type": "code",
   "execution_count": 8,
   "metadata": {},
   "outputs": [
    {
     "name": "stdout",
     "output_type": "stream",
     "text": [
      "xs: (10,)\n",
      "ys_true: (10,)\n",
      "ys: (10,)\n"
     ]
    },
    {
     "data": {
      "image/png": "[encoded data removed]",
      "text/plain": [
       "<Figure size 432x288 with 1 Axes>"
      ]
     },
     "metadata": {
      "needs_background": "light"
     },
     "output_type": "display_data"
    }
   ],
   "source": [
    "#データの作成\n",
    "xs = np.linspace(0, 1, n_sample)\n",
    "ys_true = sin_func(xs)\n",
    "ys = add_noise(ys_true, var)\n",
    "\n",
    "print(\"xs: {}\".format(xs.shape))\n",
    "print(\"ys_true: {}\".format(ys_true.shape))\n",
    "print(\"ys: {}\".format(ys.shape))\n",
    "\n",
    "#結果の描画\n",
    "plt_result(xs, ys_true, ys)"
   ]
  },
  {
   "cell_type": "markdown",
   "metadata": {},
   "source": [
    "## 学習"
   ]
  },
  {
   "cell_type": "markdown",
   "metadata": {},
   "source": [
    "モデルとして以下を用いる。\n",
    "\n",
    "$y(x) = \\sum_{i=0}^{d} w_{i} x^{i} = \\boldsymbol{w}^{\\mathrm{T}} \\boldsymbol{\\phi(x)}$\n",
    "\n",
    "ただし、$\\boldsymbol{w}=[w_{0}, w_{1}, ..., w_{d}]^{\\mathrm{T}}, \\boldsymbol{\\phi(x)} = [1, x, x^{2}, ..., x^{d}]^{\\mathrm{T}}$である。\n",
    "\n",
    "訓練データ$X, \\boldsymbol{y}$に対しては\n",
    "$\\boldsymbol{y} = \\Phi \\boldsymbol{w}$と書ける。\n",
    "\n",
    "ただし、$\\Phi = [\\boldsymbol{\\phi}(x_{1}), \\boldsymbol{\\phi}(x_{2}),.., \\boldsymbol{\\phi}(x_{n})]^{\\mathrm{T}}$である。\n",
    "\n",
    "よって、最小化する目的関数は$L = ||\\boldsymbol{y}  - \\Phi \\boldsymbol{w}||^2$と書け、\n",
    "\n",
    "$\\frac{\\partial L}{\\partial \\boldsymbol{w}} = - 2 \\Phi^{\\mathrm{T}} (\\boldsymbol{y} - \\Phi \\boldsymbol{w}) = 0$より、求める回帰係数$\\boldsymbol{w}$は以下のように書ける。\n",
    "\n",
    "$\\hat{\\boldsymbol{w}} = \\left( \\Phi^{\\mathrm{T}} \\Phi \\right)^{-1}  \\Phi^{\\mathrm{T}} \\boldsymbol{y}$"
   ]
  },
  {
   "cell_type": "code",
   "execution_count": 9,
   "metadata": {},
   "outputs": [],
   "source": [
    "def polynomial_features(xs, degree=3):\n",
    "    \"\"\"多項式特徴ベクトルに変換\n",
    "         X = [[1, x1, x1^2, x1^3],\n",
    "                 [1, x2, x2^2, x2^3],\n",
    "                   ...                             \n",
    "                 [1, xn, xn^2, xn^3]]\"\"\"\n",
    "    X = np.ones((len(xs), degree+1))\n",
    "    X_t = X.T #(100, 4)\n",
    "    for i in range(1, degree+1):\n",
    "        X_t[i] = X_t[i-1] * xs\n",
    "    return X_t.T"
   ]
  },
  {
   "cell_type": "code",
   "execution_count": 10,
   "metadata": {},
   "outputs": [],
   "source": [
    "Phi = polynomial_features(xs)\n",
    "Phi_inv = np.dot(np.linalg.inv(np.dot(Phi.T, Phi)), Phi.T)\n",
    "w = np.dot(Phi_inv, ys)"
   ]
  },
  {
   "cell_type": "markdown",
   "metadata": {},
   "source": [
    "## 予測"
   ]
  },
  {
   "cell_type": "markdown",
   "metadata": {},
   "source": [
    "入力を多項式特徴ベクトル$\\boldsymbol{\\phi(x)}$に変換し、$y = \\hat{\\boldsymbol{w}} \\boldsymbol{\\phi(x)}\\  (\\boldsymbol{y}(x) = \\Phi \\hat{\\boldsymbol{w}})$で予測する。"
   ]
  },
  {
   "cell_type": "code",
   "execution_count": 11,
   "metadata": {},
   "outputs": [],
   "source": [
    "Phi_test = polynomial_features(xs)\n",
    "ys_pred = np.dot(Phi_test, w)"
   ]
  },
  {
   "cell_type": "code",
   "execution_count": 12,
   "metadata": {},
   "outputs": [
    {
     "data": {
      "image/png": "[encoded data removed]",
      "text/plain": [
       "<Figure size 432x288 with 1 Axes>"
      ]
     },
     "metadata": {
      "needs_background": "light"
     },
     "output_type": "display_data"
    }
   ],
   "source": [
    "plt.scatter(xs, ys, facecolor=\"none\", edgecolor=\"b\", s=50, label=\"training data\")\n",
    "plt.plot(xs, ys_true, label=\"$\\sin(2\\pi x)$\")\n",
    "plt.plot(xs, ys_pred, label=\"prediction\")\n",
    "# for i in range(0, 4):\n",
    "#     plt.plot(xs, Phi[:, i], label=\"basis\")\n",
    "plt.legend()\n",
    "plt.show()"
   ]
  },
  {
   "cell_type": "markdown",
   "metadata": {},
   "source": [
    "# 重回帰分析"
   ]
  },
  {
   "cell_type": "markdown",
   "metadata": {},
   "source": [
    "## 訓練データ生成 (3次元入力)"
   ]
  },
  {
   "cell_type": "code",
   "execution_count": 13,
   "metadata": {},
   "outputs": [
    {
     "data": {
      "text/plain": [
       "array([[0.64359452, 0.50983264, 0.03704219],\n",
       "       [0.80297521, 0.67699685, 0.68957007],\n",
       "       [0.79605681, 0.8100529 , 0.8442898 ],\n",
       "       [0.11061876, 0.17785725, 0.98659582],\n",
       "       [0.77118295, 0.66741873, 0.19200161],\n",
       "       [0.5494161 , 0.09798988, 0.7512781 ],\n",
       "       [0.44431002, 0.89269153, 0.42777267],\n",
       "       [0.71185441, 0.24859437, 0.76205623],\n",
       "       [0.69669691, 0.46605078, 0.71526459],\n",
       "       [0.45980014, 0.05540919, 0.96397966]])"
      ]
     },
     "execution_count": 13,
     "metadata": {},
     "output_type": "execute_result"
    }
   ],
   "source": [
    "np.random.random((10, 3))"
   ]
  },
  {
   "cell_type": "code",
   "execution_count": 18,
   "metadata": {},
   "outputs": [],
   "source": [
    "n_sample = 100\n",
    "var = .2\n",
    "\n",
    "def mul_linear_func(x):\n",
    "    global ww\n",
    "    ww = [1., 0.5, 2., 1.]\n",
    "    return ww[0] + ww[1] * x[:, 0] + ww[2] * x[:, 1] + ww[3] * x[:, 2]\n",
    "\n",
    "def add_noise(y_true, var):\n",
    "    return y_true + np.random.normal(scale=var, size=y_true.shape)\n",
    "\n",
    "def plt_result(xs_train, ys_true, ys_train):\n",
    "    plt.scatter(xs_train, ys_train, facecolor=\"none\", edgecolor=\"b\", s=50,  label=\"training data\")\n",
    "    plt.plot(xs_train, ys_true, label=\"$2 x + 5$\")\n",
    "    plt.legend()"
   ]
  },
  {
   "cell_type": "code",
   "execution_count": 19,
   "metadata": {},
   "outputs": [],
   "source": [
    "x_dim = 3\n",
    "\n",
    "X = np.random.random((n_sample, x_dim))\n",
    "ys_true = mul_linear_func(X)\n",
    "ys = add_noise(ys_true, var)"
   ]
  },
  {
   "cell_type": "markdown",
   "metadata": {},
   "source": [
    "## 学習"
   ]
  },
  {
   "cell_type": "markdown",
   "metadata": {},
   "source": [
    "モデルとして以下を用いる。\n",
    "\n",
    "$y(x) = \\sum_{i=0}^{d} w_{i} x_{i} = \\boldsymbol{w}^{\\mathrm{T}}  \\boldsymbol{x}$\n",
    "\n",
    "ただし、陽には書かないが、$\\boldsymbol{x}$には定数項のための$1$という要素があることを仮定する。\n",
    "\n",
    "訓練データ$X, \\boldsymbol{y}$に対しては$\\boldsymbol{y} = X \\boldsymbol{w}$と書ける。\n",
    "\n",
    "よって、最小化する目的関数は$L = ||\\boldsymbol{y}  - X \\boldsymbol{w}||^2$と書け、\n",
    "\n",
    "$\\frac{\\partial L}{\\partial \\boldsymbol{w}} = - 2 X^{\\mathrm{T}} (\\boldsymbol{y} - X \\boldsymbol{w}) = 0$より、求める回帰係数$\\boldsymbol{w}$は以下のように書ける。\n",
    "\n",
    "$\\hat{\\boldsymbol{w}} = \\left( X^{\\mathrm{T}} X \\right)^{-1}  X^{\\mathrm{T}} \\boldsymbol{y}$"
   ]
  },
  {
   "cell_type": "code",
   "execution_count": 20,
   "metadata": {},
   "outputs": [],
   "source": [
    "def add_one(x):\n",
    "    return np.concatenate([np.ones(len(x))[:, None], x], axis=1)\n",
    "\n",
    "X_train = add_one(X)\n",
    "# pinv = np.dot(np.linalg.inv(np.dot(X_train.T, X_train)), X_train.T)\n",
    "# w = np.dot(pinv, y_train)"
   ]
  },
  {
   "cell_type": "markdown",
   "metadata": {},
   "source": [
    "## 予測"
   ]
  },
  {
   "cell_type": "markdown",
   "metadata": {},
   "source": [
    "入力に対する値を$y(x) = \\hat{\\boldsymbol{w}}^{\\mathrm{T}}  \\boldsymbol{x} \\ (\\boldsymbol{y} = X\\hat{\\boldsymbol{w}})$で予測する"
   ]
  },
  {
   "cell_type": "markdown",
   "metadata": {},
   "source": [
    "## パラメータ推定結果"
   ]
  },
  {
   "cell_type": "code",
   "execution_count": 21,
   "metadata": {},
   "outputs": [
    {
     "name": "stdout",
     "output_type": "stream",
     "text": [
      "w0_true:   1.0   w0_estimated: -0.14\n",
      "w1_true:   0.5   w1_estimated: 1.1e+01\n",
      "w2_true:   2.0   w2_estimated: -3.1e+01\n",
      "w3_true:   1.0   w3_estimated: 2e+01\n"
     ]
    }
   ],
   "source": [
    "for i in range(len(w)):\n",
    "    print(\"w{0}_true: {1:>5.2}   w{0}_estimated: {2:>5.2}\".format(i, ww[i], w[i]))"
   ]
  },
  {
   "cell_type": "markdown",
   "metadata": {},
   "source": [
    "# 考察\n",
    "\n",
    "目的関数の微分について把握しておく必要がある。\n",
    "\n",
    "目的関数：$L = \\sum_{i=1}^{n} \\left( y_{i} - (a x_{i} + b) \\right)^2$\n",
    "\n",
    "$\\frac{\\partial L}{\\partial a} = -2\\sum_{i=1}^{n} \\left( y_{i} - (a x_{i} + b) \\right) x_{i} = 0$\n",
    "\n",
    "$\\frac{\\partial L}{\\partial b} = -2\\sum_{i=1}^{n} \\left( y_{i} - (a x_{i} + b) \\right) = 0$"
   ]
  },
  {
   "cell_type": "markdown",
   "metadata": {},
   "source": [
    "あわせて合成関数の微分を理解する。\n",
    "\n",
    "外側微分の乗数(2)と、内部関数の微分の結果の$a$の係数（この場合-1）の積が前に出る(-2)。\n",
    "\n",
    "$a$での微分の場合、$x_{i}$が残る（基の式に掛けられる）。\n",
    "\n",
    "参考情報：[Chainer Tutorial 4.6. 合成関数の微分](https://tutorials.chainer.org/ja/04_Basics_of_Differential.html#%E5%90%88%E6%88%90%E9%96%A2%E6%95%B0%E3%81%AE%E5%BE%AE%E5%88%86)"
   ]
  },
  {
   "cell_type": "code",
   "execution_count": null,
   "metadata": {},
   "outputs": [],
   "source": []
  }
 ],
 "metadata": {
  "kernelspec": {
   "display_name": "Python 3",
   "language": "python",
   "name": "python3"
  },
  "language_info": {
   "codemirror_mode": {
    "name": "ipython",
    "version": 3
   },
   "file_extension": ".py",
   "mimetype": "text/x-python",
   "name": "python",
   "nbconvert_exporter": "python",
   "pygments_lexer": "ipython3",
   "version": "3.6.12"
  }
 },
 "nbformat": 4,
 "nbformat_minor": 2
}
