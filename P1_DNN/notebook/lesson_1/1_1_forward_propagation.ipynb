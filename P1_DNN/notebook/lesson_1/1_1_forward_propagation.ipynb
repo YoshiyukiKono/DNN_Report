{
 "cells": [
  {
   "cell_type": "code",
   "execution_count": 1,
   "metadata": {},
   "outputs": [],
   "source": [
    "import sys, os\n",
    "sys.path.append(os.pardir)  # 親ディレクトリのファイルをインポートするための設定\n",
    "import numpy as np\n",
    "from common import functions\n",
    "\n",
    "def print_vec(text, vec):\n",
    "    print(\"*** \" + text + \" ***\")\n",
    "    print(vec)\n",
    "    #print(\"shape: \" + str(x.shape))\n",
    "    print(\"\")\n"
   ]
  },
  {
   "cell_type": "code",
   "execution_count": 4,
   "metadata": {},
   "outputs": [
    {
     "data": {
      "text/plain": [
       "array([[0.1],\n",
       "       [0.2]])"
      ]
     },
     "execution_count": 4,
     "metadata": {},
     "output_type": "execute_result"
    }
   ],
   "source": []
  },
  {
   "cell_type": "code",
   "execution_count": 6,
   "metadata": {},
   "outputs": [
    {
     "data": {
      "text/plain": [
       "array([0., 0.])"
      ]
     },
     "execution_count": 6,
     "metadata": {},
     "output_type": "execute_result"
    }
   ],
   "source": [
    "## 試してみよう_配列の初期化\n",
    "W = np.zeros(2)\n",
    "W"
   ]
  },
  {
   "cell_type": "code",
   "execution_count": 40,
   "metadata": {},
   "outputs": [
    {
     "data": {
      "text/plain": [
       "array([[0., 0.],\n",
       "       [0., 0.]])"
      ]
     },
     "execution_count": 40,
     "metadata": {},
     "output_type": "execute_result"
    }
   ],
   "source": [
    "W = np.zeros((2,2))\n",
    "W"
   ]
  },
  {
   "cell_type": "code",
   "execution_count": 7,
   "metadata": {},
   "outputs": [
    {
     "data": {
      "text/plain": [
       "array([1., 1.])"
      ]
     },
     "execution_count": 7,
     "metadata": {},
     "output_type": "execute_result"
    }
   ],
   "source": [
    "W = np.ones(2)\n",
    "W"
   ]
  },
  {
   "cell_type": "code",
   "execution_count": 8,
   "metadata": {},
   "outputs": [
    {
     "data": {
      "text/plain": [
       "array([0.54148067, 0.07548586])"
      ]
     },
     "execution_count": 8,
     "metadata": {},
     "output_type": "execute_result"
    }
   ],
   "source": [
    "W = np.random.rand(2)\n",
    "W"
   ]
  },
  {
   "cell_type": "code",
   "execution_count": 9,
   "metadata": {},
   "outputs": [
    {
     "data": {
      "text/plain": [
       "array([3, 4])"
      ]
     },
     "execution_count": 9,
     "metadata": {},
     "output_type": "execute_result"
    }
   ],
   "source": [
    "W = np.random.randint(5, size=(2))\n",
    "W"
   ]
  },
  {
   "cell_type": "code",
   "execution_count": 12,
   "metadata": {},
   "outputs": [
    {
     "data": {
      "text/plain": [
       "0.8354818515822825"
      ]
     },
     "execution_count": 12,
     "metadata": {},
     "output_type": "execute_result"
    }
   ],
   "source": [
    "## 試してみよう_数値の初期化\n",
    "b = np.random.rand() # 0~1のランダム数値\n",
    "b"
   ]
  },
  {
   "cell_type": "code",
   "execution_count": 13,
   "metadata": {},
   "outputs": [
    {
     "data": {
      "text/plain": [
       "3.823689988886631"
      ]
     },
     "execution_count": 13,
     "metadata": {},
     "output_type": "execute_result"
    }
   ],
   "source": [
    "b = np.random.rand() * 10 -5  # -5~5のランダム数値\n",
    "b"
   ]
  },
  {
   "cell_type": "code",
   "execution_count": 15,
   "metadata": {},
   "outputs": [
    {
     "data": {
      "text/plain": [
       "array([[2, 1, 0],\n",
       "       [2, 0, 4],\n",
       "       [2, 0, 0],\n",
       "       [3, 3, 0]])"
      ]
     },
     "execution_count": 15,
     "metadata": {},
     "output_type": "execute_result"
    }
   ],
   "source": [
    "## 試してみよう_配列の初期化\n",
    "#W = np.zeros((4,3))\n",
    "#W = np.ones((4,3))\n",
    "#W = np.random.rand(4,3)\n",
    "W = np.random.randint(5, size=(4,3))\n",
    "W"
   ]
  },
  {
   "cell_type": "code",
   "execution_count": 18,
   "metadata": {},
   "outputs": [
    {
     "data": {
      "text/plain": [
       "array([[[0, 0],\n",
       "        [2, 1],\n",
       "        [1, 4]],\n",
       "\n",
       "       [[4, 0],\n",
       "        [4, 3],\n",
       "        [2, 2]],\n",
       "\n",
       "       [[1, 1],\n",
       "        [0, 4],\n",
       "        [0, 0]],\n",
       "\n",
       "       [[4, 2],\n",
       "        [0, 2],\n",
       "        [0, 4]]])"
      ]
     },
     "execution_count": 18,
     "metadata": {},
     "output_type": "execute_result"
    }
   ],
   "source": [
    "W = np.random.randint(5, size=(4,3,2))\n",
    "W"
   ]
  },
  {
   "cell_type": "code",
   "execution_count": 11,
   "metadata": {},
   "outputs": [
    {
     "name": "stdout",
     "output_type": "stream",
     "text": [
      "*** 重み ***\n",
      "[[0.1 0.2 0.3]\n",
      " [0.2 0.3 0.4]\n",
      " [0.3 0.4 0.5]\n",
      " [0.4 0.5 0.6]]\n",
      "\n",
      "*** バイアス ***\n",
      "[0.1 0.2 0.3]\n",
      "\n",
      "*** 入力 ***\n",
      "[ 1.  5.  2. -1.]\n",
      "\n",
      "*** 総入力 ***\n",
      "[1.4 2.2 3. ]\n",
      "\n",
      "*** 中間層出力 ***\n",
      "[0.80218389 0.90024951 0.95257413]\n",
      "\n"
     ]
    }
   ],
   "source": [
    "# 順伝播（単層・複数ユニット）\n",
    "\n",
    "# 重み\n",
    "W = np.array([\n",
    "    [0.1, 0.2, 0.3], \n",
    "    [0.2, 0.3, 0.4], \n",
    "    [0.3, 0.4, 0.5],\n",
    "    [0.4, 0.5, 0.6]\n",
    "])\n",
    "\n",
    "\n",
    "\n",
    "print_vec(\"重み\", W)\n",
    "\n",
    "# バイアス\n",
    "b = np.array([0.1, 0.2, 0.3])\n",
    "print_vec(\"バイアス\", b)\n",
    "\n",
    "# 入力値\n",
    "x = np.array([1.0, 5.0, 2.0, -1.0])\n",
    "print_vec(\"入力\", x)\n",
    "\n",
    "\n",
    "#  総入力\n",
    "u = np.dot(x, W) + b\n",
    "print_vec(\"総入力\", u)\n",
    "\n",
    "# 中間層出力\n",
    "z = functions.sigmoid(u)\n",
    "print_vec(\"中間層出力\", z)\n"
   ]
  },
  {
   "cell_type": "code",
   "execution_count": null,
   "metadata": {},
   "outputs": [],
   "source": [
    "# 順伝播（3層・複数ユニット）\n",
    "\n",
    "# ウェイトとバイアスを設定\n",
    "# ネートワークを作成\n",
    "def init_network():\n",
    "    print(\"##### ネットワークの初期化 #####\")\n",
    "    network = {}\n",
    "    \n",
    "    network['W1'] = np.array([\n",
    "        [0.1, 0.3, 0.5],\n",
    "        [0.2, 0.4, 0.6]\n",
    "    ])\n",
    "    network['W2'] = np.array([\n",
    "        [0.1, 0.4],\n",
    "        [0.2, 0.5],\n",
    "        [0.3, 0.6]\n",
    "    ])\n",
    "    network['W3'] = np.array([\n",
    "        [0.1, 0.3],\n",
    "        [0.2, 0.4]\n",
    "    ])\n",
    "    network['b1'] = np.array([0.1, 0.2, 0.3])\n",
    "    network['b2'] = np.array([0.1, 0.2])\n",
    "    network['b3'] = np.array([1, 2])\n",
    "\n",
    "    print_vec(\"重み1\", network['W1'] )\n",
    "    print_vec(\"重み2\", network['W2'] )\n",
    "    print_vec(\"重み3\", network['W3'] )\n",
    "    print_vec(\"バイアス1\", network['b1'] )\n",
    "    print_vec(\"バイアス2\", network['b2'] )\n",
    "    print_vec(\"バイアス3\", network['b3'] )\n",
    "\n",
    "    return network\n",
    "\n",
    "# プロセスを作成\n",
    "# x：入力値\n",
    "def forward(network, x):\n",
    "    \n",
    "    print(\"##### 順伝播開始 #####\")\n",
    "\n",
    "    W1, W2, W3 = network['W1'], network['W2'], network['W3']\n",
    "    b1, b2, b3 = network['b1'], network['b2'], network['b3']\n",
    "    \n",
    "    # 1層の総入力\n",
    "    u1 = np.dot(x, W1) + b1\n",
    "    \n",
    "    # 1層の総出力\n",
    "    z1 = functions.relu(u1)\n",
    "    \n",
    "    # 2層の総入力\n",
    "    u2 = np.dot(z1, W2) + b2\n",
    "    \n",
    "    # 2層の総出力\n",
    "    z2 = functions.relu(u2)\n",
    "\n",
    "    # 出力層の総入力\n",
    "    u3 = np.dot(z2, W3) + b3\n",
    "    \n",
    "    # 出力層の総出力\n",
    "    y = u3\n",
    "    \n",
    "    print_vec(\"総入力1\", u1)\n",
    "    print_vec(\"中間層出力1\", z1)\n",
    "    print_vec(\"総入力2\", u2)\n",
    "    print_vec(\"出力1\", z1)\n",
    "    print(\"出力合計: \" + str(np.sum(z1)))\n",
    "\n",
    "    return y, z1, z2\n",
    "\n",
    "# 入力値\n",
    "x = np.array([1., 2.])\n",
    "print_vec(\"入力\", x)\n",
    "\n",
    "# ネットワークの初期化\n",
    "network =  init_network()\n",
    "\n",
    "y, z1, z2 = forward(network, x)"
   ]
  },
  {
   "cell_type": "code",
   "execution_count": 28,
   "metadata": {},
   "outputs": [
    {
     "name": "stdout",
     "output_type": "stream",
     "text": [
      "##### ネットワークの初期化 #####\n",
      "*** 重み1 ***\n",
      "[[0.96544049 0.385645   0.17317617]\n",
      " [0.38854249 0.92441596 0.84815064]]\n",
      "\n",
      "*** 重み2 ***\n",
      "[[0.66820091 0.39132621 0.70610773]\n",
      " [0.53545705 0.08078833 0.15946247]]\n",
      "\n",
      "*** 重み3 ***\n",
      "[[0.09585375 0.84790356]\n",
      " [0.10484821 0.5860705 ]]\n",
      "\n",
      "*** バイアス1 ***\n",
      "[0.58060661 0.62775655 0.48397374]\n",
      "\n",
      "*** バイアス2 ***\n",
      "[0.08357558 0.33650387]\n",
      "\n",
      "*** バイアス3 ***\n",
      "[0.09495503 0.52524466]\n",
      "\n"
     ]
    }
   ],
   "source": [
    "#試してみよう\n",
    "#_各パラメータのshapeを表示\n",
    "#_ネットワークの初期値ランダム生成\n",
    "\n",
    "# 順伝播（3層・複数ユニット）\n",
    "\n",
    "# ウェイトとバイアスを設定\n",
    "# ネートワークを作成\n",
    "def init_network():\n",
    "    print(\"##### ネットワークの初期化 #####\")\n",
    "    network = {}\n",
    "    \n",
    "    network['W1'] = np.random.rand(2,3)\n",
    "\n",
    "    network['W2'] = np.random.rand(2,3)\n",
    "\n",
    "    network['W3'] = np.random.rand(2,2)\n",
    "\n",
    "    network['b1'] = np.random.rand(3)\n",
    "\n",
    "    network['b2'] = np.random.rand(2)\n",
    "\n",
    "    network['b3'] = np.random.rand(2)\n",
    "\n",
    "\n",
    "    print_vec(\"重み1\", network['W1'] )\n",
    "    print_vec(\"重み2\", network['W2'] )\n",
    "    print_vec(\"重み3\", network['W3'] )\n",
    "    print_vec(\"バイアス1\", network['b1'] )\n",
    "    print_vec(\"バイアス2\", network['b2'] )\n",
    "    print_vec(\"バイアス3\", network['b3'] )\n",
    "\n",
    "    return network\n",
    "_ = init_network()"
   ]
  },
  {
   "cell_type": "code",
   "execution_count": 32,
   "metadata": {},
   "outputs": [],
   "source": [
    "# ウェイトとバイアスを設定\n",
    "# ネートワークを作成\n",
    "def init_network(input_layer_size, hidden_layer_size, output_layer_size):\n",
    "    print(\"##### ネットワークの初期化 #####\")\n",
    "\n",
    "    network = {}\n",
    "    network['W1'] = np.random.rand(input_layer_size, hidden_layer_size)\n",
    "    network['W2'] = np.random.rand(hidden_layer_size, output_layer_size)\n",
    "    network['b1'] = np.random.rand(hidden_layer_size)\n",
    "    network['b2'] = np.random.rand(output_layer_size)\n",
    "    \n",
    "    print_vec(\"重み1\", network['W1'] )\n",
    "    print_vec(\"重み2\", network['W2'] )\n",
    "    print_vec(\"バイアス1\", network['b1'] )\n",
    "    print_vec(\"バイアス2\", network['b2'] )\n",
    "\n",
    "    return network"
   ]
  },
  {
   "cell_type": "code",
   "execution_count": 35,
   "metadata": {},
   "outputs": [
    {
     "name": "stdout",
     "output_type": "stream",
     "text": [
      "##### ネットワークの初期化 #####\n",
      "*** 重み1 ***\n",
      "[[0.5652631  0.28353574 0.88268301 0.63577038 0.09303166]\n",
      " [0.03107736 0.09090869 0.99950548 0.62006438 0.35314604]\n",
      " [0.82096514 0.88628879 0.4981184  0.18285504 0.95063937]]\n",
      "\n",
      "*** 重み2 ***\n",
      "[[0.18077822 0.79118166 0.51770001 0.19805648]\n",
      " [0.28384155 0.16568689 0.95667365 0.76275759]\n",
      " [0.32746294 0.49277979 0.16328018 0.33950754]\n",
      " [0.5468609  0.84949667 0.85570513 0.72745066]\n",
      " [0.4587165  0.93671639 0.90812593 0.31111512]]\n",
      "\n",
      "*** バイアス1 ***\n",
      "[0.68653777 0.50435753 0.17506018 0.20176283 0.13180406]\n",
      "\n",
      "*** バイアス2 ***\n",
      "[0.44778459 0.13370722 0.75653756 0.40155721]\n",
      "\n",
      "##### 順伝播開始 #####\n",
      "*** 総入力1 ***\n",
      "[3.77685103 3.62857701 4.55110937 2.6262271  3.78304591]\n",
      "\n",
      "*** 中間層出力1 ***\n",
      "[3.77685103 3.62857701 4.55110937 2.6262271  3.78304591]\n",
      "\n",
      "*** 総入力2 ***\n",
      "[ 6.82234406 11.74039716 12.60904143  8.54986109]\n",
      "\n",
      "*** 出力1 ***\n",
      "[ 6.82234406 11.74039716 12.60904143  8.54986109]\n",
      "\n",
      "出力合計: 18.365810424955626\n",
      "\n",
      "##### 結果表示 #####\n",
      "input_layer_size 3\n",
      "hidden_layer_size 5\n",
      "output_layer_size 4\n",
      "*** 中間層出力 ***\n",
      "[3.77685103 3.62857701 4.55110937 2.6262271  3.78304591]\n",
      "\n",
      "*** 出力 ***\n",
      "[ 6.82234406 11.74039716 12.60904143  8.54986109]\n",
      "\n",
      "*** 訓練データ ***\n",
      "[2. 4. 6. 8.]\n",
      "\n",
      "*** 誤差 ***\n",
      "15.893815780023639\n",
      "\n"
     ]
    }
   ],
   "source": [
    "# 回帰\n",
    "# ！試してみよう_ノードの構成を 3-5-4 に変更してみよう\n",
    "\n",
    "input_layer_size = 3\n",
    "hidden_layer_size= 5\n",
    "output_layer_size = 4\n",
    "\n",
    "# 入力値\n",
    "x = np.array([1., 2.,3.])\n",
    "network =  init_network(input_layer_size, hidden_layer_size, output_layer_size)\n",
    "y, z1 = forward(network, x)\n",
    "# 目標出力\n",
    "d = np.array([2., 4.,6.,8.])\n",
    "# 誤差\n",
    "loss = functions.mean_squared_error(d, y)\n",
    "## 表示\n",
    "print(\"\\n##### 結果表示 #####\")\n",
    "print(\"input_layer_size\", input_layer_size)\n",
    "print(\"hidden_layer_size\", hidden_layer_size)\n",
    "print(\"output_layer_size\", output_layer_size)\n",
    "\n",
    "print_vec(\"中間層出力\", z1)\n",
    "print_vec(\"出力\", y)\n",
    "print_vec(\"訓練データ\", d)\n",
    "print_vec(\"誤差\",  loss)\n"
   ]
  },
  {
   "cell_type": "code",
   "execution_count": 37,
   "metadata": {},
   "outputs": [
    {
     "name": "stdout",
     "output_type": "stream",
     "text": [
      "##### ネットワークの初期化 #####\n",
      "*** 重み1 ***\n",
      "[[0.97789581 0.45860308 0.74989297 0.07871868 0.26406475 0.01122758\n",
      "  0.43668807 0.07820562 0.50879922 0.17139896]\n",
      " [0.73987446 0.18926488 0.78461447 0.17183914 0.21646273 0.26228592\n",
      "  0.16061908 0.35431166 0.73388315 0.54189934]\n",
      " [0.38799073 0.65073276 0.48360831 0.11742747 0.62918706 0.89608263\n",
      "  0.52152255 0.17830063 0.22384673 0.75002241]\n",
      " [0.03828214 0.35442607 0.66787206 0.79672686 0.26273609 0.39439729\n",
      "  0.43102524 0.2333887  0.86380059 0.98133526]\n",
      " [0.59979884 0.81526975 0.96463694 0.72606666 0.25784201 0.66374238\n",
      "  0.26467031 0.29827088 0.09374715 0.74246683]]\n",
      "\n",
      "*** 重み2 ***\n",
      "[[0.71289594]\n",
      " [0.6821429 ]\n",
      " [0.28538776]\n",
      " [0.30800099]\n",
      " [0.6327984 ]\n",
      " [0.72401949]\n",
      " [0.9329279 ]\n",
      " [0.4019296 ]\n",
      " [0.04974612]\n",
      " [0.20992624]]\n",
      "\n",
      "*** バイアス1 ***\n",
      "[0.58965844 0.4825029  0.16544438 0.85720463 0.42416301 0.64776345\n",
      " 0.55633279 0.51510302 0.34501897 0.812026  ]\n",
      "\n",
      "*** バイアス2 ***\n",
      "[0.23120794]\n",
      "\n",
      "##### 順伝播開始 #####\n",
      "*** 総入力1 ***\n",
      "[ 7.36339814  8.76588702 11.43006419  8.44912475  5.34886881  8.76811184\n",
      "  5.92627918  4.26174303  6.91706281 11.95496602]\n",
      "\n",
      "*** 中間層出力1 ***\n",
      "[ 7.36339814  8.76588702 11.43006419  8.44912475  5.34886881  8.76811184\n",
      "  5.92627918  4.26174303  6.91706281 11.95496602]\n",
      "\n",
      "*** 総入力2 ***\n",
      "[37.15298085]\n",
      "\n",
      "*** 出力1 ***\n",
      "[37.15298085]\n",
      "\n",
      "出力合計: 79.1855057812827\n",
      "\n",
      "##### 結果表示 #####\n",
      "input_layer_size 5\n",
      "hidden_layer_size 10\n",
      "output_layer_size 1\n",
      "*** 中間層出力 ***\n",
      "[ 7.36339814  8.76588702 11.43006419  8.44912475  5.34886881  8.76811184\n",
      "  5.92627918  4.26174303  6.91706281 11.95496602]\n",
      "\n",
      "*** 出力 ***\n",
      "[37.15298085]\n",
      "\n",
      "*** 訓練データ ***\n",
      "[1]\n",
      "\n",
      "*** 誤差 ***\n",
      "-3.615044008941919\n",
      "\n"
     ]
    }
   ],
   "source": [
    "# 2値分類\n",
    "# 2-3-1ネットワーク\n",
    "\n",
    "# ！試してみよう_ノードの構成を 5-10-1 に変更してみよう\n",
    "\n",
    "input_layer_size = 5\n",
    "hidden_layer_size= 10\n",
    "output_layer_size = 1\n",
    "\n",
    "# 入力値\n",
    "x = np.array([1., 2.,3.,4.,5.])\n",
    "# 目標出力\n",
    "d = np.array([1])\n",
    "network =  init_network(input_layer_size, hidden_layer_size, output_layer_size)\n",
    "y, z1 = forward(network, x)\n",
    "# 誤差\n",
    "loss = functions.cross_entropy_error(d, y)\n",
    "\n",
    "## 表示\n",
    "print(\"\\n##### 結果表示 #####\")\n",
    "print(\"input_layer_size\", input_layer_size)\n",
    "print(\"hidden_layer_size\", hidden_layer_size)\n",
    "print(\"output_layer_size\", output_layer_size)\n",
    "\n",
    "print_vec(\"中間層出力\", z1)\n",
    "print_vec(\"出力\", y)\n",
    "print_vec(\"訓練データ\", d)\n",
    "print_vec(\"誤差\",  loss)"
   ]
  },
  {
   "cell_type": "markdown",
   "metadata": {},
   "source": [
    "# 考察\n",
    "`init_network`に対して、与えられた引数に従ってネットワークを初期化する修正を加えたことにより、ニューラルネットワークの構造および初期化処理のイメージをつかむことができた。また、順伝播処理のイメージを実装でつかむことができた。"
   ]
  },
  {
   "cell_type": "code",
   "execution_count": null,
   "metadata": {},
   "outputs": [],
   "source": []
  }
 ],
 "metadata": {
  "kernelspec": {
   "display_name": "Python 3",
   "language": "python",
   "name": "python3"
  },
  "language_info": {
   "codemirror_mode": {
    "name": "ipython",
    "version": 3
   },
   "file_extension": ".py",
   "mimetype": "text/x-python",
   "name": "python",
   "nbconvert_exporter": "python",
   "pygments_lexer": "ipython3",
   "version": "3.6.12"
  }
 },
 "nbformat": 4,
 "nbformat_minor": 2
}
