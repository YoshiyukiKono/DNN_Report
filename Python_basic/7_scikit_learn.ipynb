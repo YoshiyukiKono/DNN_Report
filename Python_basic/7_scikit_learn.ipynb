{
  "nbformat": 4,
  "nbformat_minor": 0,
  "metadata": {
    "colab": {
      "name": "7. scikit-learn.ipynb",
      "provenance": [],
      "private_outputs": true
    },
    "kernelspec": {
      "name": "python3",
      "display_name": "Python 3"
    }
  },
  "cells": [
    {
      "cell_type": "markdown",
      "metadata": {
        "id": "-PYF75J3_w0c",
        "colab_type": "text"
      },
      "source": [
        "# scikit-learn"
      ]
    },
    {
      "cell_type": "markdown",
      "metadata": {
        "id": "tWR885Lp_zlz",
        "colab_type": "text"
      },
      "source": [
        "## 機械学習とは\n"
      ]
    },
    {
      "cell_type": "markdown",
      "metadata": {
        "id": "MTFufaAAwkl5",
        "colab_type": "text"
      },
      "source": [
        "機械学習は、データから人間が欲しい情報･知識を得たいとき、その情報や知識を得る方法をコンピューターで自動的に見つけさせる手法です。特に、データが複雑で情報や知識を得るためのルールを人間が作り上げることが難しい場合に効果を発揮します。\n",
        "\n",
        "例えば、\n",
        "\n",
        "1.   写真に写る顔を見つける。ピクセルの集まりから顔を探し当てるルールを人間が作るのは極めて難しい。\n",
        "2.   オンライン通販サイトで、次にオススメすると良い商品を探す。商品の数はとても多く、様々な趣向の人がいるため。ルールを作るのは困難。\n",
        "\n",
        "などに機械学習の技術が用いられています。\n",
        "\n",
        "現在、機械学習の技術は大きく2つに特徴が分かれます。\n",
        "\n",
        "1.   アルゴリズム(計算式)による機械学習\n",
        "2.   深層学習(ディープラーニング)\n",
        "\n",
        "1つ目のアルゴリズムを使った機械学習には、伝統的に研究されてきた様々な手法があります。これらのアルゴリズムは、人間が考え作り出した計算式を、実際のデータに当てはまるようにする調整を自動的に行うものです。データの特徴や処理の方法がある程度掴めている場合に非常に高い効果を発揮します。学習に必要なデータ量が深層学習に比べると少ない点、学習結果が説明可能な点が真相学習に比べると優れています。\n",
        "\n",
        "2つ目の深層学習(ディープラーニング)は機械学習の1つの手法です。コンピュータの計算速度が向上したことで実際に応用できる範囲が広がり、近年注目されています。機械学習のアルゴリズムに比べるとより複雑で高密度なデータに対応できる点が魅力です。特に、写真や動画、音声の認識など人間にはいとも簡単にできるものの従来の機械学習では全く解決できなかった問題に対して高い効果を発揮しています。\n",
        "\n",
        "機械学習アルゴリズムでは、予め人間が作り出した計算式をデータに合うように学習させます。一方で、深層学習は計算式自体を自ら作り出すように学習を進めます。これは、機械学習アルゴリズムが「考え方を教えてもらい、うまくその考え方を使って問題を解いている」イメージで、深層学習は「考え方自体も自分で考えて問題を解く」ようなイメージです。\n",
        "\n",
        "機械学習アルゴリズムと深層学習を比較すると、\n",
        "\n",
        "1.   学習に必要なデータ･学習時間(計算量): 機械学習アルゴリズム < 深層学習\n",
        "2.   解ける問題の複雑さ:  機械学習アルゴリズム < 深層学習\n",
        "3.   学習結果の説明可能性: 機械学習アルゴリズム → ○ / 深層学習 → ×\n",
        "\n",
        "です。\n",
        "\n",
        "このように、機械学習アルゴリズムと深層学習ではメリットとデメリットがあるため、適切な使い分けを行うことが重要です。簡便には、\n",
        "\n",
        "1.   音声や画像、動画などのデータを扱うときは深層学習\n",
        "2.   表計算ソフト(Excelなど)で扱うようなデータを扱うときは機械学習アルゴリズム\n",
        "\n",
        "と良い結果を得られる場合が多くなります。\n",
        "\n",
        "ここで学ぶ、scikit-learnは、様々な機械学習アルゴリズムを扱うPythonのライブラリです。表計算ソフトで扱うようなデータ、例えば、\n",
        "\n",
        "1.   スーパーマーケットの日々の売り上げデータ\n",
        "2.   実験や観察の結果\n",
        "3.   統計調査の分析\n",
        "\n",
        "などに便利に使えます。日々の仕事にも役立てられることが多いので使いみちをいろいろ考えたり、実際に試してみると楽しみながら学習できるでしょう。\n"
      ]
    },
    {
      "cell_type": "markdown",
      "metadata": {
        "id": "_EW7RB8bAGLI",
        "colab_type": "text"
      },
      "source": [
        "### 学習と推論"
      ]
    },
    {
      "cell_type": "markdown",
      "metadata": {
        "id": "y2FJPbxawtyX",
        "colab_type": "text"
      },
      "source": [
        "機械学習モデル(機械学習アルゴリズムと深層学習の両方)はコンピューターが既知のデータから自力でなにかしらの知識を学習し、学習に用いなかった未知のデータに対して人間の役に立つ知見を得られることを目指します。そのため、機械学習モデルを使えるようにするためには、学習に用いるデータをまず準備する必要があります。\n",
        "\n",
        "これらのデータは、私たち自身が様々な工夫をして集めたり作ったりします。身近なところでは、\n",
        "\n",
        "1.   コンビニのレジに蓄積されるデータ\n",
        "2.   国勢調査などのアンケート\n",
        "3.   撮影した写真に写っているものを1つ1つ人間がラベルを付ける\n",
        "\n",
        "などが考えられます。\n",
        "\n",
        "データの準備が出来たら、実際に機械学習モデルを使えるようにします。機械学習モデルを実際に役立てるには2つの作業が必要です。\n",
        "\n",
        "1.   学習\n",
        "2.   推論\n",
        "\n",
        "この2つのステップで実際に集めたデータをもとに機械学習モデルを学習し、将来得られる未知のデータから推論することで役に立つ情報を得ます。\n",
        "\n",
        "#### 学習\n",
        "\n",
        "1つ目の\"学習\"という作業では、集めたデータを用いて機械学習モデルに解決策を探らせます。学習は用いる機械学習モデルの種類(機械学習アルゴリズムなのか、深層学習なのか など)でかかる時間は大きく変わります。\n",
        "\n",
        "機械学習アルゴリズムの学習は、現在のコンピューターを用いると数秒から数十秒で終わることがほとんどです。学習に必要なデータは、普段私たちが表計算ソフトでもちいる程度の量からその数倍程度の場合が多いです。\n",
        "\n",
        "一方、深層学習の学習は容易ではありません。普段よく用いるノートパソコンで画像を認識する深層学習モデルを作るには数週間もの学習が必要です。また、学習に用いるデータも、数GBから数万GBに上ります。GBはデータの量を示し、例えば、iPhone 11では最大で512GBのデータを保存できます。大量のデータを保存するためには、専用の仕組みが必要です。このように、深層学習モデルの開発には多くの困難が伴います。そのため、深層学習モデルの開発には専用のコンピューターやハードウェア(機材)を用いて学習を行う場合がほとんどです。これらの高性能なコンピューターを用いると、大量のデータを高速に扱えたり、ノートパソコンで数週間かかる学習も数十秒まで短縮できることがあります。現在では、このようなハードウェアはクラウドサービスで幅広く提供されており、実際にハードウェアを購入する必要は無く、意外と手軽に始められます。\n",
        "\n",
        "\n",
        "#### 推論\n",
        "\n",
        "2つ目の\"推論\"は学習のステップで、学習用に集めたデータを使って学習させた機械学習モデルを未知のデータに対して適用します。学習が適切に行われた機械学習モデルは、未知のデータに対しても尤もらしい結果を返すことができ、私たちの役に立てることができます。\n",
        "\n",
        "機械学習を用いないプログラムでは、プログラムを作成し、そのプログラムがデータに対して処理を行うだけです。機械学習モデルでは、プログラムを作成した後、学習データを使ってモデルを学習させる必要があるところが一般的なコンピュータープログラムと大きく異なる点です。このため、推論を行うためには機械学習モデルを定義するプログラムと、学習データを用いて学習させた結果(多くの場合、数値データファイルとなる。)が必要となります。"
      ]
    },
    {
      "cell_type": "markdown",
      "metadata": {
        "id": "b4a-SLZOAK_d",
        "colab_type": "text"
      },
      "source": [
        "### 教師あり学習･教師なし学習と強化学習"
      ]
    },
    {
      "cell_type": "markdown",
      "metadata": {
        "id": "OTSvnVQzsE4k",
        "colab_type": "text"
      },
      "source": [
        "機械学習モデルの学習方法には大きく分けて3つの方法があります。\"教師あり学習\"と\"教師なし学習\"、そして\"強化学習\"です。これらの違いは、学習時に用いるデータをどのように準備するか、どのように活用するのかによって分けられています。\n",
        "\n",
        "#### 教師あり学習\n",
        "\n",
        "教師あり学習は学習に用いるデータを人間が準備します。準備するデータは、機械学習モデルに与える入力データとそこから得たい結果である正解(教師データ)です。これは、問題集とその解答という組み合わせに似ています。\n",
        "\n",
        "例えば、画像に何が映っているのかを見分ける機械学習モデルを作るとき、この学習にはたくさんの画像とそれぞれの画像に何が映っているのかを記したラベルを用います。機械学習モデルは学習を進めるとき、画像を入力として受け取り、分類結果が正しかったかどうかを人間が付したラベルと見比べながら正解が増えるように学習していきます。\n",
        "\n",
        "教師あり学習は人間が欲しい情報を直接学習させることができる一方で、学習データの準備に時間や費用が非常に大きくかかります。\n",
        "\n",
        "\n",
        "#### 教師なし学習\n",
        "\n",
        "教師なし学習では、学習に用いるデータに人間が付した正解データを用いません。正解がないものをどのように学習するのか不思議に思われるかもしれませんが、私たち人間は普段の生活の中でたくさんの教師なし学習を行っています。教師なし学習のアルゴリズムをいくつか紹介します。\n",
        "\n",
        "1.   クラスタリング\n",
        "2.   主成分分析\n",
        "3.   データの生成\n",
        "\n",
        "1つ目のクラスタリングは、たくさんのデータで似通ったもの同士をグループにする手法です。例えば、たくさんのみかんをSサイズ、Mサイズ、Lサイズの3つに分けたいとき、私たちは、みかん全体見渡しながら同じぐらいのサイズが集まるようにグループ分けをするでしょう。同じような仕組みで、データの特徴を基に自動的にグループを作るアルゴリズムがクラスタリングという手法です。アルゴリズムは、データ全体から妥当な分け方を自力で見つけるため、分け方に関する正解データは必要ありません。\n",
        "\n",
        "2つ目の主成分分析は、データの特徴をより少ないデータで示す方法を提供します。例えば、コーヒーに詳しい人がコーヒーに詳しくない友人に豆の特徴を話すとき、豆についての細かな情報、例えば、産地、煎り方、苦み、コク、酸味などを1つ1つ話すより、「このコーヒーは飲みやすいよ」と話す方がわかりやすいでしょう。このように、たくさんの情報からその情報を的確に示す少ない情報を見つける方法を主成分分析といいます。コーヒーの飲みやすさはもちろん本などの知識から得ることもできますが、様々なコーヒーを飲み比べることで得られる経験から相対的に決まるものです。この人は、様々なコーヒーの中で、酸味が少なく、コクが多いものを飲みやすいと判断しているのかもしれません。このような基準を主成分分析のアルゴリズムは見つけることができます。\n",
        "\n",
        "3つ目のデータの生成は、与えられた情報を基にデータを生成するモデルのことを指します。例えば、猫の絵を描いてくれと言われたら、私たち人間は猫がどのようなものであるかを知っているので、猫の絵を描くことができます。同じように、生成モデルにたくさんの猫の画像を学習させることで、モデルは猫の特徴を学びます。例えば、毛の色や表情などです。学習済みのモデルにこのような特徴を伝えることで、モデルはその特徴に近いデータ(画像)を生成することができるようになります。\n",
        "\n",
        "\n",
        "#### 強化学習\n",
        "\n",
        "強化学習は学習にデータを用いません。代わりに、機械学習モデルが達成してほしい目標を示し、その目標に近づくように学習が進められます。例えば、自動運転車の学習や、ゲームに勝つモデルなどの学習に強化学習が用いられます。強化学習で用いられる目標は、価値関数と呼ばれ、学習結果を得点で示すような仕組みです。モデルには、学習時に練習をするための\"環境\"と、モデルが操作できる対象である\"エージェント\"が与えられます。モデルは得点がより良くなるようにエージェントを操作する方法を自力で探していきます。自動運転車の例では、運転を始めるタイミングで持ち点が100点あり、壁にぶつかったら-5点、車線からはみ出ずに走れた距離に応じて+1点などのルールを作り、なるべく得点が高くなるようにモデルは運転の方法を学習していきます。このように学習を進めることで、モデルはエージェントをうまく操作する方法を学びます。"
      ]
    },
    {
      "cell_type": "markdown",
      "metadata": {
        "id": "2rDgcw5lAOxe",
        "colab_type": "text"
      },
      "source": [
        "### 機械学習のアルゴリズム"
      ]
    },
    {
      "cell_type": "markdown",
      "metadata": {
        "id": "fblIFk43EWqt",
        "colab_type": "text"
      },
      "source": [
        "機械学習のアルゴリズムには様々なものが存在します。機械学習で扱う問題(やりたいこと)は主に2つあります。\n",
        "\n",
        "1.   回帰\n",
        "2.   分類\n",
        "\n",
        "1つ目の回帰では、ある値から別の値を推測する問題です。例えば、身長と体重には関係がありますが、身長が何cmのときに体重は何kgである、といった関係を導き出すのが回帰の問題です。\n",
        "\n",
        "2つ目の分類はデータをいくつかの種別に分ける手段を見つける問題です。例えば、貴金属が偽物かどうかを判断するためには重さをはかることで判別ができるかもしれません。ある一定の重さを下回ったものは偽物、それ以上は本物というように、本物と偽物を分けるポイントを作ることで分類ができます。機械学習の分類の問題ではデータを基に、この分類するポイント･方法を自力で探索することを目標にしています。\n",
        "\n",
        "機械学習では学習の方法として「教師なし学習」と「教師あり学習」が、問題の特性として「回帰」と「分類」があります。それぞれについて様々なアルゴリズム(手法)があり、実際の用途に応じて使い分けていきます。データにアルゴリズムを適切に適用するためには知識とともに経験が必要です。はじめは小さなデータ、数百個程度で作られたデータから分析の練習を始め、徐々に大きくて複雑なデータにチャレンジしていくと良いでしょう。\n",
        "\n",
        "最後に、代表的な機械学習のアルゴリズムを紹介します。\n",
        "\n",
        "*   ナイーブベイズ\n",
        "*   線形回帰\n",
        "*   決定木\n",
        "*   サポートベクターマシン(SVM)\n",
        "*   ニューラルネットワーク\n",
        "\n",
        "ここで上げたアルゴリズムはどれもscikit-learnを学ぶことで簡単に実際のデータに適用して結果を使うことができます。scikit-learnでは、ライブラリの使い方とアルゴリズムの仕組みや特徴を理解するだけで、アルゴリズムを使用するための複雑な計算や処理を自動的に行ってくれるのが特徴です。少ない学習量で様々なアルゴリズムを利用できる仕組みが整っているので、様々なデータにいろいろなアルゴリズムを適用して学習を深めましょう。"
      ]
    },
    {
      "cell_type": "markdown",
      "metadata": {
        "id": "5eLGA5xT_9f0",
        "colab_type": "text"
      },
      "source": [
        "## scikit-learnの基礎"
      ]
    },
    {
      "cell_type": "markdown",
      "metadata": {
        "id": "Bk-o-TSOKDe5",
        "colab_type": "text"
      },
      "source": [
        "scikit-learnでは様々な機械学習アルゴリズムに対して、同じようなプログラムの書き方をすれば使用できるようになっています。そのため、私たちは1つのscikit-learnの使い方を覚えれば様々なデータに対していろいろなアルゴリズムを試し、結果を利用できます。"
      ]
    },
    {
      "cell_type": "markdown",
      "metadata": {
        "id": "2j6kYLp3ASVz",
        "colab_type": "text"
      },
      "source": [
        "### scikit-learnの考え方"
      ]
    },
    {
      "cell_type": "markdown",
      "metadata": {
        "id": "jwjHhHE_Kknw",
        "colab_type": "text"
      },
      "source": [
        "それでは、実際にscikit-learnの使い方がどういったものなのか、実例をもとに確認しましょう。\n",
        "\n",
        "ここでは、irisという有名なデータセットを使用します。irisデータセットはとても有名なデータセットであるため、scikit-learnのライブラリにデータが付属しています。\n",
        "\n",
        "次のようにirisデータセットを読み込むことができます。ここでは、pandasを使用して、irisデータセットの中身をきれいに表示しています。"
      ]
    },
    {
      "cell_type": "code",
      "metadata": {
        "id": "0_3iNG1rLGom",
        "colab_type": "code",
        "colab": {}
      },
      "source": [
        "import pandas as pd\n",
        "from sklearn import datasets\n",
        "\n",
        "iris = datasets.load_iris()\n",
        "data = pd.DataFrame(iris.data, columns=iris.feature_names)\n",
        "data['target'] = iris.target_names[iris.target]\n",
        "data"
      ],
      "execution_count": null,
      "outputs": []
    },
    {
      "cell_type": "markdown",
      "metadata": {
        "id": "Eh142raNLliW",
        "colab_type": "text"
      },
      "source": [
        "irisデータセットは、アヤメという花の3つの品種について、4つの長さを計測したデータと、その品種が含まれるデータです。1つのレコード(行)には、4つの数値と1つのクラスがあります。4つの数値はそれぞれ、\n",
        "\n",
        "1.   ガクの長さ\n",
        "2.   ガクの横幅\n",
        "3.   花弁の長さ\n",
        "4.   花弁の横幅\n",
        "\n",
        "で、1つのクラスは3種類の品種を示します。3種類の品種は次の通りです。\n",
        "\n",
        "1.   setosa\n",
        "2.   versicolor\n",
        "3.   virginica\n",
        "\n",
        "irisデータセットにはこの3種類の品種について50レコードずつ150レコードがあります\n",
        "。このデータセットはサイズとしては最も小さいデータセットと言えます。入門用には好都合でしょう。\n",
        "\n",
        "これから、さまざまな機械学習アルゴリズムをこのデータに適用してみますが、まず初めにデータを訓練用と検証用に分割します。これは、モデルの良しあしを測るためのデータを学習に用いたデータとは別にすることで、適切な評価を行えるようにするものです。学校で練習問題を解いて、テストを受けるのとよく似ています。\n",
        "\n",
        "訓練用データと検証用データを分けるにはscikit-learnの機能の1つである、`train_test_split`を用います。"
      ]
    },
    {
      "cell_type": "code",
      "metadata": {
        "id": "JqB3SF6wQVTf",
        "colab_type": "code",
        "colab": {}
      },
      "source": [
        "from sklearn.model_selection import train_test_split\n",
        "\n",
        "x_train, x_test, y_train, y_test = train_test_split(iris['data'], iris['target'])"
      ],
      "execution_count": null,
      "outputs": []
    },
    {
      "cell_type": "markdown",
      "metadata": {
        "id": "iM84JjxXRnMD",
        "colab_type": "text"
      },
      "source": [
        "学習用データをpandasを使ってきれいにし、中身を見てみます。irisデータセットは全体で150レコードのデータがありましたが、訓練用データには112件が含まれています。これは、`train_test_split`がランダムに全体の75％のデータを訓練用データに、残りの25%を検証用データに割り当てるためです。targetの列を見ると、さまざまな品種がバラバラの順番になっていることがわかります。"
      ]
    },
    {
      "cell_type": "code",
      "metadata": {
        "id": "LHpkLqiaREBo",
        "colab_type": "code",
        "colab": {}
      },
      "source": [
        "data_train = pd.DataFrame(x_train, columns=iris.feature_names)\n",
        "data_train['target'] = iris.target_names[y_train]\n",
        "data_train"
      ],
      "execution_count": null,
      "outputs": []
    },
    {
      "cell_type": "markdown",
      "metadata": {
        "id": "nZsMh_9ASQiY",
        "colab_type": "text"
      },
      "source": [
        "同様に、検証用データセットも確認してみます。約25%にあたる37件が準備され、targetもバラバラになっています。"
      ]
    },
    {
      "cell_type": "code",
      "metadata": {
        "id": "ACQyIcLURQCH",
        "colab_type": "code",
        "colab": {}
      },
      "source": [
        "data_test = pd.DataFrame(x_test, columns=iris.feature_names)\n",
        "data_test['target'] = iris.target_names[y_test]\n",
        "data_test"
      ],
      "execution_count": null,
      "outputs": []
    },
    {
      "cell_type": "markdown",
      "metadata": {
        "id": "B-pGLKydQWHg",
        "colab_type": "text"
      },
      "source": [
        "ここまでで、実際に実験を進めるためのデータの準備が整いました。\n",
        "\n",
        "それでは、まず初めにk-近傍法という機械学習アルゴリズムをscikit-learnで使ってみることにします。\n",
        "\n",
        "K-近傍法はあるデータの近くにあるデータがどのように分類されているかを基に、そのデータが何に分類されるかを決める教師なし学習の分類アルゴリズムです。ここでは、scikit-learnの使い方に焦点を当てるため、アルゴリズムの詳細は省略します。\n",
        "\n",
        "まずは、モデルを学習します。scikit-learnでは、学習には`fit`という関数を用いるように作られており、`fit`関数にデータを渡すことで学習を実行できます。"
      ]
    },
    {
      "cell_type": "code",
      "metadata": {
        "id": "WnPPGsTfZPBN",
        "colab_type": "code",
        "colab": {}
      },
      "source": [
        "from sklearn.neighbors import KNeighborsClassifier\n",
        "\n",
        "knn = KNeighborsClassifier(n_neighbors=1)\n",
        "knn.fit(x_train, y_train)"
      ],
      "execution_count": null,
      "outputs": []
    },
    {
      "cell_type": "markdown",
      "metadata": {
        "id": "Cb9cmRpXe_HU",
        "colab_type": "text"
      },
      "source": [
        "学習が終わると、`predict`関数を呼び出すことで学習結果を使用して実際に推論を行うことができます。ここでは、検証用データセットの1つ目のデータについて推論してみます。`predict`関数に渡すときは、レコードを必ず配列の中に入れて渡す必要があります。"
      ]
    },
    {
      "cell_type": "code",
      "metadata": {
        "id": "vGxC_28ze-sF",
        "colab_type": "code",
        "colab": {}
      },
      "source": [
        "predicted = knn.predict([x_test[0]])\n",
        "predicted"
      ],
      "execution_count": null,
      "outputs": []
    },
    {
      "cell_type": "markdown",
      "metadata": {
        "id": "xFB8RKt-g2nZ",
        "colab_type": "text"
      },
      "source": [
        "`predict`で出てきた結果は分類結果を数値で表現したものです。irisデータセットでは、この数値による分類結果を文字列に戻すことで、分類結果が何であったのか確認できます。"
      ]
    },
    {
      "cell_type": "code",
      "metadata": {
        "id": "fSzc2XNVhxbM",
        "colab_type": "code",
        "colab": {}
      },
      "source": [
        "iris['target_names'][predicted]"
      ],
      "execution_count": null,
      "outputs": []
    },
    {
      "cell_type": "markdown",
      "metadata": {
        "id": "7VJNErCeh7Ar",
        "colab_type": "text"
      },
      "source": [
        "検証用データには正しいクラスの情報があり、比較します。これは、試験結果を答え合わせしていることに相当します。"
      ]
    },
    {
      "cell_type": "code",
      "metadata": {
        "id": "lM2Rme46iBEM",
        "colab_type": "code",
        "colab": {}
      },
      "source": [
        "iris['target_names'][y_test[0]]"
      ],
      "execution_count": null,
      "outputs": []
    },
    {
      "cell_type": "markdown",
      "metadata": {
        "id": "RKg4-BtCnyAd",
        "colab_type": "text"
      },
      "source": [
        "このように、scikit-learnで機械学習アルゴリズムを使用するときは、`fit`関数を使って学習し、`predict`関数で学習結果を用いた推論を行うという構成になっています。この基本的な使い方がわかったら、様々なアルゴリズムの特徴やデータに合わせて用いることで、手軽に機械学習を使うことができます。"
      ]
    },
    {
      "cell_type": "markdown",
      "metadata": {
        "id": "K8WmWcHTAU0t",
        "colab_type": "text"
      },
      "source": [
        "### 単回帰モデルの使用"
      ]
    },
    {
      "cell_type": "markdown",
      "metadata": {
        "id": "anxk0mWljj32",
        "colab_type": "text"
      },
      "source": [
        "ここでは、ボストン住宅価格のデータセットを用いて単回帰モデルのプログラムを確認する。"
      ]
    },
    {
      "cell_type": "code",
      "metadata": {
        "id": "WWOGZvBFjWtx",
        "colab_type": "code",
        "colab": {}
      },
      "source": [
        "from sklearn.datasets import load_boston\n",
        "import pandas as pd\n",
        "import matplotlib.pyplot as plt\n",
        "from sklearn.linear_model import LinearRegression\n",
        "\n",
        "boston = load_boston()\n",
        "\n",
        "boston_df = pd.DataFrame(boston.data, columns = boston.feature_names)\n",
        "boston_df['MEDV'] = boston.target\n",
        "\n",
        "lr = LinearRegression()\n",
        "\n",
        "X = boston_df[['RM']].values\n",
        "Y = boston_df['MEDV'].values\n",
        "\n",
        "lr.fit(X, Y)        \n",
        "\n",
        "plt.scatter(X, Y, color = 'blue')\n",
        "plt.plot(X, lr.predict(X), color = 'red')\n",
        "\n",
        "plt.show()  "
      ],
      "execution_count": null,
      "outputs": []
    },
    {
      "cell_type": "markdown",
      "metadata": {
        "id": "H4NDiUgBABQT",
        "colab_type": "text"
      },
      "source": [
        "## いろいろな機械学習モデルの使用"
      ]
    },
    {
      "cell_type": "markdown",
      "metadata": {
        "id": "zJrcukgXAYBg",
        "colab_type": "text"
      },
      "source": [
        "### 決定木"
      ]
    },
    {
      "cell_type": "markdown",
      "metadata": {
        "id": "NCFoV3Z6lAyT",
        "colab_type": "text"
      },
      "source": [
        "irisデータセットは、花弁の長さなどいくつかの観測値から3種類の花の種類に分類する問題。決定木を使ってこの分類を学習、推論する。"
      ]
    },
    {
      "cell_type": "code",
      "metadata": {
        "id": "0eI6FcTOkze4",
        "colab_type": "code",
        "colab": {}
      },
      "source": [
        "from sklearn import tree\n",
        "from sklearn.datasets import load_iris\n",
        "\n",
        "\n",
        "iris = load_iris()\n",
        "clf = tree.DecisionTreeClassifier(max_depth=3)\n",
        "clf = clf.fit(iris.data, iris.target)\n",
        "clf.predict(iris.data)"
      ],
      "execution_count": null,
      "outputs": []
    },
    {
      "cell_type": "markdown",
      "metadata": {
        "id": "JikwIljfAZ1h",
        "colab_type": "text"
      },
      "source": [
        "### サポートベクターマシン"
      ]
    },
    {
      "cell_type": "markdown",
      "metadata": {
        "id": "RDf0KcUgmnh0",
        "colab_type": "text"
      },
      "source": [
        "決定木で解いたirisデータセットの分類問題をサポートベクターマシンで同様に行う。"
      ]
    },
    {
      "cell_type": "code",
      "metadata": {
        "id": "Pvkf6Drrmm1C",
        "colab_type": "code",
        "colab": {}
      },
      "source": [
        "from sklearn import svm\n",
        "from sklearn.datasets import load_iris\n",
        "\n",
        "\n",
        "iris = load_iris()\n",
        "clf = svm.SVC(gamma=\"scale\")\n",
        "clf = clf.fit(iris.data, iris.target)\n",
        "clf.predict(iris.data)"
      ],
      "execution_count": null,
      "outputs": []
    },
    {
      "cell_type": "markdown",
      "metadata": {
        "id": "bCeTb0hxm4qg",
        "colab_type": "text"
      },
      "source": [
        "scikit-learnでは様々な機械学習モデルを同じような使い方で学習･推論できる。"
      ]
    }
  ]
}