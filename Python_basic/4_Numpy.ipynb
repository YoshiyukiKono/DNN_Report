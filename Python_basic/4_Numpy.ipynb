{
  "nbformat": 4,
  "nbformat_minor": 0,
  "metadata": {
    "colab": {
      "name": "4. Numpy.ipynb",
      "provenance": [],
      "private_outputs": true,
      "collapsed_sections": []
    },
    "kernelspec": {
      "name": "python3",
      "display_name": "Python 3"
    }
  },
  "cells": [
    {
      "cell_type": "markdown",
      "metadata": {
        "id": "dqPLGWklGyLL",
        "colab_type": "text"
      },
      "source": [
        "# numpyとは"
      ]
    },
    {
      "cell_type": "markdown",
      "metadata": {
        "id": "YYhxbdDdTcMH",
        "colab_type": "text"
      },
      "source": [
        "## 高速な行列演算"
      ]
    },
    {
      "cell_type": "markdown",
      "metadata": {
        "id": "g7hHjhH9tf5F",
        "colab_type": "text"
      },
      "source": [
        "配列表現を高速に処理するライブラリ。数値ベクトルの処理に特に強い。通常のPythonは大量の計算を行うことが得意ではないため、様々な工夫により動作が高速になるように設計されている。"
      ]
    },
    {
      "cell_type": "markdown",
      "metadata": {
        "id": "yLAGsPBmTr69",
        "colab_type": "text"
      },
      "source": [
        "## 機械学習ライブラリの土台"
      ]
    },
    {
      "cell_type": "markdown",
      "metadata": {
        "id": "Xze-Bh9xTu10",
        "colab_type": "text"
      },
      "source": [
        "numpyは\"数値データを効率的に扱う\"という最も基本的な機能を提供しているため、他の機械学習ライブラリの基礎、土台として機能する。\n",
        "\n",
        "例えば、pandasでは、内部でのデータ処理にnumpyが用いられている。このほかにも、scikit-learnやmatplotlibなどは、numpyで作成されたデータを直接取り扱えるように設計されている。"
      ]
    },
    {
      "cell_type": "markdown",
      "metadata": {
        "id": "28eCF0X9UlVl",
        "colab_type": "text"
      },
      "source": [
        "これ以降の解説のため、numpyを読み込む。"
      ]
    },
    {
      "cell_type": "code",
      "metadata": {
        "id": "etwt1ZasUjMI",
        "colab_type": "code",
        "colab": {}
      },
      "source": [
        "import numpy as np"
      ],
      "execution_count": null,
      "outputs": []
    },
    {
      "cell_type": "markdown",
      "metadata": {
        "id": "-9RNgKdNUP7m",
        "colab_type": "text"
      },
      "source": [
        "# 行列の作成･取扱い"
      ]
    },
    {
      "cell_type": "markdown",
      "metadata": {
        "id": "gtfWbkmAG2q7",
        "colab_type": "text"
      },
      "source": [
        "## 行列の作成"
      ]
    },
    {
      "cell_type": "markdown",
      "metadata": {
        "id": "AqKB9IzbVHlx",
        "colab_type": "text"
      },
      "source": [
        "numpyでは様々な行列の作成方法がある。一例を示す。"
      ]
    },
    {
      "cell_type": "code",
      "metadata": {
        "id": "iCfxAgmStpVe",
        "colab_type": "code",
        "colab": {}
      },
      "source": [
        "np.array([1, 2, 3, 4, 5])"
      ],
      "execution_count": null,
      "outputs": []
    },
    {
      "cell_type": "code",
      "metadata": {
        "id": "MXo7vF1bHeFj",
        "colab_type": "code",
        "colab": {}
      },
      "source": [
        "np.zeros(10, dtype=int)"
      ],
      "execution_count": null,
      "outputs": []
    },
    {
      "cell_type": "code",
      "metadata": {
        "id": "FMYFeTkbHfPz",
        "colab_type": "code",
        "colab": {}
      },
      "source": [
        "np.ones((3, 5), dtype=float)"
      ],
      "execution_count": null,
      "outputs": []
    },
    {
      "cell_type": "code",
      "metadata": {
        "id": "DU3ecbpgHgAb",
        "colab_type": "code",
        "colab": {}
      },
      "source": [
        "np.full((3, 5), 3.14)"
      ],
      "execution_count": null,
      "outputs": []
    },
    {
      "cell_type": "code",
      "metadata": {
        "id": "IaGVNdnbHhK7",
        "colab_type": "code",
        "colab": {}
      },
      "source": [
        "np.arange(0, 20, 3)"
      ],
      "execution_count": null,
      "outputs": []
    },
    {
      "cell_type": "code",
      "metadata": {
        "id": "TgpgU6TcHjBb",
        "colab_type": "code",
        "colab": {}
      },
      "source": [
        "np.linspace(0, 1, 5)"
      ],
      "execution_count": null,
      "outputs": []
    },
    {
      "cell_type": "code",
      "metadata": {
        "id": "sJaDIWhMHoHr",
        "colab_type": "code",
        "colab": {}
      },
      "source": [
        "np.random.random((3, 4))"
      ],
      "execution_count": null,
      "outputs": []
    },
    {
      "cell_type": "code",
      "metadata": {
        "id": "YGh1sdDRHpIz",
        "colab_type": "code",
        "colab": {}
      },
      "source": [
        "np.random.normal(0, 1, (3, 3))"
      ],
      "execution_count": null,
      "outputs": []
    },
    {
      "cell_type": "code",
      "metadata": {
        "id": "Gfn-Xyz-HqTT",
        "colab_type": "code",
        "colab": {}
      },
      "source": [
        "np.random.randint(0, 20, (3, 4))"
      ],
      "execution_count": null,
      "outputs": []
    },
    {
      "cell_type": "code",
      "metadata": {
        "id": "mY0ned4rHrsb",
        "colab_type": "code",
        "colab": {}
      },
      "source": [
        "np.eye(4)"
      ],
      "execution_count": null,
      "outputs": []
    },
    {
      "cell_type": "markdown",
      "metadata": {
        "id": "cw9N8dPYIsy7",
        "colab_type": "text"
      },
      "source": [
        "## 行列の情報を得る"
      ]
    },
    {
      "cell_type": "markdown",
      "metadata": {
        "id": "2geck-_vVRLk",
        "colab_type": "text"
      },
      "source": [
        "numpy形式の配列は行列に関する様々な情報を取得することができる。ここでは、digitsというデータセットを用いて取得できる情報を紹介する。\n",
        "\n",
        "digitsは0から9の手書き数字が書かれた8x8ピクセルの小さな画像と、画像に何の数字が書かれているかの情報の2つからなる。画像と、何が書かれているかの情報のペアは全部で1797ペアが存在する。"
      ]
    },
    {
      "cell_type": "code",
      "metadata": {
        "id": "FTjaDn-8iDoc",
        "colab_type": "code",
        "colab": {}
      },
      "source": [
        "from sklearn import datasets\n",
        "\n",
        "mnist = datasets.load_digits()"
      ],
      "execution_count": null,
      "outputs": []
    },
    {
      "cell_type": "markdown",
      "metadata": {
        "id": "n6mS1tZWWVUs",
        "colab_type": "text"
      },
      "source": [
        "データセットの中の`'images'`には行列形式で保管された0から9の数値が含まれる。"
      ]
    },
    {
      "cell_type": "code",
      "metadata": {
        "id": "v6txXfSCWSOW",
        "colab_type": "code",
        "colab": {}
      },
      "source": [
        "mnist['images']"
      ],
      "execution_count": null,
      "outputs": []
    },
    {
      "cell_type": "markdown",
      "metadata": {
        "id": "IpqSh5eVWLm5",
        "colab_type": "text"
      },
      "source": [
        "同様に`'target'`には、各画像に何が書かれているかの情報が含まれる。"
      ]
    },
    {
      "cell_type": "code",
      "metadata": {
        "id": "ssh11xWZVyHv",
        "colab_type": "code",
        "colab": {}
      },
      "source": [
        "mnist['target']"
      ],
      "execution_count": null,
      "outputs": []
    },
    {
      "cell_type": "markdown",
      "metadata": {
        "id": "_yS7q9p7Wsph",
        "colab_type": "text"
      },
      "source": [
        "`ndim`は行列の次元数を示す。"
      ]
    },
    {
      "cell_type": "code",
      "metadata": {
        "id": "A4yzh6aXiKnP",
        "colab_type": "code",
        "colab": {}
      },
      "source": [
        "mnist['images'].ndim"
      ],
      "execution_count": null,
      "outputs": []
    },
    {
      "cell_type": "code",
      "metadata": {
        "id": "7NaKDyKDi-oa",
        "colab_type": "code",
        "colab": {}
      },
      "source": [
        "mnist['target'].ndim"
      ],
      "execution_count": null,
      "outputs": []
    },
    {
      "cell_type": "markdown",
      "metadata": {
        "id": "8N9AeigtW20y",
        "colab_type": "text"
      },
      "source": [
        "`shape`は行列の形状を示す。"
      ]
    },
    {
      "cell_type": "code",
      "metadata": {
        "id": "R8I8iiKqiMhf",
        "colab_type": "code",
        "colab": {}
      },
      "source": [
        "mnist['images'].shape"
      ],
      "execution_count": null,
      "outputs": []
    },
    {
      "cell_type": "code",
      "metadata": {
        "id": "mrq0PKy4jAfK",
        "colab_type": "code",
        "colab": {}
      },
      "source": [
        "mnist['target'].shape"
      ],
      "execution_count": null,
      "outputs": []
    },
    {
      "cell_type": "markdown",
      "metadata": {
        "id": "-E9-emm-Xhp9",
        "colab_type": "text"
      },
      "source": [
        "ここからは、小さな配列を用いてそれぞれがどのような意味なのかを確認する。"
      ]
    },
    {
      "cell_type": "code",
      "metadata": {
        "id": "uL9x3ip2IvQC",
        "colab_type": "code",
        "colab": {}
      },
      "source": [
        "x1 = np.zeros(6, dtype=np.float16)\n",
        "x2 = np.zeros((3, 4), dtype=np.uint8)\n",
        "x3 = np.zeros((3, 4, 5), dtype=np.float32)"
      ],
      "execution_count": null,
      "outputs": []
    },
    {
      "cell_type": "code",
      "metadata": {
        "id": "PHEpKwFIiYtp",
        "colab_type": "code",
        "colab": {}
      },
      "source": [
        "x1"
      ],
      "execution_count": null,
      "outputs": []
    },
    {
      "cell_type": "code",
      "metadata": {
        "id": "tgXG3C0AiZ0H",
        "colab_type": "code",
        "colab": {}
      },
      "source": [
        "x2"
      ],
      "execution_count": null,
      "outputs": []
    },
    {
      "cell_type": "code",
      "metadata": {
        "id": "9mItqnDJibKz",
        "colab_type": "code",
        "colab": {}
      },
      "source": [
        "x3"
      ],
      "execution_count": null,
      "outputs": []
    },
    {
      "cell_type": "markdown",
      "metadata": {
        "id": "8a0Pp2m1I17T",
        "colab_type": "text"
      },
      "source": [
        "### 次元数"
      ]
    },
    {
      "cell_type": "code",
      "metadata": {
        "id": "8XmdhrFsI6sr",
        "colab_type": "code",
        "colab": {}
      },
      "source": [
        "x1.ndim"
      ],
      "execution_count": null,
      "outputs": []
    },
    {
      "cell_type": "code",
      "metadata": {
        "id": "FZm6z_cOJBRL",
        "colab_type": "code",
        "colab": {}
      },
      "source": [
        "x2.ndim"
      ],
      "execution_count": null,
      "outputs": []
    },
    {
      "cell_type": "code",
      "metadata": {
        "id": "QfrAX-KIJCoL",
        "colab_type": "code",
        "colab": {}
      },
      "source": [
        "x3.ndim"
      ],
      "execution_count": null,
      "outputs": []
    },
    {
      "cell_type": "markdown",
      "metadata": {
        "id": "2DLNxiIgJGx0",
        "colab_type": "text"
      },
      "source": [
        "### シェイプ"
      ]
    },
    {
      "cell_type": "code",
      "metadata": {
        "id": "1QsfwgejJLCy",
        "colab_type": "code",
        "colab": {}
      },
      "source": [
        "x1.shape"
      ],
      "execution_count": null,
      "outputs": []
    },
    {
      "cell_type": "code",
      "metadata": {
        "id": "cnSLdUi-JMT7",
        "colab_type": "code",
        "colab": {}
      },
      "source": [
        "x2.shape"
      ],
      "execution_count": null,
      "outputs": []
    },
    {
      "cell_type": "code",
      "metadata": {
        "id": "EGJ5OHKwJODU",
        "colab_type": "code",
        "colab": {}
      },
      "source": [
        "x3.shape"
      ],
      "execution_count": null,
      "outputs": []
    },
    {
      "cell_type": "markdown",
      "metadata": {
        "id": "dlgV0No9JPXd",
        "colab_type": "text"
      },
      "source": [
        "### 合計サイズ"
      ]
    },
    {
      "cell_type": "code",
      "metadata": {
        "id": "Gx73KNTvJSPL",
        "colab_type": "code",
        "colab": {}
      },
      "source": [
        "x1.size"
      ],
      "execution_count": null,
      "outputs": []
    },
    {
      "cell_type": "code",
      "metadata": {
        "id": "u_2uGzEZJUJV",
        "colab_type": "code",
        "colab": {}
      },
      "source": [
        "x2.size"
      ],
      "execution_count": null,
      "outputs": []
    },
    {
      "cell_type": "code",
      "metadata": {
        "id": "YlsPk08yJVeL",
        "colab_type": "code",
        "colab": {}
      },
      "source": [
        "x3.size"
      ],
      "execution_count": null,
      "outputs": []
    },
    {
      "cell_type": "markdown",
      "metadata": {
        "id": "H6k6fjhDKEw0",
        "colab_type": "text"
      },
      "source": [
        "### データ型"
      ]
    },
    {
      "cell_type": "markdown",
      "metadata": {
        "id": "qcsfUNFRXrbY",
        "colab_type": "text"
      },
      "source": [
        "データ型は、それぞれの行列が整数なのか、小数なのかなどを意味する。"
      ]
    },
    {
      "cell_type": "code",
      "metadata": {
        "id": "urqrwUZIKGRc",
        "colab_type": "code",
        "colab": {}
      },
      "source": [
        "x1.dtype"
      ],
      "execution_count": null,
      "outputs": []
    },
    {
      "cell_type": "code",
      "metadata": {
        "id": "Y_aAS7rYKIos",
        "colab_type": "code",
        "colab": {}
      },
      "source": [
        "x2.dtype"
      ],
      "execution_count": null,
      "outputs": []
    },
    {
      "cell_type": "code",
      "metadata": {
        "id": "OtwvJMT5KJw1",
        "colab_type": "code",
        "colab": {}
      },
      "source": [
        "x3.dtype"
      ],
      "execution_count": null,
      "outputs": []
    },
    {
      "cell_type": "markdown",
      "metadata": {
        "id": "WKt2UkcVKrCC",
        "colab_type": "text"
      },
      "source": [
        "## 行列の中身を取得する"
      ]
    },
    {
      "cell_type": "markdown",
      "metadata": {
        "id": "DkaBv5b8YV3q",
        "colab_type": "text"
      },
      "source": [
        "ここでは、行列の中身から一部の値を取り出す方法を紹介する。"
      ]
    },
    {
      "cell_type": "markdown",
      "metadata": {
        "id": "d0gPgKzvK-0g",
        "colab_type": "text"
      },
      "source": [
        "### インデックス"
      ]
    },
    {
      "cell_type": "markdown",
      "metadata": {
        "id": "12e3zZiVNMOJ",
        "colab_type": "text"
      },
      "source": [
        "##### 1次元の配列"
      ]
    },
    {
      "cell_type": "code",
      "metadata": {
        "id": "VBoxSnp6Md2i",
        "colab_type": "code",
        "colab": {}
      },
      "source": [
        "x1 = np.random.randint(10, size=(6))\n",
        "x1"
      ],
      "execution_count": null,
      "outputs": []
    },
    {
      "cell_type": "code",
      "metadata": {
        "id": "VyxUNmClNDkR",
        "colab_type": "code",
        "colab": {}
      },
      "source": [
        "x1[0]"
      ],
      "execution_count": null,
      "outputs": []
    },
    {
      "cell_type": "code",
      "metadata": {
        "id": "oqz0OM-NNFH6",
        "colab_type": "code",
        "colab": {}
      },
      "source": [
        "x1[3]"
      ],
      "execution_count": null,
      "outputs": []
    },
    {
      "cell_type": "code",
      "metadata": {
        "id": "teLycLHBNHEJ",
        "colab_type": "code",
        "colab": {}
      },
      "source": [
        "x1[-1]"
      ],
      "execution_count": null,
      "outputs": []
    },
    {
      "cell_type": "code",
      "metadata": {
        "id": "WVNgEqNaNIbR",
        "colab_type": "code",
        "colab": {}
      },
      "source": [
        "x1[-4]"
      ],
      "execution_count": null,
      "outputs": []
    },
    {
      "cell_type": "code",
      "metadata": {
        "id": "y-rpJgwcNiV5",
        "colab_type": "code",
        "colab": {}
      },
      "source": [
        "x1[2] = 8\n",
        "x1"
      ],
      "execution_count": null,
      "outputs": []
    },
    {
      "cell_type": "markdown",
      "metadata": {
        "id": "SxD_17TXNPNq",
        "colab_type": "text"
      },
      "source": [
        "##### 多次元の配列"
      ]
    },
    {
      "cell_type": "code",
      "metadata": {
        "id": "s3LsYoYxNS2Q",
        "colab_type": "code",
        "colab": {}
      },
      "source": [
        "x2 = np.random.randint(10, size=(3, 4))\n",
        "x2"
      ],
      "execution_count": null,
      "outputs": []
    },
    {
      "cell_type": "code",
      "metadata": {
        "id": "sRE5h-VTNWPJ",
        "colab_type": "code",
        "colab": {}
      },
      "source": [
        "x2[0, 0]"
      ],
      "execution_count": null,
      "outputs": []
    },
    {
      "cell_type": "code",
      "metadata": {
        "id": "35aYRUAINd-K",
        "colab_type": "code",
        "colab": {}
      },
      "source": [
        "x2[2, 2]"
      ],
      "execution_count": null,
      "outputs": []
    },
    {
      "cell_type": "code",
      "metadata": {
        "id": "z1rlX2GZNs6Q",
        "colab_type": "code",
        "colab": {}
      },
      "source": [
        "x2[2, -1]"
      ],
      "execution_count": null,
      "outputs": []
    },
    {
      "cell_type": "code",
      "metadata": {
        "id": "B1Aq4uayNvdw",
        "colab_type": "code",
        "colab": {}
      },
      "source": [
        "x2[0, 0] = 12\n",
        "x2"
      ],
      "execution_count": null,
      "outputs": []
    },
    {
      "cell_type": "markdown",
      "metadata": {
        "id": "MOoOHWqjN09f",
        "colab_type": "text"
      },
      "source": [
        "### ビュー"
      ]
    },
    {
      "cell_type": "markdown",
      "metadata": {
        "id": "TcUyUQHRYejs",
        "colab_type": "text"
      },
      "source": [
        "ビューを用いると、行列の一部を切り出して処理を行える。切り出した行列は元の行列とリンクした状態で操作されるため、ビューの行列の値を変更すると元の行列に影響する。"
      ]
    },
    {
      "cell_type": "code",
      "metadata": {
        "id": "59i3aOaTORdS",
        "colab_type": "code",
        "colab": {}
      },
      "source": [
        "x2 = np.random.randint(10, size=(3, 4))\n",
        "x2"
      ],
      "execution_count": null,
      "outputs": []
    },
    {
      "cell_type": "code",
      "metadata": {
        "id": "OSo5Wfd3OXWw",
        "colab_type": "code",
        "colab": {}
      },
      "source": [
        "x2_sub = x2[:2, :2]\n",
        "x2_sub"
      ],
      "execution_count": null,
      "outputs": []
    },
    {
      "cell_type": "code",
      "metadata": {
        "id": "I_8KfDV0Oagw",
        "colab_type": "code",
        "colab": {}
      },
      "source": [
        "x2_sub[0, 0] = 99\n",
        "x2_sub"
      ],
      "execution_count": null,
      "outputs": []
    },
    {
      "cell_type": "code",
      "metadata": {
        "id": "7_sK3girOaaQ",
        "colab_type": "code",
        "colab": {}
      },
      "source": [
        "x2"
      ],
      "execution_count": null,
      "outputs": []
    },
    {
      "cell_type": "markdown",
      "metadata": {
        "id": "rDGsgPAHOlCX",
        "colab_type": "text"
      },
      "source": [
        "### コピー"
      ]
    },
    {
      "cell_type": "markdown",
      "metadata": {
        "id": "aVcyisguYsST",
        "colab_type": "text"
      },
      "source": [
        "ビューでは元の行列に変更した内容が影響を与えるが、明示的にコピーすることで、元の行列の部分行列を別個に扱える。"
      ]
    },
    {
      "cell_type": "code",
      "metadata": {
        "id": "3eHEs0UBOktY",
        "colab_type": "code",
        "colab": {}
      },
      "source": [
        "x2 = np.random.randint(10, size=(3, 4))\n",
        "x2"
      ],
      "execution_count": null,
      "outputs": []
    },
    {
      "cell_type": "code",
      "metadata": {
        "id": "52_VMa9YOsBo",
        "colab_type": "code",
        "colab": {}
      },
      "source": [
        "x2_sub_copy = x2[:2, :2].copy()\n",
        "x2_sub_copy"
      ],
      "execution_count": null,
      "outputs": []
    },
    {
      "cell_type": "code",
      "metadata": {
        "id": "EBCSTe3cOwqg",
        "colab_type": "code",
        "colab": {}
      },
      "source": [
        "x2_sub_copy[0, 0] = 42\n",
        "x2_sub_copy"
      ],
      "execution_count": null,
      "outputs": []
    },
    {
      "cell_type": "code",
      "metadata": {
        "id": "7QA1q2p8O0l6",
        "colab_type": "code",
        "colab": {}
      },
      "source": [
        "x2"
      ],
      "execution_count": null,
      "outputs": []
    },
    {
      "cell_type": "markdown",
      "metadata": {
        "id": "7IN2Ygf4O-yx",
        "colab_type": "text"
      },
      "source": [
        "## 行列の形状変更"
      ]
    },
    {
      "cell_type": "markdown",
      "metadata": {
        "id": "rjOrsmMuY_41",
        "colab_type": "text"
      },
      "source": [
        "行列の形状を変えるには`reshape()`メソッドを用いる。計算を行うときに行列の形状を変更する作業は良く行う。"
      ]
    },
    {
      "cell_type": "code",
      "metadata": {
        "id": "594mzdCePFHQ",
        "colab_type": "code",
        "colab": {}
      },
      "source": [
        "grid = np.arange(1, 10)\n",
        "grid"
      ],
      "execution_count": null,
      "outputs": []
    },
    {
      "cell_type": "code",
      "metadata": {
        "id": "fH6FdjoBmPzn",
        "colab_type": "code",
        "colab": {}
      },
      "source": [
        "grid.reshape((3, 3))"
      ],
      "execution_count": null,
      "outputs": []
    },
    {
      "cell_type": "code",
      "metadata": {
        "id": "hsIaDSOnmUFG",
        "colab_type": "code",
        "colab": {}
      },
      "source": [
        "grid.reshape((2, 5))"
      ],
      "execution_count": null,
      "outputs": []
    },
    {
      "cell_type": "code",
      "metadata": {
        "id": "cqkyUnt1PV4P",
        "colab_type": "code",
        "colab": {}
      },
      "source": [
        "x = np.array([1, 2, 3])\n",
        "x"
      ],
      "execution_count": null,
      "outputs": []
    },
    {
      "cell_type": "markdown",
      "metadata": {
        "id": "JSRwVzhZPhao",
        "colab_type": "text"
      },
      "source": [
        "`reshape`を使った行ベクトルの作成"
      ]
    },
    {
      "cell_type": "code",
      "metadata": {
        "id": "KEG8gBKAPZXQ",
        "colab_type": "code",
        "colab": {}
      },
      "source": [
        "x.reshape((1, 3))"
      ],
      "execution_count": null,
      "outputs": []
    },
    {
      "cell_type": "markdown",
      "metadata": {
        "id": "2LYXwXypPovB",
        "colab_type": "text"
      },
      "source": [
        "`newaxis`を使った行ベクトルの作成"
      ]
    },
    {
      "cell_type": "code",
      "metadata": {
        "id": "EHdyRDvFPamg",
        "colab_type": "code",
        "colab": {}
      },
      "source": [
        "x[np.newaxis]"
      ],
      "execution_count": null,
      "outputs": []
    },
    {
      "cell_type": "markdown",
      "metadata": {
        "id": "3AwaGxK1PuJp",
        "colab_type": "text"
      },
      "source": [
        "`reshape`を使った列ベクトルの作成"
      ]
    },
    {
      "cell_type": "code",
      "metadata": {
        "id": "NIbg1BjHPeYo",
        "colab_type": "code",
        "colab": {}
      },
      "source": [
        "x.reshape((3, 1))"
      ],
      "execution_count": null,
      "outputs": []
    },
    {
      "cell_type": "markdown",
      "metadata": {
        "id": "UqbxmxXiP45B",
        "colab_type": "text"
      },
      "source": [
        "`newaxis`を用いた列ベクトルの作成"
      ]
    },
    {
      "cell_type": "code",
      "metadata": {
        "id": "CdxL1SYuP7pW",
        "colab_type": "code",
        "colab": {}
      },
      "source": [
        "x[:, np.newaxis]"
      ],
      "execution_count": null,
      "outputs": []
    },
    {
      "cell_type": "code",
      "metadata": {
        "id": "5-iX01eUnPcV",
        "colab_type": "code",
        "colab": {}
      },
      "source": [
        "x3 = np.random.randint(10, size=(3, 4))\n",
        "x3"
      ],
      "execution_count": null,
      "outputs": []
    },
    {
      "cell_type": "code",
      "metadata": {
        "id": "jfxTwbzPna7m",
        "colab_type": "code",
        "colab": {}
      },
      "source": [
        "x3[:, np.newaxis, :]"
      ],
      "execution_count": null,
      "outputs": []
    },
    {
      "cell_type": "markdown",
      "metadata": {
        "id": "YYSNveejQDxA",
        "colab_type": "text"
      },
      "source": [
        "## 行列の連結"
      ]
    },
    {
      "cell_type": "markdown",
      "metadata": {
        "id": "JHb-wNhKZT_N",
        "colab_type": "text"
      },
      "source": [
        "複数の行列を`concatenate()`関数を用いることで連結できる。"
      ]
    },
    {
      "cell_type": "markdown",
      "metadata": {
        "id": "mg2aRfabQwa3",
        "colab_type": "text"
      },
      "source": [
        "### 1次元"
      ]
    },
    {
      "cell_type": "code",
      "metadata": {
        "id": "yg4tu781QJoJ",
        "colab_type": "code",
        "colab": {}
      },
      "source": [
        "x = np.array([1, 2, 3])\n",
        "x"
      ],
      "execution_count": null,
      "outputs": []
    },
    {
      "cell_type": "code",
      "metadata": {
        "id": "p-KoGWChQOv3",
        "colab_type": "code",
        "colab": {}
      },
      "source": [
        "y = np.array([3, 2, 1])\n",
        "y"
      ],
      "execution_count": null,
      "outputs": []
    },
    {
      "cell_type": "code",
      "metadata": {
        "id": "9VjuzPzRQRrw",
        "colab_type": "code",
        "colab": {}
      },
      "source": [
        "np.concatenate([x, y])"
      ],
      "execution_count": null,
      "outputs": []
    },
    {
      "cell_type": "code",
      "metadata": {
        "id": "8wcmXSItQVag",
        "colab_type": "code",
        "colab": {}
      },
      "source": [
        "z = [99, 99, 99]\n",
        "z"
      ],
      "execution_count": null,
      "outputs": []
    },
    {
      "cell_type": "code",
      "metadata": {
        "id": "obkJOxUfQX0Q",
        "colab_type": "code",
        "colab": {}
      },
      "source": [
        "np.concatenate([x, y, z])"
      ],
      "execution_count": null,
      "outputs": []
    },
    {
      "cell_type": "markdown",
      "metadata": {
        "id": "SUkRrHxQQeY-",
        "colab_type": "text"
      },
      "source": [
        "### 多次元"
      ]
    },
    {
      "cell_type": "code",
      "metadata": {
        "id": "VAoll9llQcvw",
        "colab_type": "code",
        "colab": {}
      },
      "source": [
        "grid = np.array([[1, 2, 3],\n",
        "                 [4, 5, 6]])"
      ],
      "execution_count": null,
      "outputs": []
    },
    {
      "cell_type": "code",
      "metadata": {
        "id": "_9lP6jGRonZO",
        "colab_type": "code",
        "colab": {}
      },
      "source": [
        "grid.shape"
      ],
      "execution_count": null,
      "outputs": []
    },
    {
      "cell_type": "code",
      "metadata": {
        "id": "JgXudtr6QgXf",
        "colab_type": "code",
        "colab": {}
      },
      "source": [
        "grid2 = np.concatenate([grid, grid], axis=0)\n",
        "grid2"
      ],
      "execution_count": null,
      "outputs": []
    },
    {
      "cell_type": "code",
      "metadata": {
        "id": "6Yc5fTFiouEC",
        "colab_type": "code",
        "colab": {}
      },
      "source": [
        "grid2.shape"
      ],
      "execution_count": null,
      "outputs": []
    },
    {
      "cell_type": "code",
      "metadata": {
        "id": "lKhNvQhXQn7_",
        "colab_type": "code",
        "colab": {}
      },
      "source": [
        "grid3 = np.concatenate([grid, grid], axis=1)\n",
        "grid3"
      ],
      "execution_count": null,
      "outputs": []
    },
    {
      "cell_type": "code",
      "metadata": {
        "id": "pg3uh9itoylp",
        "colab_type": "code",
        "colab": {}
      },
      "source": [
        "grid3.shape"
      ],
      "execution_count": null,
      "outputs": []
    },
    {
      "cell_type": "code",
      "metadata": {
        "id": "VMVwaQXR6-u9",
        "colab_type": "code",
        "colab": {}
      },
      "source": [
        "aaa = np.random.randint(10, size=(3, 4, 3))\n",
        "aaa"
      ],
      "execution_count": null,
      "outputs": []
    },
    {
      "cell_type": "code",
      "metadata": {
        "id": "w3z1EFBT7PWw",
        "colab_type": "code",
        "colab": {}
      },
      "source": [
        "np.concatenate([aaa, aaa], axis=2).shape"
      ],
      "execution_count": null,
      "outputs": []
    },
    {
      "cell_type": "code",
      "metadata": {
        "id": "TYhlVuKe8WgV",
        "colab_type": "code",
        "colab": {}
      },
      "source": [
        "np.concatenate([aaa, aaa], axis=1).shape"
      ],
      "execution_count": null,
      "outputs": []
    },
    {
      "cell_type": "code",
      "metadata": {
        "id": "U5I6yFtU8alO",
        "colab_type": "code",
        "colab": {}
      },
      "source": [
        "np.concatenate([aaa, aaa], axis=0).shape"
      ],
      "execution_count": null,
      "outputs": []
    },
    {
      "cell_type": "markdown",
      "metadata": {
        "id": "X-P7DZtKRurC",
        "colab_type": "text"
      },
      "source": [
        "# 行列の演算"
      ]
    },
    {
      "cell_type": "markdown",
      "metadata": {
        "id": "wTFf3y52Zhmh",
        "colab_type": "text"
      },
      "source": [
        "numpyでは行列に対して容易に演算を行える。"
      ]
    },
    {
      "cell_type": "markdown",
      "metadata": {
        "id": "8MMGyHpQSN9O",
        "colab_type": "text"
      },
      "source": [
        "### 四則演算"
      ]
    },
    {
      "cell_type": "code",
      "metadata": {
        "id": "6KSn-NU7RyQg",
        "colab_type": "code",
        "colab": {}
      },
      "source": [
        "x = np.arange(4)\n",
        "x"
      ],
      "execution_count": null,
      "outputs": []
    },
    {
      "cell_type": "code",
      "metadata": {
        "id": "1fvxUosaR3eQ",
        "colab_type": "code",
        "colab": {}
      },
      "source": [
        "x + 5"
      ],
      "execution_count": null,
      "outputs": []
    },
    {
      "cell_type": "code",
      "metadata": {
        "id": "ZLdNWsFqR7IP",
        "colab_type": "code",
        "colab": {}
      },
      "source": [
        "x - 5"
      ],
      "execution_count": null,
      "outputs": []
    },
    {
      "cell_type": "code",
      "metadata": {
        "id": "GqtbOG9BR8oi",
        "colab_type": "code",
        "colab": {}
      },
      "source": [
        "x * 2"
      ],
      "execution_count": null,
      "outputs": []
    },
    {
      "cell_type": "code",
      "metadata": {
        "id": "O4V_-atvR94z",
        "colab_type": "code",
        "colab": {}
      },
      "source": [
        "x / 2"
      ],
      "execution_count": null,
      "outputs": []
    },
    {
      "cell_type": "code",
      "metadata": {
        "id": "TH9DeXYfSEKX",
        "colab_type": "code",
        "colab": {}
      },
      "source": [
        "x // 2"
      ],
      "execution_count": null,
      "outputs": []
    },
    {
      "cell_type": "code",
      "metadata": {
        "id": "ErXMSHA9SGo6",
        "colab_type": "code",
        "colab": {}
      },
      "source": [
        "x ** 3"
      ],
      "execution_count": null,
      "outputs": []
    },
    {
      "cell_type": "code",
      "metadata": {
        "id": "BS2XlYtzSH3v",
        "colab_type": "code",
        "colab": {}
      },
      "source": [
        "x % 2"
      ],
      "execution_count": null,
      "outputs": []
    },
    {
      "cell_type": "code",
      "metadata": {
        "id": "3PAg09X6SKgA",
        "colab_type": "code",
        "colab": {}
      },
      "source": [
        "-(0.5*x + 1) ** 2"
      ],
      "execution_count": null,
      "outputs": []
    },
    {
      "cell_type": "markdown",
      "metadata": {
        "id": "ELsxXx_nWi4G",
        "colab_type": "text"
      },
      "source": [
        "## 集約"
      ]
    },
    {
      "cell_type": "markdown",
      "metadata": {
        "id": "HFjt8bsIZ3Th",
        "colab_type": "text"
      },
      "source": [
        "numpy行列には集約処理が用意されている。集約処理を用いると、行列の特徴に関する情報を求めることができる。"
      ]
    },
    {
      "cell_type": "markdown",
      "metadata": {
        "id": "X_-ZFmS2WmZZ",
        "colab_type": "text"
      },
      "source": [
        "### 配列の合計"
      ]
    },
    {
      "cell_type": "code",
      "metadata": {
        "id": "wc7c-4YtWp6d",
        "colab_type": "code",
        "colab": {}
      },
      "source": [
        "L = np.random.random(100)\n",
        "L"
      ],
      "execution_count": null,
      "outputs": []
    },
    {
      "cell_type": "code",
      "metadata": {
        "id": "lqmwm5W6WraO",
        "colab_type": "code",
        "colab": {}
      },
      "source": [
        "np.sum(L)"
      ],
      "execution_count": null,
      "outputs": []
    },
    {
      "cell_type": "code",
      "metadata": {
        "id": "JzrBifpjXOH1",
        "colab_type": "code",
        "colab": {}
      },
      "source": [
        "L.sum()"
      ],
      "execution_count": null,
      "outputs": []
    },
    {
      "cell_type": "markdown",
      "metadata": {
        "id": "DSQck-JtW90u",
        "colab_type": "text"
      },
      "source": [
        "### 最大･最小"
      ]
    },
    {
      "cell_type": "code",
      "metadata": {
        "id": "YSNKriRYW3VO",
        "colab_type": "code",
        "colab": {}
      },
      "source": [
        "np.min(L)"
      ],
      "execution_count": null,
      "outputs": []
    },
    {
      "cell_type": "code",
      "metadata": {
        "id": "QwmTMbV_XGsV",
        "colab_type": "code",
        "colab": {}
      },
      "source": [
        "np.max(L)"
      ],
      "execution_count": null,
      "outputs": []
    },
    {
      "cell_type": "code",
      "metadata": {
        "id": "5l2Z6_lRXP-F",
        "colab_type": "code",
        "colab": {}
      },
      "source": [
        "L.min()"
      ],
      "execution_count": null,
      "outputs": []
    },
    {
      "cell_type": "code",
      "metadata": {
        "id": "hNWD-DwNXRg4",
        "colab_type": "code",
        "colab": {}
      },
      "source": [
        "L.max()"
      ],
      "execution_count": null,
      "outputs": []
    },
    {
      "cell_type": "markdown",
      "metadata": {
        "id": "5n5JPCF7Yk6c",
        "colab_type": "text"
      },
      "source": [
        "### 多次元配列の集約"
      ]
    },
    {
      "cell_type": "code",
      "metadata": {
        "id": "xvlmylMPYoIG",
        "colab_type": "code",
        "colab": {}
      },
      "source": [
        "M = np.random.random((3, 4))\n",
        "M"
      ],
      "execution_count": null,
      "outputs": []
    },
    {
      "cell_type": "code",
      "metadata": {
        "id": "xpNMcq4_Yrpt",
        "colab_type": "code",
        "colab": {}
      },
      "source": [
        "M.sum()"
      ],
      "execution_count": null,
      "outputs": []
    },
    {
      "cell_type": "code",
      "metadata": {
        "id": "wD8AxTkKYtjV",
        "colab_type": "code",
        "colab": {}
      },
      "source": [
        "M.min(axis=0)"
      ],
      "execution_count": null,
      "outputs": []
    },
    {
      "cell_type": "code",
      "metadata": {
        "id": "1UQB5GbbYvM0",
        "colab_type": "code",
        "colab": {}
      },
      "source": [
        "M.max(axis=1)"
      ],
      "execution_count": null,
      "outputs": []
    },
    {
      "cell_type": "markdown",
      "metadata": {
        "id": "nFE58osUYyXl",
        "colab_type": "text"
      },
      "source": [
        "### その他の集約関数"
      ]
    },
    {
      "cell_type": "markdown",
      "metadata": {
        "id": "U9Ku3qKWfRy1",
        "colab_type": "text"
      },
      "source": [
        "#### 平均･中央値･最頻値"
      ]
    },
    {
      "cell_type": "code",
      "metadata": {
        "id": "3f0Uin3DY5j-",
        "colab_type": "code",
        "colab": {}
      },
      "source": [
        "np.mean(L)"
      ],
      "execution_count": null,
      "outputs": []
    },
    {
      "cell_type": "code",
      "metadata": {
        "id": "kI9keQEDbkvu",
        "colab_type": "code",
        "colab": {}
      },
      "source": [
        "np.median(L)"
      ],
      "execution_count": null,
      "outputs": []
    },
    {
      "cell_type": "markdown",
      "metadata": {
        "id": "CUtyBxFrh-6Q",
        "colab_type": "text"
      },
      "source": [
        "## マスク"
      ]
    },
    {
      "cell_type": "markdown",
      "metadata": {
        "id": "_XU5sKqLqHbH",
        "colab_type": "text"
      },
      "source": [
        "マスクを用いると、特定の条件に該当する要素だけを絞り込める。"
      ]
    },
    {
      "cell_type": "code",
      "metadata": {
        "id": "AKbOuJ05qKdM",
        "colab_type": "code",
        "colab": {}
      },
      "source": [
        "x = np.random.randint(3, size=(30))\n",
        "x"
      ],
      "execution_count": null,
      "outputs": []
    },
    {
      "cell_type": "code",
      "metadata": {
        "id": "CdWIyZyaqOTW",
        "colab_type": "code",
        "colab": {}
      },
      "source": [
        "x > 0"
      ],
      "execution_count": null,
      "outputs": []
    },
    {
      "cell_type": "code",
      "metadata": {
        "id": "y8WZszJnqQJO",
        "colab_type": "code",
        "colab": {}
      },
      "source": [
        "x[x > 1]"
      ],
      "execution_count": null,
      "outputs": []
    },
    {
      "cell_type": "markdown",
      "metadata": {
        "id": "rWOx6oJAq31v",
        "colab_type": "text"
      },
      "source": [
        "0より大きいときだけの平均を求められる。\n",
        "例えば、雨が降った日の平均降水量、交通事故の死亡者数の平均など。"
      ]
    },
    {
      "cell_type": "code",
      "metadata": {
        "id": "Uq0joomCqZsm",
        "colab_type": "code",
        "colab": {}
      },
      "source": [
        "np.mean(x[x > 0])"
      ],
      "execution_count": null,
      "outputs": []
    }
  ]
}