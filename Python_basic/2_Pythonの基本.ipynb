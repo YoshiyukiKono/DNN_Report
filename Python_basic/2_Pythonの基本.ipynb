{
  "nbformat": 4,
  "nbformat_minor": 0,
  "metadata": {
    "colab": {
      "name": "2. Pythonの基本.ipynb",
      "provenance": [],
      "private_outputs": true,
      "collapsed_sections": []
    },
    "kernelspec": {
      "name": "python3",
      "display_name": "Python 3"
    }
  },
  "cells": [
    {
      "cell_type": "markdown",
      "metadata": {
        "id": "ZblZg1T32SPG",
        "colab_type": "text"
      },
      "source": [
        "# プログラミングにおけるデータと処理"
      ]
    },
    {
      "cell_type": "markdown",
      "metadata": {
        "id": "sf2jwUyY2vTh",
        "colab_type": "text"
      },
      "source": [
        "プログラムは2つの種類のコードから構成される。\n",
        "\n",
        "1.   データ\n",
        "2.   処理\n",
        "\n",
        "すべてのプログラムは、\n",
        "\n",
        "1.   データを生成･読み込み\n",
        "2.   データを処理･変換\n",
        "3.   データを出力･書き出し\n",
        "\n",
        "する構成となっている。\n",
        "\n",
        "機械学習はこの構成のうち、データを処理･変換する部分に該当する。実際には、データがどのように生成･読み込みされ、行われた処理や変換を経て、どこに出力･書き出しされているのかをよく確認するとプログラムの動作を理解しやすい。\n",
        "\n",
        "なお、データとは何かを観測した値などはイメージしやすい。これらに加えて、プログラムでは処理の対象となるものすべてをデータとして扱う。例えば、`'おはようございます'`という1文でも、文字がいくつか集まった文字列というデータである。ほかにも`1`という数は、1という数値データである。"
      ]
    },
    {
      "cell_type": "markdown",
      "metadata": {
        "id": "Eb0xSqKN4U0V",
        "colab_type": "text"
      },
      "source": [
        "## データの生成･読み込み"
      ]
    },
    {
      "cell_type": "markdown",
      "metadata": {
        "id": "tsjchRf_47qD",
        "colab_type": "text"
      },
      "source": [
        "次のプログラムはインターネット上にある iris データをPandasというライブラリを使って **読み込み** している。"
      ]
    },
    {
      "cell_type": "code",
      "metadata": {
        "id": "_7wpIlmD4oxi",
        "colab_type": "code",
        "colab": {}
      },
      "source": [
        "import pandas as pd\n",
        "import io, requests\n",
        "\n",
        "s=requests.get(\"https://archive.ics.uci.edu/ml/machine-learning-databases/iris/iris.data\").content\n",
        "pd.read_csv(io.StringIO(s.decode('utf-8')))"
      ],
      "execution_count": null,
      "outputs": []
    },
    {
      "cell_type": "markdown",
      "metadata": {
        "id": "hJhtY-0g6_zT",
        "colab_type": "text"
      },
      "source": [
        "次のプログラムはnumpyというライブラリを使って、2x3の行列のデータを全要素0で **生成** している。"
      ]
    },
    {
      "cell_type": "code",
      "metadata": {
        "id": "oXZKhIQl52M6",
        "colab_type": "code",
        "colab": {}
      },
      "source": [
        "import numpy as np\n",
        "\n",
        "\n",
        "np.zeros((2, 3))"
      ],
      "execution_count": null,
      "outputs": []
    },
    {
      "cell_type": "markdown",
      "metadata": {
        "id": "gU8gkh1i4Z4d",
        "colab_type": "text"
      },
      "source": [
        "## データの処理･変換"
      ]
    },
    {
      "cell_type": "markdown",
      "metadata": {
        "id": "4yGa7CAU8UIM",
        "colab_type": "text"
      },
      "source": [
        "次のプログラムは、 numpyで全要素が1の4x4の行列データを **生成** し、3倍する **処理** を行っている。"
      ]
    },
    {
      "cell_type": "code",
      "metadata": {
        "id": "0QuKbmrO8JRZ",
        "colab_type": "code",
        "colab": {}
      },
      "source": [
        "import numpy as np\n",
        "\n",
        "\n",
        "aaa = np.ones((4, 4))\n",
        "aaa * 3"
      ],
      "execution_count": null,
      "outputs": []
    },
    {
      "cell_type": "markdown",
      "metadata": {
        "id": "dnbLddDm8v0N",
        "colab_type": "text"
      },
      "source": [
        "次のプログラムでは、`x`と`y`というデータを基に、決定木のモデルを **生成** し、生成したモデルを使って、`x` を **処理** している。\n",
        "\n",
        "機械学習モデル自体は、データを使って作り出される処理の方法で、一種のデータとして捉えることができる。それを用いて未知のデータに対して処理を行う。"
      ]
    },
    {
      "cell_type": "code",
      "metadata": {
        "id": "ayFrDc2R8vT3",
        "colab_type": "code",
        "colab": {}
      },
      "source": [
        "from sklearn.ensemble import RandomForestClassifier\n",
        "\n",
        "\n",
        "clf = RandomForestClassifier(random_state=0)\n",
        "\n",
        "X = [[ 1,  2,  3],\n",
        "     [11, 12, 13]]\n",
        "y = [0, 1]\n",
        "\n",
        "clf.fit(X, y)\n",
        "clf.predict(X)"
      ],
      "execution_count": null,
      "outputs": []
    },
    {
      "cell_type": "markdown",
      "metadata": {
        "id": "2rhrwEae4cIl",
        "colab_type": "text"
      },
      "source": [
        "## データを出力･書き出し"
      ]
    },
    {
      "cell_type": "markdown",
      "metadata": {
        "id": "KkLW013g-d4c",
        "colab_type": "text"
      },
      "source": [
        "`print()`関数は、データを画面に **出力** する機能がある。次のプログラムは、文字列データの `'hello'` を画面に **出力･表示** している。"
      ]
    },
    {
      "cell_type": "code",
      "metadata": {
        "id": "C3NKtmOi-kxl",
        "colab_type": "code",
        "colab": {}
      },
      "source": [
        "print('hello')"
      ],
      "execution_count": null,
      "outputs": []
    },
    {
      "cell_type": "markdown",
      "metadata": {
        "id": "eaOGpuDD_XQ8",
        "colab_type": "text"
      },
      "source": [
        "次のプログラムは、scikit-learnを使った学習したモデルを、1度 _model.joblib_ というファイルに保存･ **書き出し**、それを再度 **読み込み** 学習結果を利用している。\n",
        "\n",
        "このように、行った処理の結果をファイルに書き出し、それを後から読み込むことで利用することができる。\n",
        "\n",
        "機械学習の **学習** という作業は、集めたデータから、機械学習モデルという別のデータに変換する過程と捉えることができ、学習モデルはデータとして扱うことができることを意味する。出来上がった学習モデルは、未知のデータに対して変換処理を行うことができるため、データと処理は表裏一体である。(ノイマン型コンピュータ)"
      ]
    },
    {
      "cell_type": "code",
      "metadata": {
        "id": "ogbcsIfg-tc4",
        "colab_type": "code",
        "colab": {}
      },
      "source": [
        "from sklearn.ensemble import RandomForestClassifier\n",
        "from joblib import dump, load\n",
        "\n",
        "\n",
        "clf = RandomForestClassifier(random_state=0)\n",
        "\n",
        "X = [[ 1,  2,  3],\n",
        "     [11, 12, 13]]\n",
        "y = [0, 1]\n",
        "\n",
        "clf.fit(X, y)\n",
        "\n",
        "dump(clf, 'model.joblib') \n",
        "clf2 = load('model.joblib') \n",
        "clf2.predict(X)"
      ],
      "execution_count": null,
      "outputs": []
    },
    {
      "cell_type": "markdown",
      "metadata": {
        "id": "Vez3ToqO2XvW",
        "colab_type": "text"
      },
      "source": [
        "# データ"
      ]
    },
    {
      "cell_type": "markdown",
      "metadata": {
        "id": "pLWo7iSJ2dng",
        "colab_type": "text"
      },
      "source": [
        "## 型について"
      ]
    },
    {
      "cell_type": "markdown",
      "metadata": {
        "id": "zk_2IXHZ3pr7",
        "colab_type": "text"
      },
      "source": [
        "プログラムには、データがどのようなデータであるかを示すものとして、**型** というものがある。コンピュータは人間が指定したデータの型に基づいた処理を行う。"
      ]
    },
    {
      "cell_type": "markdown",
      "metadata": {
        "id": "Kx72WTJH2jBF",
        "colab_type": "text"
      },
      "source": [
        "## はじめから使える型"
      ]
    },
    {
      "cell_type": "markdown",
      "metadata": {
        "id": "SNOzZ4VR3_Ef",
        "colab_type": "text"
      },
      "source": [
        "Pythonにはいくつかのはじめから使える型が存在する。これらは **組み込み型** と呼ばれ、Pythonをインストールするだけで利用できる。\n",
        "\n",
        "代表的なものとして、\n",
        "\n",
        "1.   文字列\n",
        "2.   数値\n",
        "3.   ブーリアン\n",
        "4.   配列\n",
        "5.   None\n",
        "\n",
        "などがある。\n",
        "\n"
      ]
    },
    {
      "cell_type": "markdown",
      "metadata": {
        "id": "GhnzAtWSCR4P",
        "colab_type": "text"
      },
      "source": [
        "### 文字列"
      ]
    },
    {
      "cell_type": "markdown",
      "metadata": {
        "id": "UTMQ6NfxAch5",
        "colab_type": "text"
      },
      "source": [
        "次は、文字列型のデータを表示している。"
      ]
    },
    {
      "cell_type": "code",
      "metadata": {
        "id": "lLBEz2cVAcQY",
        "colab_type": "code",
        "colab": {}
      },
      "source": [
        "print('hello')"
      ],
      "execution_count": null,
      "outputs": []
    },
    {
      "cell_type": "markdown",
      "metadata": {
        "id": "hH5x39ykCTqg",
        "colab_type": "text"
      },
      "source": [
        "### 数値"
      ]
    },
    {
      "cell_type": "markdown",
      "metadata": {
        "id": "rJrcICpPAgaR",
        "colab_type": "text"
      },
      "source": [
        "数値型のデータでは、足し算や、引き算、掛け算ができる。"
      ]
    },
    {
      "cell_type": "code",
      "metadata": {
        "id": "_jOS8PlpAk9Y",
        "colab_type": "code",
        "colab": {}
      },
      "source": [
        "print(1 + 2)"
      ],
      "execution_count": null,
      "outputs": []
    },
    {
      "cell_type": "code",
      "metadata": {
        "id": "blrj3stgAm-k",
        "colab_type": "code",
        "colab": {}
      },
      "source": [
        "print(2 * 3)"
      ],
      "execution_count": null,
      "outputs": []
    },
    {
      "cell_type": "markdown",
      "metadata": {
        "id": "OfJiktGWApRg",
        "colab_type": "text"
      },
      "source": [
        "同じような処理の書き方を文字列型のデータで行うと、コンピュータは数値では無いものとして、期待とは異なる結果を返す。"
      ]
    },
    {
      "cell_type": "code",
      "metadata": {
        "id": "Jt-8AG0tAy17",
        "colab_type": "code",
        "colab": {}
      },
      "source": [
        "print('1' + '2')"
      ],
      "execution_count": null,
      "outputs": []
    },
    {
      "cell_type": "markdown",
      "metadata": {
        "id": "eyDMfUkbCV5k",
        "colab_type": "text"
      },
      "source": [
        "### ブーリアン"
      ]
    },
    {
      "cell_type": "markdown",
      "metadata": {
        "id": "b9QKcLyqCEjK",
        "colab_type": "text"
      },
      "source": [
        "ブーリアンは、Yes or Noの2択を意味する。`True`か`False`で表現する。"
      ]
    },
    {
      "cell_type": "code",
      "metadata": {
        "id": "DSMMTbKACJSc",
        "colab_type": "code",
        "colab": {}
      },
      "source": [
        "print(True)"
      ],
      "execution_count": null,
      "outputs": []
    },
    {
      "cell_type": "code",
      "metadata": {
        "id": "y1IrrrLACOIe",
        "colab_type": "code",
        "colab": {}
      },
      "source": [
        "print(False)"
      ],
      "execution_count": null,
      "outputs": []
    },
    {
      "cell_type": "markdown",
      "metadata": {
        "id": "SpXTWpDXCP4-",
        "colab_type": "text"
      },
      "source": [
        "実際のプログラムでは、\"値が同じかどうか\" や \"以上\"、\"以下\" かを判定したりするときにもちいられる。\n",
        "\n",
        "次のプログラムでは、_13は10より大きいですか_ とコンピュータに尋ね、その結果コンピュータは`True`、Yesと答えている。"
      ]
    },
    {
      "cell_type": "code",
      "metadata": {
        "id": "Job7iK1oChTD",
        "colab_type": "code",
        "colab": {}
      },
      "source": [
        "13 > 10"
      ],
      "execution_count": null,
      "outputs": []
    },
    {
      "cell_type": "markdown",
      "metadata": {
        "id": "QIvSfMUSCwHj",
        "colab_type": "text"
      },
      "source": [
        "これを用いることで、プログラムに条件に応じた処理の切替(条件分岐)を行わせることができる。次のプログラムでは、aaaという変数が、100より大きいか小さいかで処理を分岐している。\n",
        "\n",
        "aaaに代入する値を変えて試してみると良い。"
      ]
    },
    {
      "cell_type": "code",
      "metadata": {
        "id": "XvMLeHITCvED",
        "colab_type": "code",
        "colab": {}
      },
      "source": [
        "aaa = 100\n",
        "\n",
        "if aaa > 100:\n",
        "    print('100より大きいです。')\n",
        "else:\n",
        "    print('100未満です')"
      ],
      "execution_count": null,
      "outputs": []
    },
    {
      "cell_type": "markdown",
      "metadata": {
        "id": "Ke6ax2srDV9T",
        "colab_type": "text"
      },
      "source": [
        "### 配列"
      ]
    },
    {
      "cell_type": "markdown",
      "metadata": {
        "id": "kBGOg_YyA3jk",
        "colab_type": "text"
      },
      "source": [
        "配列型は、いくつかのデータを順番に束ねたものである。次のプログラムでは、3つの数値データを1つの配列の中に入れている。"
      ]
    },
    {
      "cell_type": "code",
      "metadata": {
        "id": "b9Ne03buA8xL",
        "colab_type": "code",
        "colab": {}
      },
      "source": [
        "print([1, 2, 3])"
      ],
      "execution_count": null,
      "outputs": []
    },
    {
      "cell_type": "markdown",
      "metadata": {
        "id": "ZM4_5NAKBFni",
        "colab_type": "text"
      },
      "source": [
        "配列型のデータは、特定の場所を指定して、中身を取り出すことができる。順番の指定は0番目から始まる。"
      ]
    },
    {
      "cell_type": "code",
      "metadata": {
        "id": "Qo_vqlX9BEdz",
        "colab_type": "code",
        "colab": {}
      },
      "source": [
        "aaa = [1, 2, 3]\n",
        "aaa[0]"
      ],
      "execution_count": null,
      "outputs": []
    },
    {
      "cell_type": "markdown",
      "metadata": {
        "id": "uDdT0A8fDYUm",
        "colab_type": "text"
      },
      "source": [
        "### None"
      ]
    },
    {
      "cell_type": "markdown",
      "metadata": {
        "id": "RB0SGbHfB2o6",
        "colab_type": "text"
      },
      "source": [
        "`None`は **何もない** ことを意味する。数値の0は0であることを示している。また、ブーリアンのFalseはNoを意味している。一方のNoneは、0やFalseといったこと自体が無いことを意味する。データが無いことを意味する特別なデータと考えると分かりやすい。"
      ]
    },
    {
      "cell_type": "code",
      "metadata": {
        "id": "RXsQ4GiqB-j9",
        "colab_type": "code",
        "colab": {}
      },
      "source": [
        "print(None)"
      ],
      "execution_count": null,
      "outputs": []
    },
    {
      "cell_type": "markdown",
      "metadata": {
        "id": "YbkrASZp2fPv",
        "colab_type": "text"
      },
      "source": [
        "## いろいろな型"
      ]
    },
    {
      "cell_type": "markdown",
      "metadata": {
        "id": "i401ZBT-ERe0",
        "colab_type": "text"
      },
      "source": [
        "型は自分で作ったり、ライブラリを追加することで自由に追加できる。コンピュータに指示できる処理の内容は、データの種類である型によって決まっており、同じような処理ができるデータは同じ型にして、処理を記述する。"
      ]
    },
    {
      "cell_type": "markdown",
      "metadata": {
        "id": "VCJBe_uNI3pl",
        "colab_type": "text"
      },
      "source": [
        "numpyには行列を扱う型がある。この行列の型では、様々な大きさや様々な値が入った行列に対し、足し算や掛け算などの計算処理を行うことができる。"
      ]
    },
    {
      "cell_type": "code",
      "metadata": {
        "id": "YxfTP6O9JHxX",
        "colab_type": "code",
        "colab": {}
      },
      "source": [
        "import numpy as np\n",
        "\n",
        "\n",
        "aaa = np.random.randint(0, 10, (4, 5))\n",
        "print('aaa **********')\n",
        "print(aaa)\n",
        "print()\n",
        "\n",
        "bbb = np.random.randint(0, 10, (4, 5))\n",
        "print('bbb **********')\n",
        "print(bbb)\n",
        "print()\n",
        "\n",
        "print('aaa + bbb **********')\n",
        "print(aaa + bbb)"
      ],
      "execution_count": null,
      "outputs": []
    },
    {
      "cell_type": "markdown",
      "metadata": {
        "id": "fiFBPft9KKUT",
        "colab_type": "text"
      },
      "source": [
        "どのような型なのかは、`type()`関数に調べたいものを渡すと何型なのかを知ることができる。"
      ]
    },
    {
      "cell_type": "code",
      "metadata": {
        "id": "ZRvzeIOdKRGq",
        "colab_type": "code",
        "colab": {}
      },
      "source": [
        "import numpy as np\n",
        "\n",
        "\n",
        "print(type(np.random.randint(0, 10, (4, 5))))"
      ],
      "execution_count": null,
      "outputs": []
    },
    {
      "cell_type": "markdown",
      "metadata": {
        "id": "blio8Ii3Jvyh",
        "colab_type": "text"
      },
      "source": [
        "pandasでは、表形式のデータをうまく取り扱うための`Dataframe`という型が存在する。ここでは、irisデータセットを`Dataframe`として読み込んでいる。`type()`関数により、Dataframe型であることが分かる。また、`Dataframe`型には、`head()`という関数(処理)が内蔵されており、データの一部を取り出してくれる。"
      ]
    },
    {
      "cell_type": "code",
      "metadata": {
        "id": "hb45Vk8tKc7M",
        "colab_type": "code",
        "colab": {}
      },
      "source": [
        "import pandas as pd\n",
        "from sklearn import datasets\n",
        "\n",
        "iris = datasets.load_iris()\n",
        "df = pd.DataFrame(iris.data, columns=iris.feature_names)\n",
        "\n",
        "print('type **********')\n",
        "print(type(df))\n",
        "print('**********')\n",
        "\n",
        "df.head()"
      ],
      "execution_count": null,
      "outputs": []
    },
    {
      "cell_type": "markdown",
      "metadata": {
        "id": "Luzas8Jz2Zwt",
        "colab_type": "text"
      },
      "source": [
        "# 処理"
      ]
    },
    {
      "cell_type": "markdown",
      "metadata": {
        "id": "BxuFBr4jLBfN",
        "colab_type": "text"
      },
      "source": [
        "データに対する処理は、最も基本的な、**繰り返し** と **条件分岐** をたくさん組み合わせて作成する。"
      ]
    },
    {
      "cell_type": "markdown",
      "metadata": {
        "id": "oQUx_cLE2oyl",
        "colab_type": "text"
      },
      "source": [
        "## 繰り返し"
      ]
    },
    {
      "cell_type": "markdown",
      "metadata": {
        "id": "zswOmUKMLbKv",
        "colab_type": "text"
      },
      "source": [
        "繰り返しは、同じような処理を何度も繰り返すときに用いる。繰り返しには、`for`文を用いる。\n",
        "\n",
        "次のプログラムは、`'hello'`と10回`print()`している。"
      ]
    },
    {
      "cell_type": "code",
      "metadata": {
        "id": "tdndSFn5Lahv",
        "colab_type": "code",
        "colab": {}
      },
      "source": [
        "for _ in [1, 2, 3, 4, 5, 6, 7, 8, 9, 10]:\n",
        "  print('hello')"
      ],
      "execution_count": null,
      "outputs": []
    },
    {
      "cell_type": "markdown",
      "metadata": {
        "id": "NubaoYq1OVHV",
        "colab_type": "text"
      },
      "source": [
        "for文では、forとinの中に書いた変数に、inの右側に書いた配列の中身が出てくる。"
      ]
    },
    {
      "cell_type": "code",
      "metadata": {
        "id": "AQGkpcpeOjC4",
        "colab_type": "code",
        "colab": {}
      },
      "source": [
        "for iii in [1, 2, 3, 4, 5, 6, 7, 8, 9, 10]:\n",
        "  print(iii)"
      ],
      "execution_count": null,
      "outputs": []
    },
    {
      "cell_type": "markdown",
      "metadata": {
        "id": "FuQaFkU_On0t",
        "colab_type": "text"
      },
      "source": [
        "数値で無くても良い"
      ]
    },
    {
      "cell_type": "code",
      "metadata": {
        "id": "qp9r5VSFOpgn",
        "colab_type": "code",
        "colab": {}
      },
      "source": [
        "for iii in ['a', 'b', 'c', 'd']:\n",
        "  print(iii)"
      ],
      "execution_count": null,
      "outputs": []
    },
    {
      "cell_type": "markdown",
      "metadata": {
        "id": "LIfkkKqSOva5",
        "colab_type": "text"
      },
      "source": [
        "`range()`関数を用いると、所定の範囲のfor文を自由に作り出すことができる。"
      ]
    },
    {
      "cell_type": "code",
      "metadata": {
        "id": "iZw2U6zbO5NB",
        "colab_type": "code",
        "colab": {}
      },
      "source": [
        "for iii in range(0, 10):\n",
        "  print(iii)"
      ],
      "execution_count": null,
      "outputs": []
    },
    {
      "cell_type": "markdown",
      "metadata": {
        "id": "BLEyaeIr2p-h",
        "colab_type": "text"
      },
      "source": [
        "##  条件分岐"
      ]
    },
    {
      "cell_type": "markdown",
      "metadata": {
        "id": "qqOJKvEoO-60",
        "colab_type": "text"
      },
      "source": [
        "条件分岐を行うには、`if`文を用いる。次のプログラムでは、aaaという変数がTrueかそれ以外かで処理を分岐している。"
      ]
    },
    {
      "cell_type": "code",
      "metadata": {
        "id": "fQOQRgN9PFmI",
        "colab_type": "code",
        "colab": {}
      },
      "source": [
        "aaa = True\n",
        "\n",
        "if aaa == True:\n",
        "  print('aaaはTrue')\n",
        "else:\n",
        "  print('aaaはFalse')"
      ],
      "execution_count": null,
      "outputs": []
    },
    {
      "cell_type": "markdown",
      "metadata": {
        "id": "MWHgYaDsPY1X",
        "colab_type": "text"
      },
      "source": [
        "if文には`if`と`elif`、`else`の3つで条件を分岐できる。`elif`は何個でも置くことができる。\n",
        "\n",
        "次のプログラムは、aaaという変数に入っている数値をもとに分岐している。aaaの値をいろいろ変えて試してみると分かりやすい。"
      ]
    },
    {
      "cell_type": "code",
      "metadata": {
        "id": "Id8pK4PIPh8L",
        "colab_type": "code",
        "colab": {}
      },
      "source": [
        "aaa = 1\n",
        "\n",
        "if aaa == 1:\n",
        "  print('aaaは1')\n",
        "elif aaa == 2:\n",
        "  print('aaaは2')\n",
        "elif aaa == 3:\n",
        "  print('aaaは3')\n",
        "else:\n",
        "  print('aaaはそれ以外')"
      ],
      "execution_count": null,
      "outputs": []
    },
    {
      "cell_type": "markdown",
      "metadata": {
        "id": "ZjQnEpXfP_EY",
        "colab_type": "text"
      },
      "source": [
        "if文の条件として利用できるのは、TrueかFalseとして処理ができるものであればなんでもよい。条件として利用できるものは無数にあり、適切なものを都度調べ選ぶ。\n",
        "\n",
        "例えば、次の物は、aaaという変数に入っている文字列にamericaという単語が入っているかを調べている。"
      ]
    },
    {
      "cell_type": "code",
      "metadata": {
        "id": "GD4HKerpQSP8",
        "colab_type": "code",
        "colab": {}
      },
      "source": [
        "aaa = 'hello canada!'\n",
        "\n",
        "if 'america' in aaa:\n",
        "  print('americaが入っている')\n",
        "else:\n",
        "  print('americaは入っていない')"
      ],
      "execution_count": null,
      "outputs": []
    },
    {
      "cell_type": "markdown",
      "metadata": {
        "id": "1hM8WkJr2rX_",
        "colab_type": "text"
      },
      "source": [
        "## 関数"
      ]
    },
    {
      "cell_type": "markdown",
      "metadata": {
        "id": "cXltrIojQ5Q7",
        "colab_type": "text"
      },
      "source": [
        "関数は頻繁に用いる一連の処理を束ねることができる。関数は、処理の束なりを表現するもので、 **データを入力** し、 **データを出力** するものである。\n",
        "\n",
        "データの入力には **引数** を用いる。また、**データの出力** には返り値を用いる。\n",
        "\n",
        "次の関数は、`eee`という引数を入力にとり、3を足して、結果を返り値として出力する。\n",
        "\n",
        "関数には名前を付けられる。ここでは、`add3`という名前が関数についている。"
      ]
    },
    {
      "cell_type": "code",
      "metadata": {
        "id": "Nw-uVvGgRKAE",
        "colab_type": "code",
        "colab": {}
      },
      "source": [
        "def add3(eee):\n",
        "  return eee + 3\n",
        "\n",
        "print(add3(4))\n",
        "print(add3(7))"
      ],
      "execution_count": null,
      "outputs": []
    },
    {
      "cell_type": "markdown",
      "metadata": {
        "id": "o7Rl41lnRJtG",
        "colab_type": "text"
      },
      "source": [
        "関数の中には、様々な処理を書くことができる。次の関数は、引数として入力された数字を3回掛けて、その結果が100より大きいか小さいかを判定した結果を返す関数である。"
      ]
    },
    {
      "cell_type": "code",
      "metadata": {
        "id": "e7QSdI4aSiH0",
        "colab_type": "code",
        "colab": {}
      },
      "source": [
        "def sample_func(eee):\n",
        "  result = eee\n",
        "\n",
        "  for iii in range(0, 3):\n",
        "    result = eee * result\n",
        "  \n",
        "\n",
        "  if result > 100:\n",
        "    return '3回掛けた結果は100より大きい'\n",
        "  else:\n",
        "    return '3回掛けた結果は100以下'\n",
        "\n",
        "print(sample_func(2))\n",
        "print(sample_func(5))"
      ],
      "execution_count": null,
      "outputs": []
    },
    {
      "cell_type": "markdown",
      "metadata": {
        "id": "b5iDhEjSTNCN",
        "colab_type": "text"
      },
      "source": [
        "これまでに見てきた、様々なライブリの機能は関数を使って作られている。\n",
        "\n",
        "次のプログラムでは、pandasの機能の1つとして、_データの一部を取り出す_ という処理が、`head()`という関数として準備されているので容易に用いることができる。\n",
        "\n",
        "特に、データの型に関数を登録することができ、登録された関数のことを **メソッド** という。\n",
        "\n",
        "データ型を自分で作るとき、**クラス** というPythonの機能を用いて作成するが、その時に、メソッドを自作できる。"
      ]
    },
    {
      "cell_type": "code",
      "metadata": {
        "id": "b7myg4jxTbuV",
        "colab_type": "code",
        "colab": {}
      },
      "source": [
        "import pandas as pd\n",
        "from sklearn import datasets\n",
        "\n",
        "iris = datasets.load_iris()\n",
        "df = pd.DataFrame(iris.data, columns=iris.feature_names)\n",
        "\n",
        "df.head()"
      ],
      "execution_count": null,
      "outputs": []
    },
    {
      "cell_type": "markdown",
      "metadata": {
        "id": "O4IREMtGLKmQ",
        "colab_type": "text"
      },
      "source": [
        "## 例外"
      ]
    },
    {
      "cell_type": "markdown",
      "metadata": {
        "id": "OWpQd5krT7pf",
        "colab_type": "text"
      },
      "source": [
        "作成したプログラムは、実行中に問題が発生すると **例外**、**Exception** を起こして、動作が停止する。\n",
        "\n",
        "スマートフォンのアプリなどで、「アプリが落ちた」ときはこの例外が発生したときである。\n",
        "\n",
        "例外は下記のような処理を行うときに発生しうる。\n",
        "\n",
        "*   変数に入っているデータ以外のデータを読み込むとき\n",
        "*   データをファイルに書き出し(出力)したり、ネットワークに送信するとき\n",
        "*   変数にプログラムを書いたときに予定していた型とは別の型のデータが入っているとき\n",
        "\n",
        "1つ目と2つ目は、どちらも動作中にパソコンに問題が発生した時を考ええると分かりやすい。例えば、インターネット上のデータを変数に読み込むとき、読み込みに時間がかかっている状態でWi-Fiが切れたらデータの受信は停止する。このとき、例外が発生する。\n",
        "\n",
        "同様に、SDカードにデータを書き込むプログラムを作成し、書き込みが行われているタイミングで、SDカードが抜きだされると書き込みはできなくなり失敗する。このとき、途中まで書き込まれたデータは破損した状態となる。\n",
        "\n",
        "3つ目は、例えば配列の中身に数値が入っていることを前提にしたプログラムを作成している中で、数値以外が入ってしまっていた時などである。\n",
        "\n",
        "\n",
        "例外は確率的に発生する。例えば、1回の処理では遭遇しなくても、10回、100回、100回と階数を重ねると遭遇する可能性が高まる。\n",
        "例えば、for文で何度もファイルにデータを書き込む処理を行うと、場合によって例外が発生する。\n",
        "\n",
        "例外にかかわる処理はいくつかある。\n",
        "\n",
        "*   `try-except`文: 例外が起きた時に、「落ちない」ようにコントロールするプログラムの書き方。\n",
        "*   `raise`文: 例外を起こすプログラムの書き方。\n",
        "*   `pass`文: 例外を無視するプログラムを書くときに用いるもの。\n"
      ]
    },
    {
      "cell_type": "markdown",
      "metadata": {
        "id": "mIRthIgwXtUA",
        "colab_type": "text"
      },
      "source": [
        "`raise`を用いるとエラーを起こすことができる。例外が起きた時は、プログラムはその旨を表示するエラーメッセージが表示され終了する。"
      ]
    },
    {
      "cell_type": "code",
      "metadata": {
        "id": "Us3ffVoZXZt7",
        "colab_type": "code",
        "colab": {}
      },
      "source": [
        "raise Exception('エラーを起こす')"
      ],
      "execution_count": null,
      "outputs": []
    },
    {
      "cell_type": "markdown",
      "metadata": {
        "id": "vSUBiISHY203",
        "colab_type": "text"
      },
      "source": [
        "例外が発生したとき、プログラムは、例外が発生する直前まで実行される。"
      ]
    },
    {
      "cell_type": "code",
      "metadata": {
        "id": "3kWV8l-iYybO",
        "colab_type": "code",
        "colab": {}
      },
      "source": [
        "for iii in range(0, 10):\n",
        "  print(iii)\n",
        "  if iii == 8:\n",
        "    raise Exception('8のときエラー')"
      ],
      "execution_count": null,
      "outputs": []
    },
    {
      "cell_type": "markdown",
      "metadata": {
        "id": "46K5ParPW4pg",
        "colab_type": "text"
      },
      "source": [
        "例えば、関数の中の処理で、raiseが書かれている場所があると、例外が発生しうることになる。\n",
        "\n",
        "実際には、Pythonではじめから用いることができる関数やライブラリの関数の中に、例外が発生する場所がある。"
      ]
    },
    {
      "cell_type": "code",
      "metadata": {
        "id": "NpZ_vKAwXxwG",
        "colab_type": "code",
        "colab": {}
      },
      "source": [
        "def raise_error():\n",
        "  for iii in range(0, 10):\n",
        "    print(iii)\n",
        "    if iii == 8:\n",
        "      raise Exception('8のときエラー')\n",
        "\n",
        "raise_error()"
      ],
      "execution_count": null,
      "outputs": []
    },
    {
      "cell_type": "markdown",
      "metadata": {
        "id": "xYQ511fXYYzL",
        "colab_type": "text"
      },
      "source": [
        "`try-except`文で例外が発生する部分を囲むと、例外によってプログラム自体の実行が停止することを防止できる。\n",
        "\n",
        "例外自体が起こらなくなるわけではなく、例外が起こった時にどのような対処(処理)を行うかを事前に決めておくことができる。\n",
        "\n",
        "下記のプログラムでは、エラーが起きた時、その旨を表示して正常に終了する。\n",
        "\n",
        "`try-except`文では、tryからexceptの中に、エラーが起こった時に対処が必要なプログラムを記述する。try-exceptの中で、エラーが起こった時、エラーが起こる直前の部分までが実行され、エラーが起きたタイミングで、except以降の部分に処理が移る。"
      ]
    },
    {
      "cell_type": "code",
      "metadata": {
        "id": "1wBAauKWYYis",
        "colab_type": "code",
        "colab": {}
      },
      "source": [
        "def raise_error():\n",
        "  for iii in range(0, 10):\n",
        "    print(iii)\n",
        "    if iii == 8:\n",
        "      raise Exception('8のときエラー')\n",
        "\n",
        "\n",
        "try:\n",
        "  print('エラーが起こる部分の前')\n",
        "  raise_error()\n",
        "  print('エラーが起こった後の部分')\n",
        "except:\n",
        "  print('エラーが起きて終了しました。')"
      ],
      "execution_count": null,
      "outputs": []
    },
    {
      "cell_type": "markdown",
      "metadata": {
        "id": "Br822J0aaBJX",
        "colab_type": "text"
      },
      "source": [
        "例外の処理は、プログラミングの中でも最も経験を要する部分である。"
      ]
    }
  ]
}