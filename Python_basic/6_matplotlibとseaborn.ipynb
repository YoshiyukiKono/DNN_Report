{
  "nbformat": 4,
  "nbformat_minor": 0,
  "metadata": {
    "colab": {
      "name": "6. matplotlibとseaborn.ipynb",
      "provenance": [],
      "private_outputs": true,
      "collapsed_sections": []
    },
    "kernelspec": {
      "name": "python3",
      "display_name": "Python 3"
    }
  },
  "cells": [
    {
      "cell_type": "markdown",
      "metadata": {
        "id": "RHGOlIQhYNIn",
        "colab_type": "text"
      },
      "source": [
        "# Matplotlibとは"
      ]
    },
    {
      "cell_type": "markdown",
      "metadata": {
        "id": "cNW0waLpMY_k",
        "colab_type": "text"
      },
      "source": [
        "## Matplotlibの機能"
      ]
    },
    {
      "cell_type": "markdown",
      "metadata": {
        "id": "VMLKNZ6VOu8t",
        "colab_type": "text"
      },
      "source": [
        "Matplotlibは数値データを可視化するライブラリです。可視化とは、データをグラフにしたり、色分けして人間が見やすく、わかりやすくする方法のことです。\n",
        "\n",
        "Matplotlibは様々なデータの可視化に対応しており、細かなカスタマイズができることからも広く使われています。"
      ]
    },
    {
      "cell_type": "markdown",
      "metadata": {
        "id": "GDlsGNopQpla",
        "colab_type": "text"
      },
      "source": [
        "例えば、次のようなグラフを簡単に描くことができます。ここでは、正規分布という分布に基づいた模擬データでヒストグラムと、密度関数の線をプロットしています。"
      ]
    },
    {
      "cell_type": "code",
      "metadata": {
        "id": "-CRM0NIqQrr2",
        "colab_type": "code",
        "colab": {}
      },
      "source": [
        "import matplotlib\n",
        "import numpy as np\n",
        "import matplotlib.pyplot as plt\n",
        "\n",
        "\n",
        "mu = 100\n",
        "sigma = 15\n",
        "x = mu + sigma * np.random.randn(437)\n",
        "\n",
        "num_bins = 50\n",
        "\n",
        "fig, ax = plt.subplots()\n",
        "n, bins, patches = ax.hist(x, num_bins, density=1)\n",
        "\n",
        "y = ((1 / (np.sqrt(2 * np.pi) * sigma)) *\n",
        "     np.exp(-0.5 * (1 / sigma * (bins - mu))**2))\n",
        "ax.plot(bins, y, '--')\n",
        "ax.set_xlabel('Smarts')\n",
        "ax.set_ylabel('Probability density')\n",
        "ax.set_title(r'Histogram of IQ: $\\mu=100$, $\\sigma=15$')\n",
        "\n",
        "fig.tight_layout()"
      ],
      "execution_count": null,
      "outputs": []
    },
    {
      "cell_type": "markdown",
      "metadata": {
        "id": "M-A5lTzhR8lg",
        "colab_type": "text"
      },
      "source": [
        "3次元のグラフを描くこともできます。"
      ]
    },
    {
      "cell_type": "code",
      "metadata": {
        "id": "0FOJTFw_R-6T",
        "colab_type": "code",
        "colab": {}
      },
      "source": [
        "import matplotlib.pyplot as plt\n",
        "from matplotlib import cm\n",
        "from matplotlib.ticker import LinearLocator, FormatStrFormatter\n",
        "import numpy as np\n",
        "\n",
        "\n",
        "fig = plt.figure()\n",
        "ax = fig.gca(projection='3d')\n",
        "\n",
        "X = np.arange(-5, 5, 0.25)\n",
        "Y = np.arange(-5, 5, 0.25)\n",
        "X, Y = np.meshgrid(X, Y)\n",
        "R = np.sqrt(X**2 + Y**2)\n",
        "Z = np.sin(R)\n",
        "\n",
        "surf = ax.plot_surface(X, Y, Z, cmap=cm.coolwarm,\n",
        "                       linewidth=0, antialiased=False)\n",
        "\n",
        "ax.set_zlim(-1.01, 1.01)\n",
        "ax.zaxis.set_major_locator(LinearLocator(10))\n",
        "ax.zaxis.set_major_formatter(FormatStrFormatter('%.02f'))\n",
        "\n",
        "fig.colorbar(surf, shrink=0.5, aspect=5)"
      ],
      "execution_count": null,
      "outputs": []
    },
    {
      "cell_type": "markdown",
      "metadata": {
        "id": "ecAMxCmcTUS8",
        "colab_type": "text"
      },
      "source": [
        "データの分布を確認するときによく用いる散布図も作成できます。"
      ]
    },
    {
      "cell_type": "code",
      "metadata": {
        "id": "6BsarbkjTTt3",
        "colab_type": "code",
        "colab": {}
      },
      "source": [
        "import numpy as np\n",
        "import matplotlib.pyplot as plt\n",
        "import matplotlib.cbook as cbook\n",
        "\n",
        "with cbook.get_sample_data('goog.npz') as datafile:\n",
        "    price_data = np.load(datafile)['price_data'].view(np.recarray)\n",
        "price_data = price_data[-250:]\n",
        "\n",
        "delta1 = np.diff(price_data.adj_close) / price_data.adj_close[:-1]\n",
        "\n",
        "volume = (15 * price_data.volume[:-2] / price_data.volume[0])**2\n",
        "close = 0.003 * price_data.close[:-2] / 0.003 * price_data.open[:-2]\n",
        "\n",
        "fig, ax = plt.subplots()\n",
        "ax.scatter(delta1[:-1], delta1[1:], c=close, s=volume, alpha=0.5)\n",
        "\n",
        "ax.set_xlabel(r'$\\Delta_i$', fontsize=15)\n",
        "ax.set_ylabel(r'$\\Delta_{i+1}$', fontsize=15)\n",
        "ax.set_title('Volume and percent change')\n",
        "\n",
        "ax.grid(True)\n",
        "fig.tight_layout()"
      ],
      "execution_count": null,
      "outputs": []
    },
    {
      "cell_type": "markdown",
      "metadata": {
        "id": "zXcc0S7tMa8p",
        "colab_type": "text"
      },
      "source": [
        "## MatplotlibとSeaborn"
      ]
    },
    {
      "cell_type": "markdown",
      "metadata": {
        "id": "9gbMnGJeTouW",
        "colab_type": "text"
      },
      "source": [
        "Matplotlibと似たデータの可視化を行うライブラリにSeabornがあります。Matplotlibが数値データ全般、数学的なデータなども可視化の対象とし、昨日が幅広いのに対し、Seabornは統計データや観測データにより強く作られています。\n"
      ]
    },
    {
      "cell_type": "markdown",
      "metadata": {
        "id": "vPJNULK2UjXP",
        "colab_type": "text"
      },
      "source": [
        "例えば次のプログラムでは、線形回帰のデータを表示しています。これまでに見てきたMatplotlibで描いた場合よりプログラムの量が少ないにもかかわらずグラフを描けていることがわかります。"
      ]
    },
    {
      "cell_type": "code",
      "metadata": {
        "id": "sNAsTIYLUpv6",
        "colab_type": "code",
        "colab": {}
      },
      "source": [
        "import seaborn as sns\n",
        "import matplotlib.pyplot as plt\n",
        "\n",
        "tips = sns.load_dataset(\"tips\")\n",
        "sns.regplot(x=\"total_bill\", y=\"tip\", data=tips);"
      ],
      "execution_count": null,
      "outputs": []
    },
    {
      "cell_type": "markdown",
      "metadata": {
        "id": "hrX1XXT7VKO3",
        "colab_type": "text"
      },
      "source": [
        "このほかにも、データを分析するために必要な可視化を一気に行う機能も充実しています。\n",
        "\n",
        "次のプログラムでは、データごとの組み合わせを自動で散布図にまとめています。"
      ]
    },
    {
      "cell_type": "code",
      "metadata": {
        "id": "1JeGLxUcVZED",
        "colab_type": "code",
        "colab": {}
      },
      "source": [
        "import seaborn as sns\n",
        "import matplotlib.pyplot as plt\n",
        "\n",
        "iris = sns.load_dataset(\"iris\")\n",
        "g = sns.PairGrid(iris, hue=\"species\")\n",
        "g.map(plt.scatter);"
      ],
      "execution_count": null,
      "outputs": []
    },
    {
      "cell_type": "markdown",
      "metadata": {
        "id": "Q43hlZDWMeLn",
        "colab_type": "text"
      },
      "source": [
        "# いろいろな可視化"
      ]
    },
    {
      "cell_type": "markdown",
      "metadata": {
        "id": "t7TLH8_7Mg14",
        "colab_type": "text"
      },
      "source": [
        "## 折れ線グラフ"
      ]
    },
    {
      "cell_type": "markdown",
      "metadata": {
        "id": "VnDiWKuF8Kig",
        "colab_type": "text"
      },
      "source": [
        "折れ線グラフは、matplotlibの最も基本的な機能である。`plt.plot()`関数の1つ目の引数に横軸の値を、2つ目の引数に1つ目の引数で指定した値のときの縦軸の値をそれぞれ渡す。"
      ]
    },
    {
      "cell_type": "code",
      "metadata": {
        "id": "B6nHWZESDQFQ",
        "colab_type": "code",
        "colab": {}
      },
      "source": [
        "import matplotlib.pyplot as plt\n",
        "import numpy as np\n",
        "\n",
        "plt.plot([1, 2, 3, 4], [1, 4, 2, 3])"
      ],
      "execution_count": null,
      "outputs": []
    },
    {
      "cell_type": "markdown",
      "metadata": {
        "id": "Zc0_yxo3FTcY",
        "colab_type": "text"
      },
      "source": [
        "色を変えることができる。"
      ]
    },
    {
      "cell_type": "code",
      "metadata": {
        "id": "za6GguDdE3dK",
        "colab_type": "code",
        "colab": {}
      },
      "source": [
        "import matplotlib.pyplot as plt\n",
        "import numpy as np\n",
        "\n",
        "x = np.linspace(0, 10, 1000)\n",
        "plt.plot(x, np.sin(x), color='green')"
      ],
      "execution_count": null,
      "outputs": []
    },
    {
      "cell_type": "markdown",
      "metadata": {
        "id": "yFDtBFiXFipJ",
        "colab_type": "text"
      },
      "source": [
        "線の種類を変えられる。"
      ]
    },
    {
      "cell_type": "code",
      "metadata": {
        "id": "awAoYehUFdQY",
        "colab_type": "code",
        "colab": {}
      },
      "source": [
        "import matplotlib.pyplot as plt\n",
        "import numpy as np\n",
        "\n",
        "x = np.linspace(0, 10, 1000)\n",
        "plt.plot(x, np.cos(x), linestyle='-.')"
      ],
      "execution_count": null,
      "outputs": []
    },
    {
      "cell_type": "markdown",
      "metadata": {
        "id": "La1omC2mFr53",
        "colab_type": "text"
      },
      "source": [
        "より詳しいスタイルの変更は、ドキュメントを参照。\n",
        "\n",
        "https://matplotlib.org/3.2.2/api/_as_gen/matplotlib.pyplot.plot.html"
      ]
    },
    {
      "cell_type": "markdown",
      "metadata": {
        "id": "SNnunr6rMiQO",
        "colab_type": "text"
      },
      "source": [
        "## 散布図"
      ]
    },
    {
      "cell_type": "markdown",
      "metadata": {
        "id": "3E_PWFXDGfE9",
        "colab_type": "text"
      },
      "source": [
        "散布図も折れ線グラフと同様に`plt.plot()`関数を用いて描ける。"
      ]
    },
    {
      "cell_type": "code",
      "metadata": {
        "id": "-jnFEeFfGWk6",
        "colab_type": "code",
        "colab": {}
      },
      "source": [
        "import matplotlib.pyplot as plt\n",
        "import numpy as np\n",
        "\n",
        "x = np.linspace(0, 10, 40)\n",
        "plt.plot(x, np.cos(x), marker='o', linestyle='')"
      ],
      "execution_count": null,
      "outputs": []
    },
    {
      "cell_type": "markdown",
      "metadata": {
        "id": "_KNWPaCIGxZP",
        "colab_type": "text"
      },
      "source": [
        "折れ線グラフでの指定と組み合わせることで、プロット付きの折れ線グラフを描ける。"
      ]
    },
    {
      "cell_type": "code",
      "metadata": {
        "id": "-oMLeOqwGvyo",
        "colab_type": "code",
        "colab": {}
      },
      "source": [
        "import matplotlib.pyplot as plt\n",
        "import numpy as np\n",
        "\n",
        "x = np.linspace(0, 10, 40)\n",
        "plt.plot(x, np.cos(x), marker='o', linestyle='-')"
      ],
      "execution_count": null,
      "outputs": []
    },
    {
      "cell_type": "markdown",
      "metadata": {
        "id": "Q-wUZBYwG7dG",
        "colab_type": "text"
      },
      "source": [
        "より高機能な散布図を描く方法として、`plt.scatter()`関数がある。こちらでは、各値ごとに色やサイズを変えたりすることができる。"
      ]
    },
    {
      "cell_type": "code",
      "metadata": {
        "id": "Q_UmTiDKHFeW",
        "colab_type": "code",
        "colab": {}
      },
      "source": [
        "import matplotlib.pyplot as plt\n",
        "import numpy as np\n",
        "\n",
        "plt.scatter(\n",
        "    np.random.randn(100),\n",
        "    np.random.randn(100),\n",
        "    c=np.random.randn(100),\n",
        "    s=np.random.randn(100) * 200,\n",
        "    alpha=0.5\n",
        ")"
      ],
      "execution_count": null,
      "outputs": []
    },
    {
      "cell_type": "markdown",
      "metadata": {
        "id": "WJXMTnroU_bz",
        "colab_type": "text"
      },
      "source": [
        "散布図の詳細は公式ドキュメントを参照。\n",
        "\n",
        "https://matplotlib.org/api/_as_gen/matplotlib.pyplot.scatter.html"
      ]
    },
    {
      "cell_type": "markdown",
      "metadata": {
        "id": "ETnsolxeMjbp",
        "colab_type": "text"
      },
      "source": [
        "## 密度"
      ]
    },
    {
      "cell_type": "markdown",
      "metadata": {
        "id": "PcfA_suzP-TQ",
        "colab_type": "text"
      },
      "source": [
        "3次元のデータを表現するのに便利なのが、`plt.contour`関数です。この関数は地形図のように等高線図を描くことができます。"
      ]
    },
    {
      "cell_type": "markdown",
      "metadata": {
        "id": "zl3yi8DURrnk",
        "colab_type": "text"
      },
      "source": [
        "次のプログラムは、ダミーデータを基に等高線を描いたものです。`np.meshgrid()`関数は2次元のグリッド(格子状の目盛)を作成するものです。\n",
        "\n",
        "これを用いて準備したグリッドを別に定義した値を生成する関数に渡し、ダミーデータを生成しています。"
      ]
    },
    {
      "cell_type": "code",
      "metadata": {
        "id": "1adm3xA-QUwQ",
        "colab_type": "code",
        "colab": {}
      },
      "source": [
        "import numpy as np\n",
        "import matplotlib.pyplot as plt\n",
        "\n",
        "def f(x, y):\n",
        "  return np.cos(x) ** 10 + np.sin(10 + y * x) * np.sin(x)\n",
        "\n",
        "\n",
        "x = np.linspace(0, 5, 50)\n",
        "y = np.linspace(0, 5, 40)\n",
        "\n",
        "X, Y = np.meshgrid(x, y)\n",
        "plt.contour(X, Y, f(X, Y))"
      ],
      "execution_count": null,
      "outputs": []
    },
    {
      "cell_type": "markdown",
      "metadata": {
        "id": "XiF2t6H5SnvM",
        "colab_type": "text"
      },
      "source": [
        "`plt.contour()`関数の代わりに、`plt.contourf`関数を用いると、等高線では無く、色分けで値の高低を示すことができます。"
      ]
    },
    {
      "cell_type": "code",
      "metadata": {
        "id": "h3rXz_i2ScyL",
        "colab_type": "code",
        "colab": {}
      },
      "source": [
        "import numpy as np\n",
        "import matplotlib.pyplot as plt\n",
        "\n",
        "def f(x, y):\n",
        "  return np.cos(x) ** 10 + np.sin(10 + y * x) * np.sin(x)\n",
        "\n",
        "\n",
        "x = np.linspace(0, 5, 50)\n",
        "y = np.linspace(0, 5, 40)\n",
        "\n",
        "X, Y = np.meshgrid(x, y)\n",
        "plt.contourf(X, Y, f(X, Y), 20, cmap='RdGy')"
      ],
      "execution_count": null,
      "outputs": []
    },
    {
      "cell_type": "markdown",
      "metadata": {
        "id": "O-95hm-xUzDk",
        "colab_type": "text"
      },
      "source": [
        "密度分布図の詳細は公式ドキュメントを参照。\n",
        "\n",
        "https://matplotlib.org/api/_as_gen/matplotlib.pyplot.contour.html\n",
        "\n",
        "\n",
        "https://matplotlib.org/api/_as_gen/matplotlib.pyplot.contourf.html"
      ]
    },
    {
      "cell_type": "markdown",
      "metadata": {
        "id": "AWZ13S5kMl_S",
        "colab_type": "text"
      },
      "source": [
        "## ヒストグラム"
      ]
    },
    {
      "cell_type": "markdown",
      "metadata": {
        "id": "ritVqObTU5lj",
        "colab_type": "text"
      },
      "source": [
        ""
      ]
    },
    {
      "cell_type": "markdown",
      "metadata": {
        "id": "aLxZ53tOS_F1",
        "colab_type": "text"
      },
      "source": [
        "ヒストグラムはデータの分布を確認するときによく用います。"
      ]
    },
    {
      "cell_type": "markdown",
      "metadata": {
        "id": "jaVdg7F0TFVN",
        "colab_type": "text"
      },
      "source": [
        "次のプログラムは、正規分布の模擬データをヒストグラムとして表示しています。"
      ]
    },
    {
      "cell_type": "code",
      "metadata": {
        "id": "myKMJiXgTOfa",
        "colab_type": "code",
        "colab": {}
      },
      "source": [
        "import numpy as np\n",
        "import matplotlib.pyplot as plt\n",
        "\n",
        "plt.hist(np.random.randn(1000))"
      ],
      "execution_count": null,
      "outputs": []
    },
    {
      "cell_type": "markdown",
      "metadata": {
        "id": "Lg6-9ASQTdxS",
        "colab_type": "text"
      },
      "source": [
        "なにも指定しないと、10個のグループにデータを分けますが、`bins`を用いると分割数を変更できます。"
      ]
    },
    {
      "cell_type": "code",
      "metadata": {
        "id": "TRd9eHbYTasN",
        "colab_type": "code",
        "colab": {}
      },
      "source": [
        "import numpy as np\n",
        "import matplotlib.pyplot as plt\n",
        "\n",
        "plt.hist(np.random.randn(1000), bins=50)"
      ],
      "execution_count": null,
      "outputs": []
    },
    {
      "cell_type": "markdown",
      "metadata": {
        "id": "Iz1snB_xUp1T",
        "colab_type": "text"
      },
      "source": [
        "ヒストグラムのより詳しい使い方は、公式ドキュメントを参照。\n",
        "\n",
        "https://matplotlib.org/3.1.1/api/_as_gen/matplotlib.pyplot.hist.html"
      ]
    },
    {
      "cell_type": "markdown",
      "metadata": {
        "id": "obpQ4-rsMne-",
        "colab_type": "text"
      },
      "source": [
        "# 見た目の変更(カスタマイズ)"
      ]
    },
    {
      "cell_type": "markdown",
      "metadata": {
        "id": "9EpA6IImVP8D",
        "colab_type": "text"
      },
      "source": [
        "視覚化したものを見やすくわかりやすくするために、さまざまなカスタマイズが行える。ここでは、代表的なカスタマイズとして、目盛の変更や凡例の設定を行う。\n",
        "\n",
        "ここまでは、簡単にグラフを描く方法を用いて描画してきたが、ここからはより細かなカスタマイズを行える方法でグラフを描画していく。"
      ]
    },
    {
      "cell_type": "markdown",
      "metadata": {
        "id": "32xoGByEMqP6",
        "colab_type": "text"
      },
      "source": [
        "## 目盛"
      ]
    },
    {
      "cell_type": "markdown",
      "metadata": {
        "id": "aRCsa94ebt04",
        "colab_type": "text"
      },
      "source": [
        "カスタマイズを細かく行える書き方では、下記のようなプログラムでグラフを描画する。\n",
        "\n",
        "`plt.figure()`関数は空白のグラフ用紙を作るイメージ。そこに自分が描画したいグラフを追加していく。"
      ]
    },
    {
      "cell_type": "code",
      "metadata": {
        "id": "_pM6YSm3VPXr",
        "colab_type": "code",
        "colab": {}
      },
      "source": [
        "import matplotlib.pyplot as plt\n",
        "import numpy as np\n",
        "\n",
        "\n",
        "x = np.linspace(0, 10, 1000)\n",
        "\n",
        "fig = plt.figure()\n",
        "ax = fig.add_subplot()\n",
        "\n",
        "ax.plot(x, np.sin(x))"
      ],
      "execution_count": null,
      "outputs": []
    },
    {
      "cell_type": "markdown",
      "metadata": {
        "id": "ZIsa5L3XMtDY",
        "colab_type": "text"
      },
      "source": [
        "## 凡例"
      ]
    },
    {
      "cell_type": "markdown",
      "metadata": {
        "id": "A9k-bSgHb8Xz",
        "colab_type": "text"
      },
      "source": [
        "この方法を用いると、複数のグラフを1つのグラフに含めることができる。複数のグラフを1つのグラフに配置したときは、どのグラフが何を意味するのか表示するために、凡例を配置すると良い。凡例は`legend()`関数を用いて\n",
        "表示できる。"
      ]
    },
    {
      "cell_type": "code",
      "metadata": {
        "id": "5VtsiYymbhX0",
        "colab_type": "code",
        "colab": {}
      },
      "source": [
        "import matplotlib.pyplot as plt\n",
        "import numpy as np\n",
        "\n",
        "\n",
        "x = np.linspace(0, 10, 1000)\n",
        "\n",
        "fig = plt.figure()\n",
        "ax = fig.add_subplot()\n",
        "\n",
        "ax.plot(x, np.sin(x), label='sin(x)')\n",
        "ax.plot(x, np.cos(x), label='cos(x)')\n",
        "fig.legend()"
      ],
      "execution_count": null,
      "outputs": []
    },
    {
      "cell_type": "markdown",
      "metadata": {
        "id": "nQiYeUQpM8ra",
        "colab_type": "text"
      },
      "source": [
        "## グラフのデザイン"
      ]
    },
    {
      "cell_type": "markdown",
      "metadata": {
        "id": "a6X19SyKguTf",
        "colab_type": "text"
      },
      "source": [
        "Matplotlibにはいろいろなグラフのデザインが用意されている。"
      ]
    },
    {
      "cell_type": "markdown",
      "metadata": {
        "id": "JrUWhbJwhH2Y",
        "colab_type": "text"
      },
      "source": [
        "次のプログラムでは、`'seaborn-bright'`というテーマを使ってグラフを描画している。"
      ]
    },
    {
      "cell_type": "code",
      "metadata": {
        "id": "FuvvusQ_e7Kg",
        "colab_type": "code",
        "colab": {}
      },
      "source": [
        "import matplotlib.pyplot as plt\n",
        "import numpy as np\n",
        "\n",
        "plt.style.use('seaborn-bright')\n",
        "\n",
        "\n",
        "x = np.linspace(0, 10, 1000)\n",
        "\n",
        "fig = plt.figure()\n",
        "ax = fig.add_subplot()\n",
        "\n",
        "ax.plot(x, np.sin(x), label='sin(x)')\n",
        "\n",
        "ax.plot(x, np.cos(x), label='cos(x)')\n",
        "fig.legend()"
      ],
      "execution_count": null,
      "outputs": []
    },
    {
      "cell_type": "markdown",
      "metadata": {
        "id": "-eTo0ssshWjJ",
        "colab_type": "text"
      },
      "source": [
        "こちらのグラフでは、`'dark_background'`を用いている。"
      ]
    },
    {
      "cell_type": "code",
      "metadata": {
        "id": "7C3mmGGShE9o",
        "colab_type": "code",
        "colab": {}
      },
      "source": [
        "import matplotlib.pyplot as plt\n",
        "import numpy as np\n",
        "\n",
        "plt.style.use('dark_background')\n",
        "\n",
        "\n",
        "x = np.linspace(0, 10, 1000)\n",
        "\n",
        "fig = plt.figure()\n",
        "ax = fig.add_subplot()\n",
        "\n",
        "ax.plot(x, np.sin(x), label='sin(x)')\n",
        "ax.plot(x, np.cos(x), label='cos(x)')\n",
        "fig.legend()"
      ],
      "execution_count": null,
      "outputs": []
    },
    {
      "cell_type": "markdown",
      "metadata": {
        "id": "r-R5_OEMhcPZ",
        "colab_type": "text"
      },
      "source": [
        "グラフのデザインで用いることができるものは、`plt.style.available`で調べることができる。"
      ]
    },
    {
      "cell_type": "code",
      "metadata": {
        "id": "uoAWV8f1hbcj",
        "colab_type": "code",
        "colab": {}
      },
      "source": [
        "plt.style.available"
      ],
      "execution_count": null,
      "outputs": []
    },
    {
      "cell_type": "markdown",
      "metadata": {
        "id": "rJVMDyLvhlao",
        "colab_type": "text"
      },
      "source": [
        "グラフを使いたい場所のイメージに合わせたテーマを選ぶと効果的に表現できる。\n"
      ]
    },
    {
      "cell_type": "markdown",
      "metadata": {
        "id": "xhip78zENR_n",
        "colab_type": "text"
      },
      "source": [
        "# Seaborn"
      ]
    },
    {
      "cell_type": "markdown",
      "metadata": {
        "id": "38M_aTcChs8-",
        "colab_type": "text"
      },
      "source": [
        "Matplotlibと同じように、データを可視化するライブラリとしてSeabornを紹介する。\n",
        "\n",
        "Seabornは統計データや観測データなどをより簡単に美しく可視化するライブラリとして作られています。\n",
        "\n",
        "Seabornで描画するグラフなどはMatplotlibでも描画できることがよくありますが、MatplotlibではSeabornより多くのコードを必要とする場合が多いです。"
      ]
    },
    {
      "cell_type": "markdown",
      "metadata": {
        "id": "n9yCBy_tNfDR",
        "colab_type": "text"
      },
      "source": [
        "## ペアプロット"
      ]
    },
    {
      "cell_type": "markdown",
      "metadata": {
        "id": "YXrFyWMTjmQe",
        "colab_type": "text"
      },
      "source": [
        "ペアプロットはSeabornの特徴的な機能です。ペアプロットでは、多次元データの相関関係を一気に可視化できます。\n",
        "\n",
        "この機能で、複数次元のデータがどのように関係があるのかをおよそ掴むことができ、分析の手掛かりを得られます。"
      ]
    },
    {
      "cell_type": "code",
      "metadata": {
        "id": "_rCHwcztjZDo",
        "colab_type": "code",
        "colab": {}
      },
      "source": [
        "import matplotlib.pyplot as plt\n",
        "import seaborn as sns\n",
        "\n",
        "plt.style.use('seaborn')\n",
        "\n",
        "\n",
        "iris = sns.load_dataset(\"iris\")\n",
        "g = sns.PairGrid(iris, hue=\"species\")\n",
        "g.map(plt.scatter);"
      ],
      "execution_count": null,
      "outputs": []
    },
    {
      "cell_type": "markdown",
      "metadata": {
        "id": "JxvXTYiRkjxM",
        "colab_type": "text"
      },
      "source": [
        "Seabornは可視化を行うときにmatplotlibを使っています。そのため、Seabornで描く図はMatplotlibのスタイルを適用することができます。"
      ]
    },
    {
      "cell_type": "code",
      "metadata": {
        "id": "bcg__8sDkzhn",
        "colab_type": "code",
        "colab": {}
      },
      "source": [
        "import matplotlib.pyplot as plt\n",
        "import seaborn as sns\n",
        "\n",
        "plt.style.use('dark_background')\n",
        "\n",
        "\n",
        "iris = sns.load_dataset(\"iris\")\n",
        "g = sns.PairGrid(iris, hue=\"species\")\n",
        "g.map(plt.scatter);"
      ],
      "execution_count": null,
      "outputs": []
    },
    {
      "cell_type": "markdown",
      "metadata": {
        "id": "FyzCiounNhia",
        "colab_type": "text"
      },
      "source": [
        "## 実際のデータによる使用例"
      ]
    },
    {
      "cell_type": "markdown",
      "metadata": {
        "id": "dONOMk2alKpr",
        "colab_type": "text"
      },
      "source": [
        "ここでは、ボストン住宅価格データセット(データ分析を勉強するときの有名なデータセット)を用いて、実際の分析を体験します。"
      ]
    },
    {
      "cell_type": "markdown",
      "metadata": {
        "id": "oO2At8AplT07",
        "colab_type": "text"
      },
      "source": [
        "次のプログラムで、データセットを読み込みます。"
      ]
    },
    {
      "cell_type": "code",
      "metadata": {
        "id": "5bdQpRWVlWTM",
        "colab_type": "code",
        "colab": {}
      },
      "source": [
        "import pandas as pd\n",
        "from sklearn.datasets import load_boston\n",
        "import matplotlib.pyplot as plt\n",
        "import seaborn as sns\n",
        "\n",
        "plt.style.use('seaborn')\n",
        "\n",
        "\n",
        "dataset = load_boston()\n",
        "df = pd.DataFrame(dataset.data, columns=dataset.feature_names)\n",
        "df['MEDV'] = dataset.target"
      ],
      "execution_count": null,
      "outputs": []
    },
    {
      "cell_type": "code",
      "metadata": {
        "id": "wp2kvvLqzHXY",
        "colab_type": "code",
        "colab": {}
      },
      "source": [
        "df"
      ],
      "execution_count": null,
      "outputs": []
    },
    {
      "cell_type": "markdown",
      "metadata": {
        "id": "CWRXRihnlbCj",
        "colab_type": "text"
      },
      "source": [
        "データセットの中身がどのようなものなのか、pandasの`describe()`関数を用いて調べます。\n",
        "\n",
        "データセットには、いくつかの情報が含まれています\n",
        "\n",
        "*   CRIM\t犯罪発生率\n",
        "*   ZN\t25,000平方フィート以上の住宅区画の割合\n",
        "*   INDUS\t小売業以外の商業が占める土地面積の割合\n",
        "*   CHAS\tチャールズ川沿いかどうか (1: 川沿い、 0: それ以外)\n",
        "*   NOX\t窒素酸化物の濃度\n",
        "*   RM\t平均部屋数\n",
        "*   AGE\t1940年よりも前に建てられた物件の割合\n",
        "*   DIS\tボストンにある5つの雇用施設までの重み付きの距離\n",
        "*   RAD\t環状高速道路へのアクセス指数\n",
        "*   TAX\t10,000ドルあたりの固定資産税の割合\n",
        "*   PTRATIO\t町ごとの生徒と教師の比率\n",
        "*   B\t1000(Bk – 0.63)^2 の値。BKは町ごとの黒人の割合。\n",
        "*   LSTAT\t低所得者の割合(%)\n",
        "*   MEDV\t住宅価格の中央値(単位 1000ドル)\n",
        "\n"
      ]
    },
    {
      "cell_type": "code",
      "metadata": {
        "id": "oYCJ9CKOlaAr",
        "colab_type": "code",
        "colab": {}
      },
      "source": [
        "df.describe()"
      ],
      "execution_count": null,
      "outputs": []
    },
    {
      "cell_type": "markdown",
      "metadata": {
        "id": "e9KxLRVYvNzj",
        "colab_type": "text"
      },
      "source": [
        "PandasのDataframeにある`coor()`メソッドは、各値の相関を調べられる。作成した相関の情報をもとに、matplotlibの`heatmap`を用いると、可視化できる。\n",
        "\n",
        "この図では、値の間にどの程度の関係があるかが分かる。"
      ]
    },
    {
      "cell_type": "code",
      "metadata": {
        "id": "d1I7hhVsmCc0",
        "colab_type": "code",
        "colab": {}
      },
      "source": [
        "sns.heatmap(df.corr())"
      ],
      "execution_count": null,
      "outputs": []
    },
    {
      "cell_type": "markdown",
      "metadata": {
        "id": "_L_8J-ufzSmK",
        "colab_type": "text"
      },
      "source": [
        "ペアプロットを用いても、値間の関係を調べることができます。ここでは、RM、LSTAT、MEDEVの3つに絞ってプロットを見てみます。"
      ]
    },
    {
      "cell_type": "code",
      "metadata": {
        "id": "6r-p11huzfIP",
        "colab_type": "code",
        "colab": {}
      },
      "source": [
        "sns.pairplot(df[['RM', 'LSTAT', 'MEDV']])"
      ],
      "execution_count": null,
      "outputs": []
    },
    {
      "cell_type": "markdown",
      "metadata": {
        "id": "1LBEJpS7AvDo",
        "colab_type": "text"
      },
      "source": [
        "Seabornの`distplot()`関数を用いると、ヒストグラムと密度関数を得られる。これで、特定のデータの分布を詳しく確認できる。"
      ]
    },
    {
      "cell_type": "code",
      "metadata": {
        "id": "p_t23yT7_UpB",
        "colab_type": "code",
        "colab": {}
      },
      "source": [
        "sns.distplot(df['MEDV'])"
      ],
      "execution_count": null,
      "outputs": []
    },
    {
      "cell_type": "markdown",
      "metadata": {
        "id": "AgP9TcokDd5e",
        "colab_type": "text"
      },
      "source": [
        "Seabornの`jointplot()`関数を用いて、MEDVとLSTATの2つの値の分布について相関を調べる。"
      ]
    },
    {
      "cell_type": "code",
      "metadata": {
        "id": "EUkzA9KaCM5Z",
        "colab_type": "code",
        "colab": {}
      },
      "source": [
        "x, y = df['MEDV'], df['LSTAT']\n",
        "sns.jointplot(x, y, alpha=0.5)"
      ],
      "execution_count": null,
      "outputs": []
    },
    {
      "cell_type": "markdown",
      "metadata": {
        "id": "zptddl8yDsX-",
        "colab_type": "text"
      },
      "source": [
        "`jointplot()`には別の種類の表示形式もある。"
      ]
    },
    {
      "cell_type": "code",
      "metadata": {
        "id": "2i1ovWH7DrTy",
        "colab_type": "code",
        "colab": {}
      },
      "source": [
        "sns.jointplot(df['MEDV'], df['LSTAT'], kind='kde')"
      ],
      "execution_count": null,
      "outputs": []
    },
    {
      "cell_type": "markdown",
      "metadata": {
        "id": "zVOCvWrtDzrq",
        "colab_type": "text"
      },
      "source": [
        "このように、様々な視覚化をデータに対して施してみることで、データ間の関係がどのようになっているかを探る。"
      ]
    }
  ]
}