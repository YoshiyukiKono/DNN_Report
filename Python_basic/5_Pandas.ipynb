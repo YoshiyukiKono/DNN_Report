{
  "nbformat": 4,
  "nbformat_minor": 0,
  "metadata": {
    "colab": {
      "name": "5. Pandas.ipynb",
      "provenance": [],
      "private_outputs": true,
      "collapsed_sections": [
        "ho-tJzyV5ktv",
        "oUafqno17p4_",
        "-iaNTZGq6q4-",
        "CwsGj-DEA6ec",
        "zaKa_2tw7u3m",
        "YF_FiYgGB8jF",
        "QWmUk1yfCBE4",
        "tkpU7IEeAvFU",
        "PPThOxo0Ej0H",
        "0t45JP_I7ZPT"
      ]
    },
    "kernelspec": {
      "name": "python3",
      "display_name": "Python 3"
    }
  },
  "cells": [
    {
      "cell_type": "markdown",
      "metadata": {
        "id": "cHAXfbuwiP63",
        "colab_type": "text"
      },
      "source": [
        "# Pandasとは"
      ]
    },
    {
      "cell_type": "markdown",
      "metadata": {
        "id": "XuUd577gh41U",
        "colab_type": "text"
      },
      "source": [
        "## Pandasの機能"
      ]
    },
    {
      "cell_type": "markdown",
      "metadata": {
        "id": "TDS2rrVuvGyE",
        "colab_type": "text"
      },
      "source": [
        "`pandas`は`numpy`をより扱いやすく拡張したもの。統計データや表形式のデータをうまく扱える。"
      ]
    },
    {
      "cell_type": "code",
      "metadata": {
        "id": "dmM2cy_itEyM",
        "colab_type": "code",
        "colab": {}
      },
      "source": [
        "import numpy as np\n",
        "import pandas as pd"
      ],
      "execution_count": null,
      "outputs": []
    },
    {
      "cell_type": "markdown",
      "metadata": {
        "id": "-SjBEqcoh8Z9",
        "colab_type": "text"
      },
      "source": [
        "## Numpyとの関係"
      ]
    },
    {
      "cell_type": "markdown",
      "metadata": {
        "id": "4j39iW8onkqX",
        "colab_type": "text"
      },
      "source": [
        "pandasのデータ型は`numpy`のデータ型を拡張している。そのため、pandasの中では、numpyの機能をそのまま利用している部分が存在する。\n",
        "\n",
        "`numpy`のデータ型。\n",
        "\n",
        "<https://docs.scipy.org/doc/numpy/reference/arrays.scalars.html>\n",
        "\n",
        "\n",
        "`pandas`のデータ型。\n",
        "\n",
        "<https://pandas.pydata.org/pandas-docs/stable/getting_started/basics.html#basics-dtypes>"
      ]
    },
    {
      "cell_type": "markdown",
      "metadata": {
        "id": "oZ9-wgn9bJG-",
        "colab_type": "text"
      },
      "source": [
        "# データの作成"
      ]
    },
    {
      "cell_type": "markdown",
      "metadata": {
        "id": "bZLKkIO4bdLM",
        "colab_type": "text"
      },
      "source": [
        "Pandasには`Series`と`Dataframe`という2つの型が存在する。"
      ]
    },
    {
      "cell_type": "markdown",
      "metadata": {
        "id": "ho-tJzyV5ktv",
        "colab_type": "text"
      },
      "source": [
        "## Series"
      ]
    },
    {
      "cell_type": "markdown",
      "metadata": {
        "id": "Eiv-BJ3I56w3",
        "colab_type": "text"
      },
      "source": [
        "`Series`は1次元のデータ。表の1列(横方向1列、縦方向に複数行)を表現する。"
      ]
    },
    {
      "cell_type": "markdown",
      "metadata": {
        "id": "oUafqno17p4_",
        "colab_type": "text"
      },
      "source": [
        "### Seriesの使い方"
      ]
    },
    {
      "cell_type": "code",
      "metadata": {
        "id": "RNteqC2N5rWd",
        "colab_type": "code",
        "colab": {}
      },
      "source": [
        "data = pd.Series([0.25, 0.5, 0.75, 1.0])\n",
        "data"
      ],
      "execution_count": null,
      "outputs": []
    },
    {
      "cell_type": "markdown",
      "metadata": {
        "id": "OUL4NXn95vFf",
        "colab_type": "text"
      },
      "source": [
        "`.values`で`numpy`の配列が取得できる"
      ]
    },
    {
      "cell_type": "code",
      "metadata": {
        "id": "PMK93iYI5zhu",
        "colab_type": "code",
        "colab": {}
      },
      "source": [
        "data.values"
      ],
      "execution_count": null,
      "outputs": []
    },
    {
      "cell_type": "markdown",
      "metadata": {
        "id": "lq4jVZxX6Lg_",
        "colab_type": "text"
      },
      "source": [
        "numpy配列のような取得ができる。"
      ]
    },
    {
      "cell_type": "code",
      "metadata": {
        "id": "1WRejmez6FdY",
        "colab_type": "code",
        "colab": {}
      },
      "source": [
        "data[1]"
      ],
      "execution_count": null,
      "outputs": []
    },
    {
      "cell_type": "code",
      "metadata": {
        "id": "abMJtWaM6Or_",
        "colab_type": "code",
        "colab": {}
      },
      "source": [
        "data[1:3]"
      ],
      "execution_count": null,
      "outputs": []
    },
    {
      "cell_type": "markdown",
      "metadata": {
        "id": "-iaNTZGq6q4-",
        "colab_type": "text"
      },
      "source": [
        "### インデックスの使用"
      ]
    },
    {
      "cell_type": "markdown",
      "metadata": {
        "id": "jJRzHSZa9j_c",
        "colab_type": "text"
      },
      "source": [
        "インデックスは、`Series`の要素にアクセスする方法を提供する。"
      ]
    },
    {
      "cell_type": "code",
      "metadata": {
        "id": "SzOdY-DB-EXG",
        "colab_type": "code",
        "colab": {}
      },
      "source": [
        "data = pd.Series([0.25, 0.5, 0.75, 1.0])"
      ],
      "execution_count": null,
      "outputs": []
    },
    {
      "cell_type": "markdown",
      "metadata": {
        "id": "V-5PxsMd-Jzl",
        "colab_type": "text"
      },
      "source": [
        "`Series`のインデックスは以下で取得できる。`Index`オブジェクトで表現される。"
      ]
    },
    {
      "cell_type": "code",
      "metadata": {
        "id": "26bTUFGs-AnF",
        "colab_type": "code",
        "colab": {}
      },
      "source": [
        "data.index"
      ],
      "execution_count": null,
      "outputs": []
    },
    {
      "cell_type": "markdown",
      "metadata": {
        "id": "Sx_5XJlZ67R_",
        "colab_type": "text"
      },
      "source": [
        "インデックスには整数以外も用いることができる。"
      ]
    },
    {
      "cell_type": "code",
      "metadata": {
        "id": "AcS96BRL6taX",
        "colab_type": "code",
        "colab": {}
      },
      "source": [
        "data = pd.Series([0.25, 0.5, 0.75, 1.0],\n",
        "                index=['a', 'b', 'c', 'd'])\n",
        "data"
      ],
      "execution_count": null,
      "outputs": []
    },
    {
      "cell_type": "code",
      "metadata": {
        "id": "SgQ2RxHW604H",
        "colab_type": "code",
        "colab": {}
      },
      "source": [
        "data['b']"
      ],
      "execution_count": null,
      "outputs": []
    },
    {
      "cell_type": "markdown",
      "metadata": {
        "id": "2TD9YvRI7AfO",
        "colab_type": "text"
      },
      "source": [
        "インデックスは順番に並んでいる必要がない"
      ]
    },
    {
      "cell_type": "code",
      "metadata": {
        "id": "7eoLk6qA64Vu",
        "colab_type": "code",
        "colab": {}
      },
      "source": [
        "data = pd.Series([0.25, 0.5, 0.75, 1.0],\n",
        "index=[2, 5, 3, 7])"
      ],
      "execution_count": null,
      "outputs": []
    },
    {
      "cell_type": "code",
      "metadata": {
        "id": "5De_hirY650H",
        "colab_type": "code",
        "colab": {}
      },
      "source": [
        "data[5]"
      ],
      "execution_count": null,
      "outputs": []
    },
    {
      "cell_type": "markdown",
      "metadata": {
        "id": "YPItLTzQ7Gof",
        "colab_type": "text"
      },
      "source": [
        "インデックスを用いた`pd.Series`は辞書のように扱える。"
      ]
    },
    {
      "cell_type": "code",
      "metadata": {
        "id": "7oTOuQIh7KOu",
        "colab_type": "code",
        "colab": {}
      },
      "source": [
        "population = pd.Series({\n",
        "  'California': 38332521,\n",
        "  'Texas': 26448193,\n",
        "  'New York': 19651127,\n",
        "  'Florida': 19552860,\n",
        "  'Illinois': 12882135\n",
        "})\n",
        "population"
      ],
      "execution_count": null,
      "outputs": []
    },
    {
      "cell_type": "code",
      "metadata": {
        "id": "y3k8032a7YDI",
        "colab_type": "code",
        "colab": {}
      },
      "source": [
        "population['California']"
      ],
      "execution_count": null,
      "outputs": []
    },
    {
      "cell_type": "code",
      "metadata": {
        "id": "qahwX7NS7Y_W",
        "colab_type": "code",
        "colab": {}
      },
      "source": [
        "population['Texas':'Florida']"
      ],
      "execution_count": null,
      "outputs": []
    },
    {
      "cell_type": "markdown",
      "metadata": {
        "id": "CwsGj-DEA6ec",
        "colab_type": "text"
      },
      "source": [
        "### Seriesオブジェクトの作成"
      ]
    },
    {
      "cell_type": "markdown",
      "metadata": {
        "id": "PXdHf6NgBB2t",
        "colab_type": "text"
      },
      "source": [
        "Pythonのリストから"
      ]
    },
    {
      "cell_type": "code",
      "metadata": {
        "id": "AMgbX_8VA-Ut",
        "colab_type": "code",
        "colab": {}
      },
      "source": [
        "pd.Series([2, 4, 6])"
      ],
      "execution_count": null,
      "outputs": []
    },
    {
      "cell_type": "markdown",
      "metadata": {
        "id": "JPguvxZVBFl-",
        "colab_type": "text"
      },
      "source": [
        "数値を1つ指定したときは、指定したインデックス分で埋められる。"
      ]
    },
    {
      "cell_type": "code",
      "metadata": {
        "id": "h-PPGo92BLlF",
        "colab_type": "code",
        "colab": {}
      },
      "source": [
        "pd.Series(5, index=[100, 200, 300])"
      ],
      "execution_count": null,
      "outputs": []
    },
    {
      "cell_type": "markdown",
      "metadata": {
        "id": "UKb1DUPaBPl2",
        "colab_type": "text"
      },
      "source": [
        "Pythonの辞書から"
      ]
    },
    {
      "cell_type": "code",
      "metadata": {
        "id": "83V1NKxvBRMk",
        "colab_type": "code",
        "colab": {}
      },
      "source": [
        "pd.Series({2:'a', 1:'b', 3:'c'})"
      ],
      "execution_count": null,
      "outputs": []
    },
    {
      "cell_type": "markdown",
      "metadata": {
        "id": "t257QvqABTC0",
        "colab_type": "text"
      },
      "source": [
        "インデックスを明示的に指定すると、インデックスは指定されたものを使用する。"
      ]
    },
    {
      "cell_type": "code",
      "metadata": {
        "id": "oeT8wZ92BWU2",
        "colab_type": "code",
        "colab": {}
      },
      "source": [
        "pd.Series({2:'a', 1:'b', 3:'c'}, index=[3, 2])"
      ],
      "execution_count": null,
      "outputs": []
    },
    {
      "cell_type": "markdown",
      "metadata": {
        "id": "zaKa_2tw7u3m",
        "colab_type": "text"
      },
      "source": [
        "## DataFrame"
      ]
    },
    {
      "cell_type": "markdown",
      "metadata": {
        "id": "0Cg7vo7Z8KhW",
        "colab_type": "text"
      },
      "source": [
        "データフレームは2次元のデータで、表を表現する。"
      ]
    },
    {
      "cell_type": "markdown",
      "metadata": {
        "id": "YF_FiYgGB8jF",
        "colab_type": "text"
      },
      "source": [
        "### DataFrameの使い方"
      ]
    },
    {
      "cell_type": "code",
      "metadata": {
        "id": "rb-oQv6F9UBE",
        "colab_type": "code",
        "colab": {}
      },
      "source": [
        "population = pd.Series({\n",
        "  'California': 38332521,\n",
        "  'Texas': 26448193,\n",
        "  'New York': 19651127,\n",
        "  'Florida': 19552860,\n",
        "  'Illinois': 12882135\n",
        "})\n",
        "population"
      ],
      "execution_count": null,
      "outputs": []
    },
    {
      "cell_type": "code",
      "metadata": {
        "id": "iT8GCASO9CTG",
        "colab_type": "code",
        "colab": {}
      },
      "source": [
        "area = pd.Series({\n",
        "  'California': 423967,\n",
        "  'Texas': 695662,\n",
        "  'New York': 141297,\n",
        "  'Florida': 170312,\n",
        "  'Illinois': 149995\n",
        "})\n",
        "area"
      ],
      "execution_count": null,
      "outputs": []
    },
    {
      "cell_type": "code",
      "metadata": {
        "id": "rvJmwF0v9K5u",
        "colab_type": "code",
        "colab": {}
      },
      "source": [
        "states = pd.DataFrame({\n",
        "  'population': population,\n",
        "  'area': area\n",
        "})\n",
        "states"
      ],
      "execution_count": null,
      "outputs": []
    },
    {
      "cell_type": "markdown",
      "metadata": {
        "id": "QWmUk1yfCBE4",
        "colab_type": "text"
      },
      "source": [
        "### DataFrameのインデックス"
      ]
    },
    {
      "cell_type": "markdown",
      "metadata": {
        "id": "meg4lKm1-2o1",
        "colab_type": "text"
      },
      "source": [
        "`DataFrame`もインデックスを持つ。"
      ]
    },
    {
      "cell_type": "code",
      "metadata": {
        "id": "Oqjo8puV-7GU",
        "colab_type": "code",
        "colab": {}
      },
      "source": [
        "states.index"
      ],
      "execution_count": null,
      "outputs": []
    },
    {
      "cell_type": "markdown",
      "metadata": {
        "id": "jDyDAMBk-_pO",
        "colab_type": "text"
      },
      "source": [
        "`DataFrame`では、列があるので、その列もインデックスとして取得できる。"
      ]
    },
    {
      "cell_type": "code",
      "metadata": {
        "id": "I_ESHsPk_F9t",
        "colab_type": "code",
        "colab": {}
      },
      "source": [
        "states.columns"
      ],
      "execution_count": null,
      "outputs": []
    },
    {
      "cell_type": "markdown",
      "metadata": {
        "id": "atWimPPh_cR9",
        "colab_type": "text"
      },
      "source": [
        "`DataFrame`から1列を`Series`として取得できる。"
      ]
    },
    {
      "cell_type": "code",
      "metadata": {
        "id": "ymYh-6lS_jUl",
        "colab_type": "code",
        "colab": {}
      },
      "source": [
        "states['area']"
      ],
      "execution_count": null,
      "outputs": []
    },
    {
      "cell_type": "markdown",
      "metadata": {
        "id": "kYfGiyArAKDl",
        "colab_type": "text"
      },
      "source": [
        "`DataFrame`は2次元のリストからも作成できる。"
      ]
    },
    {
      "cell_type": "code",
      "metadata": {
        "id": "Cz3KHupu_t4-",
        "colab_type": "code",
        "colab": {}
      },
      "source": [
        "data = pd.DataFrame([\n",
        "  [1.1, 1.3, 1.8, 1.6, 1.5],\n",
        "  [2.3, 2.1, 2.6, 2.8, 2.7],\n",
        "])\n",
        "data"
      ],
      "execution_count": null,
      "outputs": []
    },
    {
      "cell_type": "markdown",
      "metadata": {
        "id": "d7iuiDfbAQ_M",
        "colab_type": "text"
      },
      "source": [
        "`numpy`の配列と異なり、1つ目のインデックスは**行ではなく**列を指す。"
      ]
    },
    {
      "cell_type": "code",
      "metadata": {
        "id": "DOsUU4Z_AObN",
        "colab_type": "code",
        "colab": {}
      },
      "source": [
        "data[0]"
      ],
      "execution_count": null,
      "outputs": []
    },
    {
      "cell_type": "markdown",
      "metadata": {
        "id": "xRdCv5aiAcFU",
        "colab_type": "text"
      },
      "source": [
        "2つ目のインデックスが行を指す。"
      ]
    },
    {
      "cell_type": "code",
      "metadata": {
        "id": "Ou1I0-JEAXpE",
        "colab_type": "code",
        "colab": {}
      },
      "source": [
        "data[0][0]"
      ],
      "execution_count": null,
      "outputs": []
    },
    {
      "cell_type": "markdown",
      "metadata": {
        "id": "tkpU7IEeAvFU",
        "colab_type": "text"
      },
      "source": [
        "### DataFrameの作成"
      ]
    },
    {
      "cell_type": "markdown",
      "metadata": {
        "id": "kJKUSqtPU5DH",
        "colab_type": "text"
      },
      "source": [
        "外部のCSVファイルを読み込んで。"
      ]
    },
    {
      "cell_type": "code",
      "metadata": {
        "id": "A5yfC9gPTJqj",
        "colab_type": "code",
        "colab": {}
      },
      "source": [
        "pd.read_csv('sample_data/california_housing_test.csv')"
      ],
      "execution_count": null,
      "outputs": []
    },
    {
      "cell_type": "markdown",
      "metadata": {
        "id": "Zauhi-cVA020",
        "colab_type": "text"
      },
      "source": [
        "Seriesオブジェクトから"
      ]
    },
    {
      "cell_type": "code",
      "metadata": {
        "id": "_skeB9ePAyPN",
        "colab_type": "code",
        "colab": {}
      },
      "source": [
        "population = pd.Series({\n",
        "  'California': 38332521,\n",
        "  'Texas': 26448193,\n",
        "  'New York': 19651127,\n",
        "  'Florida': 19552860,\n",
        "  'Illinois': 12882135\n",
        "})\n",
        "\n",
        "pd.DataFrame(population, columns=['population'])"
      ],
      "execution_count": null,
      "outputs": []
    },
    {
      "cell_type": "markdown",
      "metadata": {
        "id": "VudV9uPYBkW0",
        "colab_type": "text"
      },
      "source": [
        "辞書のリストから。"
      ]
    },
    {
      "cell_type": "code",
      "metadata": {
        "id": "l0y5RZk2Bn-N",
        "colab_type": "code",
        "colab": {}
      },
      "source": [
        "pd.DataFrame([\n",
        "  {'a': 1, 'b': 2},\n",
        "  {'a': 3, 'b': 4},\n",
        "  {'a': 5, 'b': 6},\n",
        "])"
      ],
      "execution_count": null,
      "outputs": []
    },
    {
      "cell_type": "markdown",
      "metadata": {
        "id": "XUCN2CHMB5Oz",
        "colab_type": "text"
      },
      "source": [
        "欠損値があるときは`NaN`で埋められる。"
      ]
    },
    {
      "cell_type": "code",
      "metadata": {
        "id": "_1yR6AdgCeXM",
        "colab_type": "code",
        "colab": {}
      },
      "source": [
        "pd.DataFrame([{'a': 1, 'b': 2}, {'b': 3, 'c': 4}])"
      ],
      "execution_count": null,
      "outputs": []
    },
    {
      "cell_type": "markdown",
      "metadata": {
        "id": "LXDEXZfcDbfM",
        "colab_type": "text"
      },
      "source": [
        "`Series`の辞書から。"
      ]
    },
    {
      "cell_type": "code",
      "metadata": {
        "id": "QcpC4biCECIT",
        "colab_type": "code",
        "colab": {}
      },
      "source": [
        "population = pd.Series({\n",
        "  'California': 38332521,\n",
        "  'Texas': 26448193,\n",
        "  'New York': 19651127,\n",
        "  'Florida': 19552860,\n",
        "  'Illinois': 12882135\n",
        "})\n",
        "\n",
        "area = pd.Series({\n",
        "  'California': 423967,\n",
        "  'Texas': 695662,\n",
        "  'New York': 141297,\n",
        "  'Florida': 170312,\n",
        "  'Illinois': 149995\n",
        "})\n",
        "\n",
        "pd.DataFrame({\n",
        "  'population': population,\n",
        "  'area': area\n",
        "})"
      ],
      "execution_count": null,
      "outputs": []
    },
    {
      "cell_type": "markdown",
      "metadata": {
        "id": "oVcCZ8i8EOYb",
        "colab_type": "text"
      },
      "source": [
        "`numpy`配列から。"
      ]
    },
    {
      "cell_type": "code",
      "metadata": {
        "id": "lNoxDcZHEdBT",
        "colab_type": "code",
        "colab": {}
      },
      "source": [
        "data = np.random.rand(3, 2)\n",
        "data"
      ],
      "execution_count": null,
      "outputs": []
    },
    {
      "cell_type": "code",
      "metadata": {
        "id": "3rxeyFR4EQ6z",
        "colab_type": "code",
        "colab": {}
      },
      "source": [
        "pd.DataFrame(\n",
        "  data,\n",
        "  columns=['foo', 'bar'],\n",
        "  index=['a', 'b', 'c']\n",
        ")"
      ],
      "execution_count": null,
      "outputs": []
    },
    {
      "cell_type": "markdown",
      "metadata": {
        "id": "PPThOxo0Ej0H",
        "colab_type": "text"
      },
      "source": [
        "# データの選択"
      ]
    },
    {
      "cell_type": "markdown",
      "metadata": {
        "id": "xmHaIxRaIKiv",
        "colab_type": "text"
      },
      "source": [
        "### Series"
      ]
    },
    {
      "cell_type": "code",
      "metadata": {
        "id": "GD1mgGGMIAsr",
        "colab_type": "code",
        "colab": {}
      },
      "source": [
        "data = pd.Series(\n",
        "  [0.25, 0.5, 0.75, 1.0],\n",
        "  index=['a', 'b', 'c', 'd']\n",
        ")\n",
        "\n",
        "data"
      ],
      "execution_count": null,
      "outputs": []
    },
    {
      "cell_type": "code",
      "metadata": {
        "id": "EBsT5OZjIOnR",
        "colab_type": "code",
        "colab": {}
      },
      "source": [
        "data['b']"
      ],
      "execution_count": null,
      "outputs": []
    },
    {
      "cell_type": "markdown",
      "metadata": {
        "id": "818xNCvBISoJ",
        "colab_type": "text"
      },
      "source": [
        "キーを含むかの検証。"
      ]
    },
    {
      "cell_type": "code",
      "metadata": {
        "id": "q9KUDV7TIQz5",
        "colab_type": "code",
        "colab": {}
      },
      "source": [
        "'a' in data"
      ],
      "execution_count": null,
      "outputs": []
    },
    {
      "cell_type": "code",
      "metadata": {
        "id": "7nkwjNP4IU1B",
        "colab_type": "code",
        "colab": {}
      },
      "source": [
        "data.keys()"
      ],
      "execution_count": null,
      "outputs": []
    },
    {
      "cell_type": "code",
      "metadata": {
        "id": "cKNfhDsWIWn6",
        "colab_type": "code",
        "colab": {}
      },
      "source": [
        "list(data.items())"
      ],
      "execution_count": null,
      "outputs": []
    },
    {
      "cell_type": "markdown",
      "metadata": {
        "id": "R-LmdvfJIgrS",
        "colab_type": "text"
      },
      "source": [
        "インデックスを用いた値の変更"
      ]
    },
    {
      "cell_type": "code",
      "metadata": {
        "id": "aWs6UmMnIfns",
        "colab_type": "code",
        "colab": {}
      },
      "source": [
        "data['e'] = 1.25\n",
        "data"
      ],
      "execution_count": null,
      "outputs": []
    },
    {
      "cell_type": "markdown",
      "metadata": {
        "id": "oona8GWDIrOJ",
        "colab_type": "text"
      },
      "source": [
        "インデックスによるスライス"
      ]
    },
    {
      "cell_type": "code",
      "metadata": {
        "id": "5RdqpVQWIuJg",
        "colab_type": "code",
        "colab": {}
      },
      "source": [
        "data['a':'c']"
      ],
      "execution_count": null,
      "outputs": []
    },
    {
      "cell_type": "markdown",
      "metadata": {
        "id": "HY6EJhqaIwKC",
        "colab_type": "text"
      },
      "source": [
        "自動的に割り当てられる整数を用いたスライス。\n",
        "インデックスによるスライスでは、終点の項目を含むが、整数による取得では含まない点に注意。"
      ]
    },
    {
      "cell_type": "code",
      "metadata": {
        "id": "YmHw326HI2MZ",
        "colab_type": "code",
        "colab": {}
      },
      "source": [
        "data[0:2]"
      ],
      "execution_count": null,
      "outputs": []
    },
    {
      "cell_type": "markdown",
      "metadata": {
        "id": "6-a3VJ7gI8cK",
        "colab_type": "text"
      },
      "source": [
        "条件を用いたマスク"
      ]
    },
    {
      "cell_type": "code",
      "metadata": {
        "id": "DJ3UkG2mI6sE",
        "colab_type": "code",
        "colab": {}
      },
      "source": [
        "data[(data > 0.3) & (data < 0.8)]"
      ],
      "execution_count": null,
      "outputs": []
    },
    {
      "cell_type": "markdown",
      "metadata": {
        "id": "n3cl-e6kKETS",
        "colab_type": "text"
      },
      "source": [
        "インデックス属性"
      ]
    },
    {
      "cell_type": "code",
      "metadata": {
        "id": "7knNwY6qKHiI",
        "colab_type": "code",
        "colab": {}
      },
      "source": [
        "data = pd.Series(['a', 'b', 'c'], index=[1, 3, 5])\n",
        "data"
      ],
      "execution_count": null,
      "outputs": []
    },
    {
      "cell_type": "markdown",
      "metadata": {
        "id": "OTxpz_U1K3S8",
        "colab_type": "text"
      },
      "source": [
        "これは明示的なインデックスが使用されている。"
      ]
    },
    {
      "cell_type": "code",
      "metadata": {
        "id": "U_tkaEJ-KJPq",
        "colab_type": "code",
        "colab": {}
      },
      "source": [
        "data[1]"
      ],
      "execution_count": null,
      "outputs": []
    },
    {
      "cell_type": "markdown",
      "metadata": {
        "id": "cc52ZytxK6YZ",
        "colab_type": "text"
      },
      "source": [
        "スライスのときは暗黙的な整数インデックスが使用される。"
      ]
    },
    {
      "cell_type": "code",
      "metadata": {
        "id": "Ow_LQKORKKvp",
        "colab_type": "code",
        "colab": {}
      },
      "source": [
        "data[1:3]"
      ],
      "execution_count": null,
      "outputs": []
    },
    {
      "cell_type": "markdown",
      "metadata": {
        "id": "Us47BgVqK_Mg",
        "colab_type": "text"
      },
      "source": [
        "`loc`を使うと常に明示的なインデックスを使える。"
      ]
    },
    {
      "cell_type": "code",
      "metadata": {
        "id": "5mfoaawSKMGB",
        "colab_type": "code",
        "colab": {}
      },
      "source": [
        "data.loc[1]"
      ],
      "execution_count": null,
      "outputs": []
    },
    {
      "cell_type": "markdown",
      "metadata": {
        "id": "LUiHRHsXLGqw",
        "colab_type": "text"
      },
      "source": [
        "`iloc`を使うと暗黙的な整数インデックスが常に使用される。"
      ]
    },
    {
      "cell_type": "code",
      "metadata": {
        "id": "1yv6jOChKOPJ",
        "colab_type": "code",
        "colab": {}
      },
      "source": [
        "data.loc[1:3]"
      ],
      "execution_count": null,
      "outputs": []
    },
    {
      "cell_type": "code",
      "metadata": {
        "id": "V40CzM4WKP_Z",
        "colab_type": "code",
        "colab": {}
      },
      "source": [
        "data.iloc[1]"
      ],
      "execution_count": null,
      "outputs": []
    },
    {
      "cell_type": "code",
      "metadata": {
        "id": "an5VAPI8KQz4",
        "colab_type": "code",
        "colab": {}
      },
      "source": [
        "data.iloc[1:3]"
      ],
      "execution_count": null,
      "outputs": []
    },
    {
      "cell_type": "markdown",
      "metadata": {
        "id": "hXHefqO88zgQ",
        "colab_type": "text"
      },
      "source": [
        "### DataFrame"
      ]
    },
    {
      "cell_type": "code",
      "metadata": {
        "id": "r7SoSNs182gr",
        "colab_type": "code",
        "colab": {}
      },
      "source": [
        "area = pd.Series({'California': 423967, 'Texas': 695662,\n",
        "'New York': 141297, 'Florida': 170312,\n",
        "'Illinois': 149995})\n",
        "\n",
        "pop = pd.Series({'California': 38332521, 'Texas': 26448193,\n",
        "'New York': 19651127, 'Florida': 19552860,\n",
        "'Illinois': 12882135})\n",
        "data = pd.DataFrame({'area':area, 'pop':pop})\n",
        "data"
      ],
      "execution_count": null,
      "outputs": []
    },
    {
      "cell_type": "code",
      "metadata": {
        "id": "Gxj-Dtdt85u2",
        "colab_type": "code",
        "colab": {}
      },
      "source": [
        "data['area']"
      ],
      "execution_count": null,
      "outputs": []
    },
    {
      "cell_type": "code",
      "metadata": {
        "id": "n9VglBwK9ELs",
        "colab_type": "code",
        "colab": {}
      },
      "source": [
        "data.area"
      ],
      "execution_count": null,
      "outputs": []
    },
    {
      "cell_type": "code",
      "metadata": {
        "id": "0yHmBgUQ9H7L",
        "colab_type": "code",
        "colab": {}
      },
      "source": [
        "data['density'] = data['pop'] / data['area']\n",
        "data"
      ],
      "execution_count": null,
      "outputs": []
    },
    {
      "cell_type": "markdown",
      "metadata": {
        "id": "7LwZTc4l9MBe",
        "colab_type": "text"
      },
      "source": [
        "DataFrameをnumpy配列として取得"
      ]
    },
    {
      "cell_type": "code",
      "metadata": {
        "id": "OD79AhUR9QGq",
        "colab_type": "code",
        "colab": {}
      },
      "source": [
        "data.values"
      ],
      "execution_count": null,
      "outputs": []
    },
    {
      "cell_type": "markdown",
      "metadata": {
        "id": "PSqevJFC9gXQ",
        "colab_type": "text"
      },
      "source": [
        "numpy配列形式で0番目を取り出すと行方向に取得される。"
      ]
    },
    {
      "cell_type": "code",
      "metadata": {
        "id": "aDbJxNlq9g3j",
        "colab_type": "code",
        "colab": {}
      },
      "source": [
        "data.values[0]"
      ],
      "execution_count": null,
      "outputs": []
    },
    {
      "cell_type": "markdown",
      "metadata": {
        "id": "0TjqNQom9s9P",
        "colab_type": "text"
      },
      "source": [
        "DataFrameで名前を指定すると列が取得される。"
      ]
    },
    {
      "cell_type": "code",
      "metadata": {
        "id": "_YZzvWpO9scL",
        "colab_type": "code",
        "colab": {}
      },
      "source": [
        "data['area']"
      ],
      "execution_count": null,
      "outputs": []
    },
    {
      "cell_type": "markdown",
      "metadata": {
        "id": "egh5lAEs95Fz",
        "colab_type": "text"
      },
      "source": [
        "ilocを使用するとnumpyのスタイルで行列を取得できる。"
      ]
    },
    {
      "cell_type": "code",
      "metadata": {
        "id": "1cpkrEqF94Pa",
        "colab_type": "code",
        "colab": {}
      },
      "source": [
        "data.iloc[:3, :2]"
      ],
      "execution_count": null,
      "outputs": []
    },
    {
      "cell_type": "markdown",
      "metadata": {
        "id": "jxb-vSH_-Eq_",
        "colab_type": "text"
      },
      "source": [
        "locを使うとpd.DataFrameのインデックス形式で取得する。"
      ]
    },
    {
      "cell_type": "code",
      "metadata": {
        "id": "Rq8iGP2z-D5P",
        "colab_type": "code",
        "colab": {}
      },
      "source": [
        "data.loc[:'Illinois', :'pop']"
      ],
      "execution_count": null,
      "outputs": []
    },
    {
      "cell_type": "markdown",
      "metadata": {
        "id": "V2en7c_b-eaV",
        "colab_type": "text"
      },
      "source": [
        "条件でフィルターできる。"
      ]
    },
    {
      "cell_type": "code",
      "metadata": {
        "id": "qAJ9OpnU-bkj",
        "colab_type": "code",
        "colab": {}
      },
      "source": [
        "data.loc[data['density'] > 100, ['pop', 'density']]"
      ],
      "execution_count": null,
      "outputs": []
    },
    {
      "cell_type": "markdown",
      "metadata": {
        "id": "GCek1tyh-pNk",
        "colab_type": "text"
      },
      "source": [
        "値を書き換えられる。"
      ]
    },
    {
      "cell_type": "code",
      "metadata": {
        "id": "co4NUFEf-mgb",
        "colab_type": "code",
        "colab": {}
      },
      "source": [
        "data.iloc[0, 2] = 90\n",
        "data"
      ],
      "execution_count": null,
      "outputs": []
    },
    {
      "cell_type": "markdown",
      "metadata": {
        "id": "dF7ITKd39Twn",
        "colab_type": "text"
      },
      "source": [
        "行列を転置した表を取得できる。"
      ]
    },
    {
      "cell_type": "code",
      "metadata": {
        "id": "6iEJDfi99W-C",
        "colab_type": "code",
        "colab": {}
      },
      "source": [
        "data.T"
      ],
      "execution_count": null,
      "outputs": []
    },
    {
      "cell_type": "markdown",
      "metadata": {
        "id": "0t45JP_I7ZPT",
        "colab_type": "text"
      },
      "source": [
        "## pandasにおける計算"
      ]
    },
    {
      "cell_type": "code",
      "metadata": {
        "id": "gq07toFU7foB",
        "colab_type": "code",
        "colab": {}
      },
      "source": [
        "data = pd.DataFrame(\n",
        "  np.random.randint(0, 10, (3, 4)),\n",
        "  columns=['A', 'B', 'C', 'D']\n",
        ")\n",
        "\n",
        "data"
      ],
      "execution_count": null,
      "outputs": []
    },
    {
      "cell_type": "markdown",
      "metadata": {
        "id": "_Qx_n6U97-Qy",
        "colab_type": "text"
      },
      "source": [
        "`numpy`の関数をそのまま適用できる。適用したあとはそのまま`pandas`の形式で計算される。"
      ]
    },
    {
      "cell_type": "code",
      "metadata": {
        "id": "H2qe2u0m73IJ",
        "colab_type": "code",
        "colab": {}
      },
      "source": [
        "np.exp(data)"
      ],
      "execution_count": null,
      "outputs": []
    },
    {
      "cell_type": "code",
      "metadata": {
        "id": "ZilEPvjE8f8Z",
        "colab_type": "code",
        "colab": {}
      },
      "source": [
        "np.sin(data * np.pi / 4)"
      ],
      "execution_count": null,
      "outputs": []
    },
    {
      "cell_type": "code",
      "metadata": {
        "id": "ZyxUZjSb8i8C",
        "colab_type": "code",
        "colab": {}
      },
      "source": [
        "data['sinA'] = np.sin(data['A'])\n",
        "data"
      ],
      "execution_count": null,
      "outputs": []
    },
    {
      "cell_type": "markdown",
      "metadata": {
        "id": "oYSZLfcJC5LA",
        "colab_type": "text"
      },
      "source": [
        "# 欠損値の処理"
      ]
    },
    {
      "cell_type": "markdown",
      "metadata": {
        "id": "CNduSnfbBNJd",
        "colab_type": "text"
      },
      "source": [
        "## 欠損値とは"
      ]
    },
    {
      "cell_type": "markdown",
      "metadata": {
        "id": "IPHu0oeabxDc",
        "colab_type": "text"
      },
      "source": [
        "欠損値はデータの中で値が欠測などの理由で無い場所のことをいう。"
      ]
    },
    {
      "cell_type": "code",
      "metadata": {
        "id": "lF9nzAO9WKB6",
        "colab_type": "code",
        "colab": {}
      },
      "source": [
        "data = pd.DataFrame({\n",
        "  \"col1\": [1, 2, None, np.nan],\n",
        "  \"col2\": [1.2, 2.3, None, np.nan],\n",
        "  \"col3\": ['aaa', 'bbb', None, np.nan],\n",
        "})\n",
        "data"
      ],
      "execution_count": null,
      "outputs": []
    },
    {
      "cell_type": "markdown",
      "metadata": {
        "id": "_vIFCjBoBUZv",
        "colab_type": "text"
      },
      "source": [
        "## 欠損値を探す"
      ]
    },
    {
      "cell_type": "code",
      "metadata": {
        "id": "GSXHnUWjDRtT",
        "colab_type": "code",
        "colab": {}
      },
      "source": [
        "data.isna()"
      ],
      "execution_count": null,
      "outputs": []
    },
    {
      "cell_type": "code",
      "metadata": {
        "id": "2EYpp-ogDrJ8",
        "colab_type": "code",
        "colab": {}
      },
      "source": [
        "pd.isna(data)"
      ],
      "execution_count": null,
      "outputs": []
    },
    {
      "cell_type": "code",
      "metadata": {
        "id": "VWmg-XvYDhz0",
        "colab_type": "code",
        "colab": {}
      },
      "source": [
        "data.notna()"
      ],
      "execution_count": null,
      "outputs": []
    },
    {
      "cell_type": "code",
      "metadata": {
        "id": "ftJNIp-vDtT0",
        "colab_type": "code",
        "colab": {}
      },
      "source": [
        "pd.notna(data)"
      ],
      "execution_count": null,
      "outputs": []
    },
    {
      "cell_type": "markdown",
      "metadata": {
        "id": "vC5Pow3rFGpM",
        "colab_type": "text"
      },
      "source": [
        "## 欠損値の削除"
      ]
    },
    {
      "cell_type": "markdown",
      "metadata": {
        "id": "h12mMe1NFdPz",
        "colab_type": "text"
      },
      "source": [
        "`dropna()`はデフォルトで欠損値のある行を削除する。"
      ]
    },
    {
      "cell_type": "code",
      "metadata": {
        "colab_type": "code",
        "id": "Q5_nVeFIIJf7",
        "colab": {}
      },
      "source": [
        "data.dropna()"
      ],
      "execution_count": null,
      "outputs": []
    },
    {
      "cell_type": "code",
      "metadata": {
        "colab_type": "code",
        "id": "Y1z6tIg1IJAT",
        "colab": {}
      },
      "source": [
        "aaa = data.dropna()\n",
        "aaa.loc[0, 'col1'] = 5\n",
        "aaa"
      ],
      "execution_count": null,
      "outputs": []
    },
    {
      "cell_type": "markdown",
      "metadata": {
        "id": "wWzW7K6hFmi8",
        "colab_type": "text"
      },
      "source": [
        "`dropna`は元のDataFrameを破壊しない"
      ]
    },
    {
      "cell_type": "code",
      "metadata": {
        "id": "NpuzFsYUFEut",
        "colab_type": "code",
        "colab": {}
      },
      "source": [
        "data"
      ],
      "execution_count": null,
      "outputs": []
    },
    {
      "cell_type": "code",
      "metadata": {
        "id": "PPuwpZX4FfVD",
        "colab_type": "code",
        "colab": {}
      },
      "source": [
        "df = pd.DataFrame(\n",
        "  [[1, np.nan, 2],\n",
        "  [2, 3, 5],\n",
        "  [np.nan, 4, 6]]\n",
        ")\n",
        "df"
      ],
      "execution_count": null,
      "outputs": []
    },
    {
      "cell_type": "code",
      "metadata": {
        "id": "W3u6vLIqHirO",
        "colab_type": "code",
        "colab": {}
      },
      "source": [
        "df.dropna()"
      ],
      "execution_count": null,
      "outputs": []
    },
    {
      "cell_type": "code",
      "metadata": {
        "id": "vtpR3PV7Hkbz",
        "colab_type": "code",
        "colab": {}
      },
      "source": [
        "df.dropna(axis='columns')"
      ],
      "execution_count": null,
      "outputs": []
    },
    {
      "cell_type": "code",
      "metadata": {
        "id": "EHSgg98ZHmyD",
        "colab_type": "code",
        "colab": {}
      },
      "source": [
        "df[3] = np.nan\n",
        "df"
      ],
      "execution_count": null,
      "outputs": []
    },
    {
      "cell_type": "markdown",
      "metadata": {
        "id": "oEMulEqdI3MV",
        "colab_type": "text"
      },
      "source": [
        "全部値が無い列だけを削除する。`how`を使うと、1つでも値が無いor全部値が無いを制御できる。"
      ]
    },
    {
      "cell_type": "code",
      "metadata": {
        "id": "XcqEf_ARHp4L",
        "colab_type": "code",
        "colab": {}
      },
      "source": [
        "df.dropna(axis='columns', how='all')"
      ],
      "execution_count": null,
      "outputs": []
    },
    {
      "cell_type": "markdown",
      "metadata": {
        "id": "NQ86hTvFJVMC",
        "colab_type": "text"
      },
      "source": [
        ""
      ]
    },
    {
      "cell_type": "markdown",
      "metadata": {
        "id": "iN7TskINIRp4",
        "colab_type": "text"
      },
      "source": [
        "1行あたり3つの値があれば残す。"
      ]
    },
    {
      "cell_type": "code",
      "metadata": {
        "colab_type": "code",
        "id": "fRiyG__8IMzR",
        "colab": {}
      },
      "source": [
        "df.dropna(axis='rows', thresh=3)"
      ],
      "execution_count": null,
      "outputs": []
    },
    {
      "cell_type": "markdown",
      "metadata": {
        "id": "w0sQPr-5Jcbq",
        "colab_type": "text"
      },
      "source": [
        "## 欠損値を値で埋める"
      ]
    },
    {
      "cell_type": "code",
      "metadata": {
        "id": "T4fHQEbLJhMq",
        "colab_type": "code",
        "colab": {}
      },
      "source": [
        "data = pd.Series([1, np.nan, 2, None, 3], index=list('abcde'))\n",
        "data"
      ],
      "execution_count": null,
      "outputs": []
    },
    {
      "cell_type": "code",
      "metadata": {
        "id": "WE2RNTk-JjGK",
        "colab_type": "code",
        "colab": {}
      },
      "source": [
        "data.fillna(0)"
      ],
      "execution_count": null,
      "outputs": []
    },
    {
      "cell_type": "markdown",
      "metadata": {
        "id": "1OaRi3tqJnSi",
        "colab_type": "text"
      },
      "source": [
        "スマートな埋込。1つ前の行の値を使って値を入れる。"
      ]
    },
    {
      "cell_type": "code",
      "metadata": {
        "id": "29xuSTS6JlFy",
        "colab_type": "code",
        "colab": {}
      },
      "source": [
        "data.fillna(method='ffill')"
      ],
      "execution_count": null,
      "outputs": []
    },
    {
      "cell_type": "markdown",
      "metadata": {
        "id": "GRN51XVVKSKi",
        "colab_type": "text"
      },
      "source": [
        "スマートな埋込。1つ後の行の値を使って値を入れる。"
      ]
    },
    {
      "cell_type": "code",
      "metadata": {
        "id": "YWdASpDhKXCS",
        "colab_type": "code",
        "colab": {}
      },
      "source": [
        "data.fillna(method='bfill')"
      ],
      "execution_count": null,
      "outputs": []
    },
    {
      "cell_type": "markdown",
      "metadata": {
        "id": "RCZE0po4K9Hp",
        "colab_type": "text"
      },
      "source": [
        "DataFrameにおける`fillna`"
      ]
    },
    {
      "cell_type": "code",
      "metadata": {
        "id": "VYwf0qXwKouC",
        "colab_type": "code",
        "colab": {}
      },
      "source": [
        "df = pd.DataFrame(\n",
        "  [[1, np.nan, 2],\n",
        "  [2, 3, 5],\n",
        "  [np.nan, 4, 6]]\n",
        ")\n",
        "df"
      ],
      "execution_count": null,
      "outputs": []
    },
    {
      "cell_type": "code",
      "metadata": {
        "id": "nVGzQ4s2K4Lb",
        "colab_type": "code",
        "colab": {}
      },
      "source": [
        "df.fillna(method='ffill', axis=1)"
      ],
      "execution_count": null,
      "outputs": []
    },
    {
      "cell_type": "markdown",
      "metadata": {
        "id": "z1N4y2D8Ml7I",
        "colab_type": "text"
      },
      "source": [
        "# データセットの連結"
      ]
    },
    {
      "cell_type": "markdown",
      "metadata": {
        "id": "Zd04PAvKc9Rs",
        "colab_type": "text"
      },
      "source": [
        "データセットの連結では、行方向に連結するか、列方向に連結するかで`concat`か`merge`を用いる。"
      ]
    },
    {
      "cell_type": "markdown",
      "metadata": {
        "id": "e0ecL2fldACg",
        "colab_type": "text"
      },
      "source": [
        "### concat"
      ]
    },
    {
      "cell_type": "code",
      "metadata": {
        "id": "jQW2xLoGMrdK",
        "colab_type": "code",
        "colab": {}
      },
      "source": [
        "ser1 = pd.Series(['A', 'B', 'C'], index=[1, 2, 3])\n",
        "ser2 = pd.Series(['D', 'E', 'F'], index=[4, 5, 6])\n",
        "pd.concat([ser1, ser2])"
      ],
      "execution_count": null,
      "outputs": []
    },
    {
      "cell_type": "code",
      "metadata": {
        "id": "4LIebqTPM7ii",
        "colab_type": "code",
        "colab": {}
      },
      "source": [
        "def make_df(cols, ind):\n",
        "  return pd.DataFrame({c: [str(c) + str(i) for i in ind] for c in cols}, ind)"
      ],
      "execution_count": null,
      "outputs": []
    },
    {
      "cell_type": "code",
      "metadata": {
        "id": "y-knmwKwNUgZ",
        "colab_type": "code",
        "colab": {}
      },
      "source": [
        "df1 = make_df('AB', [1, 2])\n",
        "df1"
      ],
      "execution_count": null,
      "outputs": []
    },
    {
      "cell_type": "code",
      "metadata": {
        "id": "b9hvEpL9NWZR",
        "colab_type": "code",
        "colab": {}
      },
      "source": [
        "df2 = make_df('AB', [3, 4])\n",
        "df2"
      ],
      "execution_count": null,
      "outputs": []
    },
    {
      "cell_type": "code",
      "metadata": {
        "id": "c5BaoPm4NZt4",
        "colab_type": "code",
        "colab": {}
      },
      "source": [
        "pd.concat([df1, df2])"
      ],
      "execution_count": null,
      "outputs": []
    },
    {
      "cell_type": "code",
      "metadata": {
        "id": "pX3FQJvQXHH1",
        "colab_type": "code",
        "colab": {}
      },
      "source": [
        "df1.append(df2)"
      ],
      "execution_count": null,
      "outputs": []
    },
    {
      "cell_type": "code",
      "metadata": {
        "id": "l0_VlenbNhzI",
        "colab_type": "code",
        "colab": {}
      },
      "source": [
        "df3 = make_df('AB', [0, 1])\n",
        "df3"
      ],
      "execution_count": null,
      "outputs": []
    },
    {
      "cell_type": "code",
      "metadata": {
        "id": "nr7uQGhyNhpp",
        "colab_type": "code",
        "colab": {}
      },
      "source": [
        "df4 = make_df('CD', [0, 1])\n",
        "df4"
      ],
      "execution_count": null,
      "outputs": []
    },
    {
      "cell_type": "code",
      "metadata": {
        "id": "rWHd6j_jNdXA",
        "colab_type": "code",
        "colab": {}
      },
      "source": [
        "pd.concat([df3, df4], axis=1)"
      ],
      "execution_count": null,
      "outputs": []
    },
    {
      "cell_type": "markdown",
      "metadata": {
        "id": "1QX0YXkjPJ-P",
        "colab_type": "text"
      },
      "source": [
        "連結時に、片方にない列のあたいは欠損値となる。"
      ]
    },
    {
      "cell_type": "code",
      "metadata": {
        "id": "7jCEH3-6PJjY",
        "colab_type": "code",
        "colab": {}
      },
      "source": [
        "df5 = make_df('ABC', [1, 2])\n",
        "df5"
      ],
      "execution_count": null,
      "outputs": []
    },
    {
      "cell_type": "code",
      "metadata": {
        "id": "DjHXOO_CPjN3",
        "colab_type": "code",
        "colab": {}
      },
      "source": [
        "df6 = make_df('BCD', [3, 4])\n",
        "df6"
      ],
      "execution_count": null,
      "outputs": []
    },
    {
      "cell_type": "markdown",
      "metadata": {
        "id": "4D0ZcMnePo5Y",
        "colab_type": "text"
      },
      "source": [
        "単に`concat`すると無い部分は`NaN`で埋められる。"
      ]
    },
    {
      "cell_type": "code",
      "metadata": {
        "id": "p9Ps6_5vPD14",
        "colab_type": "code",
        "colab": {}
      },
      "source": [
        "pd.concat([df5, df6])"
      ],
      "execution_count": null,
      "outputs": []
    },
    {
      "cell_type": "markdown",
      "metadata": {
        "id": "KhL3uNqaQFX5",
        "colab_type": "text"
      },
      "source": [
        "連結方法の指定で、`inner`を指定すると両方のDataFrameにある列のみを使う。"
      ]
    },
    {
      "cell_type": "code",
      "metadata": {
        "id": "2QvWSe36P7J6",
        "colab_type": "code",
        "colab": {}
      },
      "source": [
        "pd.concat([df5, df6], join='inner')"
      ],
      "execution_count": null,
      "outputs": []
    },
    {
      "cell_type": "markdown",
      "metadata": {
        "id": "9gLAdZmOYuDN",
        "colab_type": "text"
      },
      "source": [
        "### merge"
      ]
    },
    {
      "cell_type": "code",
      "metadata": {
        "id": "cc78ucG9Yxn1",
        "colab_type": "code",
        "colab": {}
      },
      "source": [
        "df1 = pd.DataFrame({\n",
        "  'employee': ['Bob', 'Jake', 'Lisa', 'Sue'],\n",
        "  'group': ['Accounting', 'Engineering', 'Engineering', 'HR']\n",
        "})\n",
        "df1"
      ],
      "execution_count": null,
      "outputs": []
    },
    {
      "cell_type": "code",
      "metadata": {
        "id": "I0MZH7-JY7u0",
        "colab_type": "code",
        "colab": {}
      },
      "source": [
        "df2 = pd.DataFrame({\n",
        "  'employee': ['Lisa', 'Bob', 'Jake', 'Sue'],\n",
        "  'hire_date': [2004, 2008, 2012, 2014]\n",
        "})\n",
        "df2"
      ],
      "execution_count": null,
      "outputs": []
    },
    {
      "cell_type": "code",
      "metadata": {
        "id": "Dx7fbZJmZjK0",
        "colab_type": "code",
        "colab": {}
      },
      "source": [
        "df3 = pd.merge(df1, df2)\n",
        "df3"
      ],
      "execution_count": null,
      "outputs": []
    },
    {
      "cell_type": "code",
      "metadata": {
        "id": "qPD3H81pZq90",
        "colab_type": "code",
        "colab": {}
      },
      "source": [
        "df4 = pd.DataFrame({\n",
        "  'group': ['Accounting', 'Engineering', 'HR'],\n",
        "  'supervisor': ['Carly', 'Guido', 'Steve']\n",
        "})\n",
        "df4"
      ],
      "execution_count": null,
      "outputs": []
    },
    {
      "cell_type": "markdown",
      "metadata": {
        "id": "Cb85N9lSa1Zs",
        "colab_type": "text"
      },
      "source": [
        "1対多の結合"
      ]
    },
    {
      "cell_type": "code",
      "metadata": {
        "id": "Cja3TX0pakU_",
        "colab_type": "code",
        "colab": {}
      },
      "source": [
        "pd.merge(df3, df4)"
      ],
      "execution_count": null,
      "outputs": []
    },
    {
      "cell_type": "markdown",
      "metadata": {
        "id": "pQ5_66hkXRB0",
        "colab_type": "text"
      },
      "source": [
        "多対多の結合"
      ]
    },
    {
      "cell_type": "code",
      "metadata": {
        "id": "1TONhHFoXQHF",
        "colab_type": "code",
        "colab": {}
      },
      "source": [
        "df5 = pd.DataFrame({\n",
        "    'group': ['Accounting', 'Accounting', 'Engineering', 'Engineering', 'HR', 'HR'],\n",
        "    'skills': ['math', 'spreadsheets', 'coding', 'linux', 'spreadsheets', 'organization']\n",
        "})"
      ],
      "execution_count": null,
      "outputs": []
    },
    {
      "cell_type": "code",
      "metadata": {
        "id": "QmLKI-EvXtYc",
        "colab_type": "code",
        "colab": {}
      },
      "source": [
        "df5"
      ],
      "execution_count": null,
      "outputs": []
    },
    {
      "cell_type": "code",
      "metadata": {
        "id": "aqgubCH8cK4E",
        "colab_type": "code",
        "colab": {}
      },
      "source": [
        "pd.merge(df1, df5)"
      ],
      "execution_count": null,
      "outputs": []
    },
    {
      "cell_type": "markdown",
      "metadata": {
        "id": "4ydDFGQxfG8M",
        "colab_type": "text"
      },
      "source": [
        "mergeするときに、特定のキーでマージできる。"
      ]
    },
    {
      "cell_type": "code",
      "metadata": {
        "id": "uyTXcrEXcfGK",
        "colab_type": "code",
        "colab": {}
      },
      "source": [
        "pd.merge(df1, df2, on='employee')"
      ],
      "execution_count": null,
      "outputs": []
    },
    {
      "cell_type": "markdown",
      "metadata": {
        "id": "YP-ZLhwCeou3",
        "colab_type": "text"
      },
      "source": [
        "結合方法を指定すると、無い列の処理を変更できる。"
      ]
    },
    {
      "cell_type": "code",
      "metadata": {
        "id": "fbLClvf2esoj",
        "colab_type": "code",
        "colab": {}
      },
      "source": [
        "df6 = pd.DataFrame({\n",
        "  'name': ['Peter', 'Paul', 'Mary'],\n",
        "  'food': ['fish', 'beans', 'bread']},\n",
        "  columns=['name', 'food']\n",
        ")\n",
        "df6"
      ],
      "execution_count": null,
      "outputs": []
    },
    {
      "cell_type": "code",
      "metadata": {
        "id": "hYUhJ6MKezcD",
        "colab_type": "code",
        "colab": {}
      },
      "source": [
        "df7 = pd.DataFrame({\n",
        "  'name': ['Mary', 'Joseph'],\n",
        "  'drink': ['wine', 'beer']},\n",
        "  columns=['name', 'drink']\n",
        ")\n",
        "df7"
      ],
      "execution_count": null,
      "outputs": []
    },
    {
      "cell_type": "code",
      "metadata": {
        "id": "lmRjmpzLe84y",
        "colab_type": "code",
        "colab": {}
      },
      "source": [
        "pd.merge(df6, df7)"
      ],
      "execution_count": null,
      "outputs": []
    },
    {
      "cell_type": "markdown",
      "metadata": {
        "id": "qwaD0-jlfAKG",
        "colab_type": "text"
      },
      "source": [
        "`merge`の`how`のデフォルトは`inner`。"
      ]
    },
    {
      "cell_type": "code",
      "metadata": {
        "id": "vKHJfatke_hi",
        "colab_type": "code",
        "colab": {}
      },
      "source": [
        "pd.merge(df6, df7, how='inner')"
      ],
      "execution_count": null,
      "outputs": []
    },
    {
      "cell_type": "markdown",
      "metadata": {
        "id": "-50AovVDfLjC",
        "colab_type": "text"
      },
      "source": [
        "`outer`をつけると無いものは欠損値として連結が行われる。"
      ]
    },
    {
      "cell_type": "code",
      "metadata": {
        "id": "t1ATwDnkfGwx",
        "colab_type": "code",
        "colab": {}
      },
      "source": [
        "pd.merge(df6, df7, how='outer')"
      ],
      "execution_count": null,
      "outputs": []
    },
    {
      "cell_type": "code",
      "metadata": {
        "id": "RKebAIDefJFq",
        "colab_type": "code",
        "colab": {}
      },
      "source": [
        "pd.merge(df6, df7, how='left')"
      ],
      "execution_count": null,
      "outputs": []
    },
    {
      "cell_type": "markdown",
      "metadata": {
        "id": "uU_88QDgzetL",
        "colab_type": "text"
      },
      "source": [
        "# 集約とグループ化"
      ]
    },
    {
      "cell_type": "markdown",
      "metadata": {
        "id": "tk2bWepGzotK",
        "colab_type": "text"
      },
      "source": [
        "## 集約 最大･最小･平均 など"
      ]
    },
    {
      "cell_type": "code",
      "metadata": {
        "id": "wyVhJxwCztfh",
        "colab_type": "code",
        "colab": {}
      },
      "source": [
        "ser = pd.Series(np.random.rand(5))\n",
        "ser"
      ],
      "execution_count": null,
      "outputs": []
    },
    {
      "cell_type": "code",
      "metadata": {
        "id": "T7Ha0VZRzzbs",
        "colab_type": "code",
        "colab": {}
      },
      "source": [
        "ser.sum()"
      ],
      "execution_count": null,
      "outputs": []
    },
    {
      "cell_type": "code",
      "metadata": {
        "id": "sN6VKoJsz0NC",
        "colab_type": "code",
        "colab": {}
      },
      "source": [
        "ser.mean()"
      ],
      "execution_count": null,
      "outputs": []
    },
    {
      "cell_type": "code",
      "metadata": {
        "id": "Rub498MQz3E0",
        "colab_type": "code",
        "colab": {}
      },
      "source": [
        "df = pd.DataFrame({\n",
        "    'A': np.random.rand(5),\n",
        "    'B': np.random.rand(5)\n",
        "})\n",
        "\n",
        "df"
      ],
      "execution_count": null,
      "outputs": []
    },
    {
      "cell_type": "code",
      "metadata": {
        "id": "MgOE0zBOz8Ty",
        "colab_type": "code",
        "colab": {}
      },
      "source": [
        "df.mean()"
      ],
      "execution_count": null,
      "outputs": []
    },
    {
      "cell_type": "code",
      "metadata": {
        "id": "TdIMPOvrz9jF",
        "colab_type": "code",
        "colab": {}
      },
      "source": [
        "df.mean(axis='columns')"
      ],
      "execution_count": null,
      "outputs": []
    },
    {
      "cell_type": "code",
      "metadata": {
        "id": "JxLdYqW5z_ma",
        "colab_type": "code",
        "colab": {}
      },
      "source": [
        "import pandas as pd\n",
        "from sklearn import datasets\n",
        "\n",
        "iris = datasets.load_iris()\n",
        "df = pd.DataFrame(iris.data, columns=iris.feature_names)\n",
        "df.describe()"
      ],
      "execution_count": null,
      "outputs": []
    },
    {
      "cell_type": "markdown",
      "metadata": {
        "id": "0NACRjsa0BiQ",
        "colab_type": "text"
      },
      "source": [
        "## グループ化"
      ]
    },
    {
      "cell_type": "code",
      "metadata": {
        "id": "3_q3_MxG0FTp",
        "colab_type": "code",
        "colab": {}
      },
      "source": [
        "df = pd.DataFrame({\n",
        "    'key': ['A', 'B', 'C', 'A', 'B', 'C'],\n",
        "    'data': range(6)\n",
        "}, columns=['key', 'data'])\n",
        "\n",
        "df"
      ],
      "execution_count": null,
      "outputs": []
    },
    {
      "cell_type": "markdown",
      "metadata": {
        "id": "KhB-ecwg0Per",
        "colab_type": "text"
      },
      "source": [
        "この段階では計算が何も行われておらず、実際にどういう計算をしたいかを指定した時点で計算が行われる。"
      ]
    },
    {
      "cell_type": "code",
      "metadata": {
        "id": "9rMx-9Xs0K-h",
        "colab_type": "code",
        "colab": {}
      },
      "source": [
        "df.groupby('key')"
      ],
      "execution_count": null,
      "outputs": []
    },
    {
      "cell_type": "code",
      "metadata": {
        "id": "UB1yq4UV0Vpx",
        "colab_type": "code",
        "colab": {}
      },
      "source": [
        "df.groupby('key').sum()"
      ],
      "execution_count": null,
      "outputs": []
    },
    {
      "cell_type": "code",
      "metadata": {
        "id": "0A1Gmxb-0pna",
        "colab_type": "code",
        "colab": {}
      },
      "source": [
        "df = pd.DataFrame({\n",
        "    'key': ['A', 'B', 'C', 'A', 'B', 'C'],\n",
        "    'data1': range(6),\n",
        "    'data2': np.random.randint(0, 10, 6)\n",
        "}, columns = ['key', 'data1', 'data2'])\n",
        "df"
      ],
      "execution_count": null,
      "outputs": []
    },
    {
      "cell_type": "code",
      "metadata": {
        "id": "5CWyNGMG0195",
        "colab_type": "code",
        "colab": {}
      },
      "source": [
        "df.groupby('key').aggregate(['min', np.median, max])"
      ],
      "execution_count": null,
      "outputs": []
    }
  ]
}