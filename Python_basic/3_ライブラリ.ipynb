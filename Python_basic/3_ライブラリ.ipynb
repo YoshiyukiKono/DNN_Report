{
  "nbformat": 4,
  "nbformat_minor": 0,
  "metadata": {
    "colab": {
      "name": "3. ライブラリ.ipynb",
      "provenance": [],
      "private_outputs": true,
      "collapsed_sections": []
    },
    "kernelspec": {
      "name": "python3",
      "display_name": "Python 3"
    }
  },
  "cells": [
    {
      "cell_type": "markdown",
      "metadata": {
        "id": "8PHEyQWf6OGP",
        "colab_type": "text"
      },
      "source": [
        "# ライブラリを使う"
      ]
    },
    {
      "cell_type": "markdown",
      "metadata": {
        "id": "N7yE8Dev9BZi",
        "colab_type": "text"
      },
      "source": [
        "プログラムを作成するときは、様々なライブラリの機能を借りて目的のプログラムを完成させる。"
      ]
    },
    {
      "cell_type": "markdown",
      "metadata": {
        "id": "0tXjMsOK8yow",
        "colab_type": "text"
      },
      "source": [
        "## ライブラリとは"
      ]
    },
    {
      "cell_type": "markdown",
      "metadata": {
        "id": "tm1zZHg69I5m",
        "colab_type": "text"
      },
      "source": [
        "ライブラリは世界中の人が様々な目的を行うためのプログラムの機能をまとめ、公開している。\n",
        "\n",
        "Pythonでは、ライブラリが簡単に使えるようにする機能が用意されており、インターネット上から簡単にダウンロードして自分のプログラムの中で利用できる。"
      ]
    },
    {
      "cell_type": "markdown",
      "metadata": {
        "id": "fOUQzCjQ80EI",
        "colab_type": "text"
      },
      "source": [
        "## ライブラリのインストール"
      ]
    },
    {
      "cell_type": "markdown",
      "metadata": {
        "id": "rhO2Oexj-7p_",
        "colab_type": "text"
      },
      "source": [
        "ライブラリのインストールは、`pip`というコマンドを使ってインストールすることができる。例えば、次のプログラムでは、`folium`というライブラリをインストールしている。\n",
        "\n",
        "※ Google Colabでは初めからいくつかの有名なライブラリがインストールされており、foliumもインストールされている。そのため、下記のコマンドを実行すると`Requiement already satisfied`という表示が出る。"
      ]
    },
    {
      "cell_type": "code",
      "metadata": {
        "id": "IZ_uu3HJAToE",
        "colab_type": "code",
        "colab": {}
      },
      "source": [
        "!pip install folium"
      ],
      "execution_count": null,
      "outputs": []
    },
    {
      "cell_type": "markdown",
      "metadata": {
        "id": "hXuYiZcvCLxf",
        "colab_type": "text"
      },
      "source": [
        "インストールした`folium`というライブラリを使うと、地図を表示できる。"
      ]
    },
    {
      "cell_type": "code",
      "metadata": {
        "id": "wf0wQcVMAskE",
        "colab_type": "code",
        "colab": {}
      },
      "source": [
        "import folium\n",
        "\n",
        "folium.Map(location=[35.681167, 139.767052])"
      ],
      "execution_count": null,
      "outputs": []
    },
    {
      "cell_type": "markdown",
      "metadata": {
        "id": "cYgTAB8281mD",
        "colab_type": "text"
      },
      "source": [
        "## ライブラリの使い方"
      ]
    },
    {
      "cell_type": "markdown",
      "metadata": {
        "id": "xzF5gg5fCSgH",
        "colab_type": "text"
      },
      "source": [
        "それぞれのライブラリは機能を使うための方法が、ドキュメントとしてまとめられている。\n",
        "\n",
        "例えば、`folium`では、\n",
        "\n",
        "https://python-visualization.github.io/folium/\n",
        "\n",
        "にドキュメントがある。\n",
        "\n",
        "多くのライブラリのドキュメントは、\n",
        "\n",
        "1.   Installation\n",
        "2.   Getting started\n",
        "3.   Reference\n",
        "\n",
        "という3つの情報が記載されている。\n",
        "\n",
        "Installationはライブラリのインストール方法で、多くのライブラリは`pip install ***`というコマンドを使ってインストールを行うことができる。一部のライブラリは、これ以外に作業が必要なため、その方法が記載されている。\n",
        "\n",
        "Getting startedには、ライブラリの最も簡単な使い方が書いてある。ライブラリの基本的な使い方を学ぶには、この部分を参照すると良い。\n",
        "\n",
        "Referenceには、ライブラリにあるすべての機能について説明されている。各機能は、Pythonのメソッドとして提供されていることが多く、組み合わせて自分が目的とするプログラムを構築する。\n",
        "\n",
        "\n",
        "どのようなライブラリもPythonの機能をベースに作られているため、基本的なプログラムの書き方はPythonの書き方である。"
      ]
    },
    {
      "cell_type": "markdown",
      "metadata": {
        "id": "IpKJxfnd83DM",
        "colab_type": "text"
      },
      "source": [
        "# 機械学習で使うライブラリ"
      ]
    },
    {
      "cell_type": "markdown",
      "metadata": {
        "id": "DoGBzemyIafq",
        "colab_type": "text"
      },
      "source": [
        "機械学習を行うときによく用いるライブラリは以下である。\n",
        "\n",
        "*   numpy\n",
        "*   Pandas\n",
        "*   matplotlib\n",
        "*   seaborn\n",
        "*   scikit-learn\n",
        "\n",
        "また、深層学習を行うときに有名なものは次の物である。\n",
        "\n",
        "*   tensorflow\n",
        "*   PyTorch\n",
        "\n",
        "この後の章で、機械学習を行うときに用いる5つのライブラリについて、基礎となる使い方を紹介する。"
      ]
    },
    {
      "cell_type": "markdown",
      "metadata": {
        "id": "c5L3zCcZ86wW",
        "colab_type": "text"
      },
      "source": [
        "## ライブラリ同士の関係"
      ]
    },
    {
      "cell_type": "markdown",
      "metadata": {
        "id": "FVQULg3gKxBt",
        "colab_type": "text"
      },
      "source": [
        "ライブラリには、あるライブラリがあるライブラリの機能を使って作られているものがある。これを依存関係という。\n",
        "\n",
        "例えば、Pandasはnumpyというライブラリの機能を拡張するように作られている。そのため、Pandasからはnumpyの機能にアクセスできたりする。\n",
        "\n",
        "また、numpyはpandasのほかに、matplotlibやseaborn、scikit-learnを使うときにそれぞれのデータの連携方式として機能しており、機械学習分野におけるライブラリ間の基礎として機能している。"
      ]
    },
    {
      "cell_type": "markdown",
      "metadata": {
        "id": "paySY48i8-9R",
        "colab_type": "text"
      },
      "source": [
        "## それぞれの機能"
      ]
    },
    {
      "cell_type": "markdown",
      "metadata": {
        "id": "8o6K-WIuMf9-",
        "colab_type": "text"
      },
      "source": [
        "これから、各ライブラリの基礎を学ぶにあたり、概要を紹介する。"
      ]
    },
    {
      "cell_type": "markdown",
      "metadata": {
        "id": "eVXxggxuMlkA",
        "colab_type": "text"
      },
      "source": [
        "### numpy"
      ]
    },
    {
      "cell_type": "markdown",
      "metadata": {
        "id": "S1kmpt-LMx58",
        "colab_type": "text"
      },
      "source": [
        "数値集合である行列を簡単に扱えるようにする機能を提供する。行列演算を高速に行うための工夫が数多くなされている。\n",
        "\n",
        "様々な機械学習ライブラリのデータ表現として用いられている。"
      ]
    },
    {
      "cell_type": "markdown",
      "metadata": {
        "id": "gBNZXe7jOLjM",
        "colab_type": "text"
      },
      "source": [
        "次のプログラムは、numpyを用いて、2つの行列の内積(ドット積)を求めている。"
      ]
    },
    {
      "cell_type": "code",
      "metadata": {
        "id": "cJlnDJaRNzWl",
        "colab_type": "code",
        "colab": {}
      },
      "source": [
        "import numpy as np\n",
        "\n",
        "aaa = np.random.randint(1, 10, (4, 5))\n",
        "bbb = np.random.randint(1, 10, (5, 4))\n",
        "\n",
        "np.dot(aaa, bbb)"
      ],
      "execution_count": null,
      "outputs": []
    },
    {
      "cell_type": "markdown",
      "metadata": {
        "id": "O8uQOZbkMosY",
        "colab_type": "text"
      },
      "source": [
        "### Pandas"
      ]
    },
    {
      "cell_type": "markdown",
      "metadata": {
        "id": "yHwNrXWjNOHB",
        "colab_type": "text"
      },
      "source": [
        "Pandasはnumpyの機能を拡張し、統計データをより簡単に扱えるようにしたものである。Excelのように表形式のデータを取り扱ったり、観測データ･統計データを扱うときに必要な処理を簡単に行えるように作られている。"
      ]
    },
    {
      "cell_type": "markdown",
      "metadata": {
        "id": "V1GVWK7VOjXY",
        "colab_type": "text"
      },
      "source": [
        "次のプログラムは、irisというデータセットをpandasのDataframeという機能で読み込んでいる。irisデータセットには、`sepal length`、`sepal width`、`petal length`、`petal width`という4項目についての観測値が含まれている。`dataframe`に用意されている`mean()`という関数で、各項目の平均値を求めている。"
      ]
    },
    {
      "cell_type": "code",
      "metadata": {
        "id": "5VpgtNV6OU5L",
        "colab_type": "code",
        "colab": {}
      },
      "source": [
        "import pandas as pd\n",
        "from sklearn import datasets\n",
        "\n",
        "iris = datasets.load_iris()\n",
        "df = pd.DataFrame(iris.data, columns=iris.feature_names)\n",
        "\n",
        "df.mean()"
      ],
      "execution_count": null,
      "outputs": []
    },
    {
      "cell_type": "markdown",
      "metadata": {
        "id": "BX-a_gaSMrB0",
        "colab_type": "text"
      },
      "source": [
        "### matplotlib"
      ]
    },
    {
      "cell_type": "markdown",
      "metadata": {
        "id": "enQ1cY02Nptx",
        "colab_type": "text"
      },
      "source": [
        "matplotlibはデータを可視化するためのライブラリである。様々なグラフや図を描くことができ、データを視覚的に理解しやすくなる。"
      ]
    },
    {
      "cell_type": "markdown",
      "metadata": {
        "id": "UbN2_gcPP7WG",
        "colab_type": "text"
      },
      "source": [
        "次のプログラムでは、numpyを使って、サイン関数の値の変化について求めた後、matplotlibを使ってそれをグラフにしている。"
      ]
    },
    {
      "cell_type": "code",
      "metadata": {
        "id": "kZ4gls6DPyj1",
        "colab_type": "code",
        "colab": {}
      },
      "source": [
        "import matplotlib\n",
        "import matplotlib.pyplot as plt\n",
        "import numpy as np\n",
        "\n",
        "t = np.arange(0.0, 2.0, 0.01)\n",
        "s = 1 + np.sin(2 * np.pi * t)\n",
        "\n",
        "plt.plot(t, s)"
      ],
      "execution_count": null,
      "outputs": []
    },
    {
      "cell_type": "markdown",
      "metadata": {
        "id": "oJ6ZL7YZMtVR",
        "colab_type": "text"
      },
      "source": [
        "### seaborn"
      ]
    },
    {
      "cell_type": "markdown",
      "metadata": {
        "id": "qx4vLm9wQs2f",
        "colab_type": "text"
      },
      "source": [
        "seabornはmatplotlibと同様にデータの可視化を行える。matplotlibが一般的な数値データを可視化することができるのに対し、seabornは統計データの処理をよりうまく扱えるようになっている。matplotlbでも作成はできるが手間のかかる視覚化を簡単に行える。"
      ]
    },
    {
      "cell_type": "code",
      "metadata": {
        "id": "VGyxObqUQY6-",
        "colab_type": "code",
        "colab": {}
      },
      "source": [
        "import seaborn as sns\n",
        "import matplotlib.pyplot as plt\n",
        "\n",
        "iris = sns.load_dataset(\"iris\")\n",
        "g = sns.PairGrid(iris, hue=\"species\")\n",
        "g.map_diag(plt.hist)\n",
        "g.map_offdiag(plt.scatter)\n",
        "g.add_legend();"
      ],
      "execution_count": null,
      "outputs": []
    },
    {
      "cell_type": "markdown",
      "metadata": {
        "id": "mdW55YvDMvZ0",
        "colab_type": "text"
      },
      "source": [
        "### scikit-learn"
      ]
    },
    {
      "cell_type": "markdown",
      "metadata": {
        "id": "Pp7W_x_gRvYS",
        "colab_type": "text"
      },
      "source": [
        "scikit-learnは様々な機械学習モデルを実際のデータに対して訓練し、訓練したモデルを実際の未知のデータに簡単に適用できるライブラリである。"
      ]
    },
    {
      "cell_type": "markdown",
      "metadata": {
        "id": "XJN9-GkkSDxD",
        "colab_type": "text"
      },
      "source": [
        "例えば、次のプログラムでは、線形回帰モデルをデータに学習させ、学習データには含まれないデータがどのような値になるかを予測させている。"
      ]
    },
    {
      "cell_type": "code",
      "metadata": {
        "id": "ZKpKOKEnQIXT",
        "colab_type": "code",
        "colab": {}
      },
      "source": [
        "from sklearn import linear_model\n",
        "\n",
        "reg = linear_model.LinearRegression()\n",
        "reg.fit([[0, 0], [1, 1], [2, 2]], [0, 1, 2])\n",
        "\n",
        "reg.predict([[3.2, 2.8]])"
      ],
      "execution_count": null,
      "outputs": []
    }
  ]
}